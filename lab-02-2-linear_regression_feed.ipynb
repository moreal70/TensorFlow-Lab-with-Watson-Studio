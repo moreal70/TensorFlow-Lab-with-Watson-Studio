{
    "nbformat_minor": 2, 
    "cells": [
        {
            "source": "---\n* *** \uc6d0\ubcf8 \uc18c\uc2a4\ub294 \ud64d\ucf69\uacfc\uae30\ub300 \uae40\uc131\ud6c8 \uad50\uc218\ub2d8\uc758  [Github link](https://github.com/hunkim/DeepLearningZeroToAll)\ub97c \ucc38\uc870\ud558\uc138\uc694 ***     \n* *** Watson studio notebook \uc5d0\uc11c \uc791\uc5c5 \uac00\ub2a5\ud558\ub3c4\ub85d \uc218\uc815\ud558\uc600\uc73c\uba70***\n* *** \ud55c\uae00\ub85c \uc124\uba85\ub41c \ubd80\ubd84\uc740 \uc81c\uac00 \uc2a4\ud130\ub514 \ud558\uba74\uc11c \uc774\ud574\ud55c \ub0b4\uc6a9\uc744 \ucd94\uac00\ud55c \uac83\uc785\ub2c8\ub2e4. ***\n---", 
            "cell_type": "markdown", 
            "metadata": {}
        }, 
        {
            "source": "## Lab-02-2 linear regression feed\n\n* ***\ubc14\ub85c \uc55e\uc5d0 Lab 2-1 \ud558\uace0 \ucc98\ub9ac\ud558\ub294 \ub85c\uc9c1\uc740 \ub3d9\uc77c\ud569\ub2c8\ub2e4 ***\n* ***\ub2e8, placeholder \ub77c\ub294 \ud568\uc218\ub97c \uc0ac\uc6a9\ud574\uc11c  input value \ub97c \ubcc0\uc218\ucc98\ub9ac\ub97c \ud558\ub3c4\ub85d \ud588\uace0 ***\n* ***\uc55e\uc5d0\uc11c \uc598\uae30\ud588\ub4ef\uc774 \uc774\uc81c \uc608\uce21\uc744 \ud55c\ubc88 \ud574\ubcf4\ub294 \uac81\ub2c8\ub2e4.***", 
            "cell_type": "markdown", 
            "metadata": {}
        }, 
        {
            "execution_count": 1, 
            "cell_type": "code", 
            "metadata": {}, 
            "outputs": [], 
            "source": "import tensorflow as tf\ntf.set_random_seed(777)  # for reprducibilty"
        }, 
        {
            "source": "* ***W,b \uc5d0 \uc774\ub984\uc744 \ubd80\uc5ec\ud558\uace0, \uc2dc\uc791 \uac12\uc744 random\uc73c\ub85c \uc0dd\uc131\ud569\ub2c8\ub2e4.***", 
            "cell_type": "markdown", 
            "metadata": {}
        }, 
        {
            "execution_count": 2, 
            "cell_type": "code", 
            "metadata": {}, 
            "outputs": [], 
            "source": "# Try to find value for W and b to compute y_data = x_data * W + b  \n# We know that W should be 1 and b should be 0\n# But let's TensorFlow figure it out \nW = tf.Variable(tf.random_normal([1]), name='weight')\nb = tf.Variable(tf.random_normal([1]), name='bias')"
        }, 
        {
            "source": "* ***\uac12\uc774 \uc5b4\ub5bb\uac8c \ub4e4\uc5b4\uc62c\uc9c0 \ubaa8\ub974\ub2c8, \ud589\ub82c\uc758 \ud06c\uae30\ub97c None, \uc989 \ubaa8\ub978\ub2e4\ub85c \uc815\uc758\ud569\ub2c8\ub2e4.***", 
            "cell_type": "markdown", 
            "metadata": {}
        }, 
        {
            "execution_count": 3, 
            "cell_type": "code", 
            "metadata": {}, 
            "outputs": [], 
            "source": "#### Now we can use X and Y in place of x_data and y_data\n#### placeholders for a tensor that will be always fed using feed_dict\n#### See http://stackoverflow.com/questions/36693740/\nX = tf.placeholder(tf.float32, shape=[None])\nY = tf.placeholder(tf.float32, shape=[None])"
        }, 
        {
            "source": "* ***\uc55e\uc5d0 Lab2-1\uacfc \ub3d9\uc77c\ud569\ub2c8\ub2e4.***", 
            "cell_type": "markdown", 
            "metadata": {}
        }, 
        {
            "execution_count": 4, 
            "cell_type": "code", 
            "metadata": {}, 
            "outputs": [], 
            "source": "# Out hypothesis XW+b\nhypothesis = X * W + b\n\n# cost/loss function\ncost = tf.reduce_mean(tf.square(hypothesis - Y))"
        }, 
        {
            "execution_count": 5, 
            "cell_type": "code", 
            "metadata": {}, 
            "outputs": [], 
            "source": "optimizer = tf.train.GradientDescentOptimizer(learning_rate=0.01)\ntrain = optimizer.minimize(cost)"
        }, 
        {
            "execution_count": 6, 
            "cell_type": "code", 
            "metadata": {}, 
            "outputs": [], 
            "source": "# Launch the graph in a session.\nsess = tf.Session()\n# Initializes global variables in the graph.\nsess.run(tf.global_variables_initializer())"
        }, 
        {
            "source": "* ***Lab2-1\uacfc \ub3d9\uc77c\ud558\uc9c0\ub9cc, run \ud560\ub54c training data\ub97c \ubc1b\uc2b5\ub2c8\ub2e4.***", 
            "cell_type": "markdown", 
            "metadata": {}
        }, 
        {
            "execution_count": 7, 
            "cell_type": "code", 
            "metadata": {}, 
            "outputs": [
                {
                    "output_type": "stream", 
                    "name": "stdout", 
                    "text": "0 3.52408 [ 2.12867713] [-0.85235667]\n200 0.0703044 [ 1.30721486] [-0.69837117]\n400 0.0268456 [ 1.18983996] [-0.4315508]\n600 0.010251 [ 1.11730957] [-0.26667204]\n800 0.00391432 [ 1.07249022] [-0.16478711]\n1000 0.00149468 [ 1.04479456] [-0.10182849]\n1200 0.00057074 [ 1.02768016] [-0.06292368]\n1400 0.000217935 [ 1.01710474] [-0.03888312]\n1600 8.32203e-05 [ 1.01056981] [-0.02402747]\n1800 3.17767e-05 [ 1.00653136] [-0.01484741]\n2000 1.21343e-05 [ 1.00403607] [-0.00917497]\n"
                }
            ], 
            "source": "for step in range(2001):\n    cost_val, W_val, b_val, _ =  sess.run([cost, W, b, train], feed_dict={X: [1, 2, 3], Y: [1, 2, 3]})\n    if step % 200 == 0:\n        print(step, cost_val, W_val, b_val)\n"
        }, 
        {
            "source": "##### \uacb0\uacfc\ub294 1,0 \uc73c\ub85c \uc218\ub834\ud558\uc9c0\uc694. ", 
            "cell_type": "markdown", 
            "metadata": {}
        }, 
        {
            "source": "###  \uc790 ! \uc774\uc81c \uc6b0\ub9ac\uc758 \ubaa8\ub378\uc744 \uac00\uc9c0\uace0 \uc2dc\ud5d8(\uc608\uce21)\uc744 \ud574\ubcf4\uaca0\uc2b5\ub2c8\ub2e4.", 
            "cell_type": "markdown", 
            "metadata": {}
        }, 
        {
            "execution_count": 8, 
            "cell_type": "code", 
            "metadata": {}, 
            "outputs": [
                {
                    "output_type": "stream", 
                    "name": "stdout", 
                    "text": "[ 5.0110054]\n[ 2.50091505]\n[ 1.49687922  3.50495124]\n"
                }
            ], 
            "source": "print(sess.run(hypothesis, feed_dict={X: [5]}))\nprint(sess.run(hypothesis, feed_dict={X: [2.5]}))\nprint(sess.run(hypothesis, feed_dict={X: [1.5, 3.5]}))"
        }, 
        {
            "source": "* ***\uc8fc\uc5b4\uc9c4 x \uac12\uacfc \ub3d9\uc77c\ud55c y \uac12\uc774 \ub098\uc640\uc57c\uc9c0\uc694***\n* ***\uc5ec\uae30\uc11c \uc624\ud574\ud558\uba74 \uc548\ub418\ub294 \uac83\uc774,,, W,b \uac00 \uadfc\uc0ac\uce58\ub85c \uc815\ud574\uc84c\uae30 \ub54c\ubb38\uc5d0  \uc608\uce21\uce58\ub3c4 \uc815\ud655\ud558\uac8c \uc77c\uce58 \ud558\uc9c0\ub294 \uc54a\uc2b5\ub2c8\ub2e4.***", 
            "cell_type": "markdown", 
            "metadata": {}
        }, 
        {
            "source": "### \uc790 ! \uc774\uc81c \uc0c8\ub85c\uc6b4 training \ub370\uc774\ud130\ub97c \uac00\uc9c0\uace0, \uc190\uc27d\uac8c  \uc0c8\ub85c\uc6b4 \ubaa8\ub378\uc744 \ub9cc\ub4e4\uc5b4 \ubcf4\uaca0\uc2b5\ub2c8\ub2e4.", 
            "cell_type": "markdown", 
            "metadata": {}
        }, 
        {
            "execution_count": 9, 
            "cell_type": "code", 
            "metadata": {}, 
            "outputs": [
                {
                    "output_type": "stream", 
                    "name": "stdout", 
                    "text": "0 1.20359 [ 1.06969857] [ 0.01276637]\n200 0.0499406 [ 1.14459527] [ 0.5779649]\n400 0.0128862 [ 1.07344985] [ 0.83482295]\n600 0.00332502 [ 1.03730989] [ 0.96529907]\n800 0.000857956 [ 1.01895225] [ 1.03157616]\n1000 0.000221378 [ 1.00962698] [ 1.06524324]\n1200 5.71206e-05 [ 1.00489008] [ 1.08234489]\n1400 1.47405e-05 [ 1.0024842] [ 1.09103119]\n1600 3.80434e-06 [ 1.00126207] [ 1.09544384]\n1800 9.81556e-07 [ 1.00064111] [ 1.09768546]\n2000 2.5373e-07 [ 1.00032604] [ 1.09882331]\n"
                }
            ], 
            "source": "for step in range(2001):\n    cost_val, W_val, b_val, _ = \\\n        sess.run([cost, W, b, train],\n                 feed_dict={X: [1, 2, 3, 4, 5],\n                            Y: [2.1, 3.1, 4.1, 5.1, 6.1]})\n    if step % 200 == 0:\n        print(step, cost_val, W_val, b_val)"
        }, 
        {
            "source": "* ***\uc0c8\ub85c\uc6b4 W,b\uac00 \uad6c\ud574\uc84c\ub098\uc694 ? ***\n* ***\ub2e4\uc2dc \ud14c\uc2a4\ud2b8 (\uc608\uce21) \ud574\ubd05\uc2dc\ub2e4.***", 
            "cell_type": "markdown", 
            "metadata": {}
        }, 
        {
            "execution_count": 10, 
            "cell_type": "code", 
            "metadata": {}, 
            "outputs": [
                {
                    "output_type": "stream", 
                    "name": "stdout", 
                    "text": "[ 6.10045338]\n[ 3.59963846]\n[ 2.59931231  4.59996414]\n"
                }
            ], 
            "source": "print(sess.run(hypothesis, feed_dict={X: [5]}))\nprint(sess.run(hypothesis, feed_dict={X: [2.5]}))\nprint(sess.run(hypothesis, feed_dict={X: [1.5, 3.5]}))"
        }, 
        {
            "source": "### \uc9c0\uae08 \ub450\uac1c\uc758 \ubaa8\ub378\uc744 \ub9cc\ub4e4\uc5c8\uc2b5\ub2c8\ub2e4. \ub9cc\uc57d \uc774 \ubaa8\ub378\uc744  \uc800\uc7a5, \uad00\ub9ac\ud558\uace0,  \ub2e4\ub978 \uc0ac\uc6a9\uc790\ub4e4\uc5d0\uac8c \uacf5\uc720\ud558\uace0 \uc2f6\ub2e4\uba74 ?\n*** [IBM CLoud site](https://console.bluemix.net/catalog/services/machine-learning) \uc5d0\uc11c Watson machine learning \uc11c\ube44\uc2a4\ub97c \ud65c\uc6a9\ud558\uc2dc\uba74 \ub429\ub2c8\ub2e4. ***", 
            "cell_type": "markdown", 
            "metadata": {}
        }
    ], 
    "metadata": {
        "kernelspec": {
            "display_name": "Python 3.5", 
            "name": "python3", 
            "language": "python"
        }, 
        "language_info": {
            "mimetype": "text/x-python", 
            "nbconvert_exporter": "python", 
            "version": "3.5.4", 
            "name": "python", 
            "file_extension": ".py", 
            "pygments_lexer": "ipython3", 
            "codemirror_mode": {
                "version": 3, 
                "name": "ipython"
            }
        }
    }, 
    "nbformat": 4
}