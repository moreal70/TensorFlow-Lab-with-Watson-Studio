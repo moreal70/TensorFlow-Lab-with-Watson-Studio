{
    "nbformat_minor": 2, 
    "cells": [
        {
            "source": "---\n* *** \uc6d0\ubcf8 \uc18c\uc2a4\ub294 \ud64d\ucf69\uacfc\uae30\ub300 \uae40\uc131\ud6c8 \uad50\uc218\ub2d8\uc758  [Github link](https://github.com/hunkim/DeepLearningZeroToAll)\ub97c \ucc38\uc870\ud558\uc138\uc694 ***     \n* *** Watson studio notebook \uc5d0\uc11c \uc791\uc5c5 \uac00\ub2a5\ud558\ub3c4\ub85d \uc218\uc815\ud558\uc600\uc73c\uba70***\n* *** \ud55c\uae00\ub85c \uc124\uba85\ub41c \ubd80\ubd84\uc740 \uc81c\uac00 \uc2a4\ud130\ub514 \ud558\uba74\uc11c \uc774\ud574\ud55c \ub0b4\uc6a9\uc744 \ucd94\uac00\ud55c \uac83\uc785\ub2c8\ub2e4. ***\n---", 
            "cell_type": "markdown", 
            "metadata": {}
        }, 
        {
            "source": "## \uae30\uc874 \uc18c\uc2a4\uc5d0\ub2e4  IRIS \ubd84\uc11d\uc744 \uc704\ud55c \ucf54\ub4dc\ub97c \ub123\uc5b4\ubd24\uc2b5\ub2c8\ub2e4.  (\uc790\uc791 ^^)", 
            "cell_type": "markdown", 
            "metadata": {}
        }, 
        {
            "source": "* ***library \uba87\uac1c\ub97c \ub354 \ucd94\uac00\ud569\ub2c8\ub2e4.***\n* ***\ud639\uc2dc import \uc5d0\ub7ec\uac00 \ub098\uba74 pip install ~~  \uc124\uce58\ud574\uc90d\ub2c8\ub2e4.***", 
            "cell_type": "markdown", 
            "metadata": {}
        }, 
        {
            "execution_count": 2, 
            "cell_type": "code", 
            "metadata": {}, 
            "outputs": [
                {
                    "output_type": "stream", 
                    "name": "stdout", 
                    "text": "Collecting mglearn\n  Downloading https://files.pythonhosted.org/packages/87/6e/83de2a2279bb4e076f330e8c1c18f80e036e4e1097aa0a8288c4c7fd198f/mglearn-0.1.6.tar.gz (541kB)\n\u001b[K    100% |\u2588\u2588\u2588\u2588\u2588\u2588\u2588\u2588\u2588\u2588\u2588\u2588\u2588\u2588\u2588\u2588\u2588\u2588\u2588\u2588\u2588\u2588\u2588\u2588\u2588\u2588\u2588\u2588\u2588\u2588\u2588\u2588| 542kB 1.6MB/s eta 0:00:01\n\u001b[?25hRequirement not upgraded as not directly required: numpy in /opt/conda/envs/DSX-Python35/lib/python3.5/site-packages (from mglearn)\nRequirement not upgraded as not directly required: matplotlib in /opt/conda/envs/DSX-Python35/lib/python3.5/site-packages (from mglearn)\nRequirement not upgraded as not directly required: scikit-learn in /opt/conda/envs/DSX-Python35/lib/python3.5/site-packages (from mglearn)\nRequirement not upgraded as not directly required: pandas in /opt/conda/envs/DSX-Python35/lib/python3.5/site-packages (from mglearn)\nRequirement not upgraded as not directly required: pillow in /opt/conda/envs/DSX-Python35/lib/python3.5/site-packages (from mglearn)\nRequirement not upgraded as not directly required: cycler in /opt/conda/envs/DSX-Python35/lib/python3.5/site-packages (from mglearn)\nRequirement not upgraded as not directly required: six>=1.10 in /opt/conda/envs/DSX-Python35/lib/python3.5/site-packages (from matplotlib->mglearn)\nRequirement not upgraded as not directly required: python-dateutil>=2.0 in /opt/conda/envs/DSX-Python35/lib/python3.5/site-packages (from matplotlib->mglearn)\nRequirement not upgraded as not directly required: pytz in /opt/conda/envs/DSX-Python35/lib/python3.5/site-packages (from matplotlib->mglearn)\nRequirement not upgraded as not directly required: pyparsing!=2.0.4,!=2.1.2,!=2.1.6,>=2.0.1 in /opt/conda/envs/DSX-Python35/lib/python3.5/site-packages (from matplotlib->mglearn)\nRequirement not upgraded as not directly required: olefile in /opt/conda/envs/DSX-Python35/lib/python3.5/site-packages (from pillow->mglearn)\nBuilding wheels for collected packages: mglearn\n  Running setup.py bdist_wheel for mglearn ... \u001b[?25ldone\n\u001b[?25h  Stored in directory: /home/dsxuser/.cache/pip/wheels/3b/81/34/a54d61d5d108dfcb016bcd8f4f7d8cc0538994f07704714b8d\nSuccessfully built mglearn\nInstalling collected packages: mglearn\nSuccessfully installed mglearn-0.1.6\n"
                }
            ], 
            "source": "!pip install mglearn"
        }, 
        {
            "execution_count": 3, 
            "cell_type": "code", 
            "metadata": {}, 
            "outputs": [], 
            "source": "# Lab 3 Minimizing Cost\nimport tensorflow as tf\nimport numpy as np\nimport matplotlib as plt\nimport pandas as pd\nimport mglearn\nfrom sklearn.model_selection import train_test_split\nfrom sklearn.datasets import load_iris"
        }, 
        {
            "source": "* ***sklearn \uc5d0\uc11c \uc81c\uacf5\ud558\ub294 \uc5f0\uc2b5\uc6a9 \ub370\uc774\ud130\ub97c \ub85c\ub529\ud55c \ub2e4\uc74c\uc5d0  train / test \ub97c \ub098\ub215\ub2c8\ub2e4.***\n* ***\uc774\ub54c \ube44\uc728\uc740 default \ub85c 25%\uba70, parameter \ub97c \ud1b5\ud574 \ubcc0\uacbd\uc774 \uac00\ub2a5\ud569\ub2c8\ub2e4.***", 
            "cell_type": "markdown", 
            "metadata": {}
        }, 
        {
            "execution_count": 4, 
            "cell_type": "code", 
            "metadata": {}, 
            "outputs": [
                {
                    "output_type": "stream", 
                    "name": "stdout", 
                    "text": "(38, 4) (38,)\n(112, 4) (112,)\n"
                }, 
                {
                    "execution_count": 4, 
                    "metadata": {}, 
                    "data": {
                        "text/plain": "TensorShape([Dimension(38), Dimension(4)])"
                    }, 
                    "output_type": "execute_result"
                }
            ], 
            "source": "iris_dataset = load_iris()\nX_train, X_test, y_train, y_test = train_test_split(\n    iris_dataset['data'], iris_dataset['target'], random_state=0) #,test_size=0.25 default)\nprint(X_test.shape, y_test.shape)\nprint(X_train.shape, y_train.shape)\nX_test = tf.convert_to_tensor(X_test, dtype=tf.float32)\ny_test = tf.convert_to_tensor(y_test, dtype=tf.float32)\nX_train = tf.convert_to_tensor(X_train, dtype=tf.float32)\ny_train = tf.convert_to_tensor(y_train, dtype=tf.float32)\nX_test.get_shape()"
        }, 
        {
            "execution_count": 6, 
            "cell_type": "code", 
            "metadata": {}, 
            "outputs": [
                {
                    "output_type": "stream", 
                    "name": "stdout", 
                    "text": "<class 'tensorflow.python.framework.ops.Tensor'>\n"
                }, 
                {
                    "execution_count": 6, 
                    "metadata": {}, 
                    "data": {
                        "text/plain": "TensorShape([Dimension(112), Dimension(4)])"
                    }, 
                    "output_type": "execute_result"
                }
            ], 
            "source": "print(type(X_train))\nX_train.get_shape()"
        }, 
        {
            "execution_count": 7, 
            "cell_type": "code", 
            "metadata": {}, 
            "outputs": [], 
            "source": "tf.set_random_seed(777)  # for reproducibility\nW = tf.Variable(tf.random_normal([4,1]),name='weight')\nhypothesis = tf.matmul(X_train,W)\ncost = tf.reduce_mean(tf.square(hypothesis - y_train))\noptimizer = tf.train.GradientDescentOptimizer(learning_rate=1e-5)\ntrain = optimizer.minimize(cost)\n\nsess = tf.Session()\nsess.run(tf.global_variables_initializer())"
        }, 
        {
            "source": "* ***learning \uc744 run\ud574\ubcf4\uaca0\uc2b5\ub2c8\ub2e4.***", 
            "cell_type": "markdown", 
            "metadata": {}
        }, 
        {
            "execution_count": 8, 
            "cell_type": "code", 
            "metadata": {}, 
            "outputs": [
                {
                    "output_type": "stream", 
                    "name": "stdout", 
                    "text": "0 19.2174 [array([ 0.58812624], dtype=float32), array([-0.55283058], dtype=float32), array([ 0.83458424], dtype=float32), array([-0.07457565], dtype=float32)]\n1 19.1747 [array([ 0.58764565], dtype=float32), array([-0.55305672], dtype=float32), array([ 0.83422357], dtype=float32), array([-0.07469839], dtype=float32)]\n2 19.1322 [array([ 0.58716571], dtype=float32), array([-0.55328256], dtype=float32), array([ 0.83386332], dtype=float32), array([-0.07482099], dtype=float32)]\n3 19.0897 [array([ 0.58668637], dtype=float32), array([-0.5535081], dtype=float32), array([ 0.83350348], dtype=float32), array([-0.07494345], dtype=float32)]\n4 19.0473 [array([ 0.58620763], dtype=float32), array([-0.55373335], dtype=float32), array([ 0.83314407], dtype=float32), array([-0.07506577], dtype=float32)]\n5 19.005 [array([ 0.58572948], dtype=float32), array([-0.55395824], dtype=float32), array([ 0.83278507], dtype=float32), array([-0.07518795], dtype=float32)]\n6 18.9629 [array([ 0.58525193], dtype=float32), array([-0.55418283], dtype=float32), array([ 0.83242649], dtype=float32), array([-0.07530999], dtype=float32)]\n7 18.9208 [array([ 0.58477503], dtype=float32), array([-0.55440712], dtype=float32), array([ 0.83206832], dtype=float32), array([-0.0754319], dtype=float32)]\n8 18.8789 [array([ 0.58429873], dtype=float32), array([-0.55463111], dtype=float32), array([ 0.83171058], dtype=float32), array([-0.07555366], dtype=float32)]\n9 18.837 [array([ 0.58382303], dtype=float32), array([-0.55485481], dtype=float32), array([ 0.83135325], dtype=float32), array([-0.07567529], dtype=float32)]\n10 18.7952 [array([ 0.58334792], dtype=float32), array([-0.55507821], dtype=float32), array([ 0.83099633], dtype=float32), array([-0.07579678], dtype=float32)]\n11 18.7536 [array([ 0.5828734], dtype=float32), array([-0.55530131], dtype=float32), array([ 0.83063984], dtype=float32), array([-0.07591814], dtype=float32)]\n12 18.7121 [array([ 0.58239949], dtype=float32), array([-0.55552411], dtype=float32), array([ 0.83028376], dtype=float32), array([-0.07603935], dtype=float32)]\n13 18.6706 [array([ 0.58192623], dtype=float32), array([-0.55574661], dtype=float32), array([ 0.8299281], dtype=float32), array([-0.07616043], dtype=float32)]\n14 18.6292 [array([ 0.58145356], dtype=float32), array([-0.55596882], dtype=float32), array([ 0.82957286], dtype=float32), array([-0.07628137], dtype=float32)]\n15 18.588 [array([ 0.58098149], dtype=float32), array([-0.55619073], dtype=float32), array([ 0.82921803], dtype=float32), array([-0.07640217], dtype=float32)]\n16 18.5469 [array([ 0.58051002], dtype=float32), array([-0.55641234], dtype=float32), array([ 0.82886362], dtype=float32), array([-0.07652284], dtype=float32)]\n17 18.5058 [array([ 0.58003914], dtype=float32), array([-0.55663365], dtype=float32), array([ 0.82850963], dtype=float32), array([-0.07664337], dtype=float32)]\n18 18.4649 [array([ 0.57956886], dtype=float32), array([-0.55685467], dtype=float32), array([ 0.82815599], dtype=float32), array([-0.07676376], dtype=float32)]\n19 18.4241 [array([ 0.57909918], dtype=float32), array([-0.55707538], dtype=float32), array([ 0.82780278], dtype=float32), array([-0.07688402], dtype=float32)]\n20 18.3833 [array([ 0.57863009], dtype=float32), array([-0.5572958], dtype=float32), array([ 0.82744998], dtype=float32), array([-0.07700414], dtype=float32)]\n21 18.3428 [array([ 0.5781616], dtype=float32), array([-0.55751586], dtype=float32), array([ 0.82709759], dtype=float32), array([-0.07712413], dtype=float32)]\n22 18.3022 [array([ 0.5776937], dtype=float32), array([-0.55773562], dtype=float32), array([ 0.82674563], dtype=float32), array([-0.07724398], dtype=float32)]\n23 18.2618 [array([ 0.5772264], dtype=float32), array([-0.55795509], dtype=float32), array([ 0.82639408], dtype=float32), array([-0.07736369], dtype=float32)]\n24 18.2215 [array([ 0.5767597], dtype=float32), array([-0.55817425], dtype=float32), array([ 0.82604295], dtype=float32), array([-0.07748327], dtype=float32)]\n25 18.1812 [array([ 0.57629359], dtype=float32), array([-0.55839318], dtype=float32), array([ 0.82569224], dtype=float32), array([-0.07760271], dtype=float32)]\n26 18.1411 [array([ 0.57582808], dtype=float32), array([-0.55861181], dtype=float32), array([ 0.82534194], dtype=float32), array([-0.07772201], dtype=float32)]\n27 18.1012 [array([ 0.57536316], dtype=float32), array([-0.55883014], dtype=float32), array([ 0.824992], dtype=float32), array([-0.07784119], dtype=float32)]\n28 18.0612 [array([ 0.57489884], dtype=float32), array([-0.55904818], dtype=float32), array([ 0.82464248], dtype=float32), array([-0.07796022], dtype=float32)]\n29 18.0214 [array([ 0.57443511], dtype=float32), array([-0.55926591], dtype=float32), array([ 0.82429338], dtype=float32), array([-0.07807913], dtype=float32)]\n30 17.9817 [array([ 0.57397199], dtype=float32), array([-0.55948335], dtype=float32), array([ 0.82394469], dtype=float32), array([-0.0781979], dtype=float32)]\n31 17.942 [array([ 0.57350945], dtype=float32), array([-0.55970049], dtype=float32), array([ 0.82359642], dtype=float32), array([-0.07831653], dtype=float32)]\n32 17.9025 [array([ 0.57304746], dtype=float32), array([-0.55991733], dtype=float32), array([ 0.82324851], dtype=float32), array([-0.07843503], dtype=float32)]\n33 17.863 [array([ 0.57258606], dtype=float32), array([-0.56013387], dtype=float32), array([ 0.82290101], dtype=float32), array([-0.07855339], dtype=float32)]\n34 17.8238 [array([ 0.57212526], dtype=float32), array([-0.56035012], dtype=float32), array([ 0.82255393], dtype=float32), array([-0.07867162], dtype=float32)]\n35 17.7845 [array([ 0.57166505], dtype=float32), array([-0.56056607], dtype=float32), array([ 0.82220727], dtype=float32), array([-0.07878972], dtype=float32)]\n36 17.7454 [array([ 0.57120544], dtype=float32), array([-0.56078172], dtype=float32), array([ 0.82186103], dtype=float32), array([-0.07890768], dtype=float32)]\n37 17.7063 [array([ 0.57074642], dtype=float32), array([-0.56099707], dtype=float32), array([ 0.82151514], dtype=float32), array([-0.07902551], dtype=float32)]\n38 17.6675 [array([ 0.570288], dtype=float32), array([-0.56121212], dtype=float32), array([ 0.82116967], dtype=float32), array([-0.07914321], dtype=float32)]\n39 17.6286 [array([ 0.56983012], dtype=float32), array([-0.56142688], dtype=float32), array([ 0.82082462], dtype=float32), array([-0.07926077], dtype=float32)]\n40 17.5899 [array([ 0.56937283], dtype=float32), array([-0.56164134], dtype=float32), array([ 0.82047999], dtype=float32), array([-0.0793782], dtype=float32)]\n41 17.5512 [array([ 0.56891614], dtype=float32), array([-0.56185555], dtype=float32), array([ 0.82013571], dtype=float32), array([-0.0794955], dtype=float32)]\n42 17.5126 [array([ 0.56846005], dtype=float32), array([-0.56206948], dtype=float32), array([ 0.81979185], dtype=float32), array([-0.07961266], dtype=float32)]\n43 17.4742 [array([ 0.56800449], dtype=float32), array([-0.5622831], dtype=float32), array([ 0.81944841], dtype=float32), array([-0.07972969], dtype=float32)]\n44 17.4358 [array([ 0.56754953], dtype=float32), array([-0.56249642], dtype=float32), array([ 0.81910533], dtype=float32), array([-0.07984659], dtype=float32)]\n45 17.3975 [array([ 0.56709516], dtype=float32), array([-0.56270945], dtype=float32), array([ 0.81876266], dtype=float32), array([-0.07996336], dtype=float32)]\n46 17.3594 [array([ 0.56664139], dtype=float32), array([-0.56292218], dtype=float32), array([ 0.81842041], dtype=float32), array([-0.08008], dtype=float32)]\n47 17.3213 [array([ 0.56618816], dtype=float32), array([-0.56313461], dtype=float32), array([ 0.81807858], dtype=float32), array([-0.0801965], dtype=float32)]\n48 17.2834 [array([ 0.56573552], dtype=float32), array([-0.5633468], dtype=float32), array([ 0.8177371], dtype=float32), array([-0.08031287], dtype=float32)]\n49 17.2455 [array([ 0.56528348], dtype=float32), array([-0.5635587], dtype=float32), array([ 0.81739604], dtype=float32), array([-0.08042911], dtype=float32)]\n50 17.2077 [array([ 0.56483197], dtype=float32), array([-0.56377029], dtype=float32), array([ 0.8170554], dtype=float32), array([-0.08054522], dtype=float32)]\n51 17.17 [array([ 0.56438106], dtype=float32), array([-0.56398159], dtype=float32), array([ 0.81671512], dtype=float32), array([-0.08066119], dtype=float32)]\n52 17.1324 [array([ 0.56393075], dtype=float32), array([-0.56419259], dtype=float32), array([ 0.81637526], dtype=float32), array([-0.08077704], dtype=float32)]\n53 17.0948 [array([ 0.56348097], dtype=float32), array([-0.5644033], dtype=float32), array([ 0.81603575], dtype=float32), array([-0.08089276], dtype=float32)]\n54 17.0575 [array([ 0.56303179], dtype=float32), array([-0.56461376], dtype=float32), array([ 0.81569666], dtype=float32), array([-0.08100834], dtype=float32)]\n55 17.0201 [array([ 0.56258315], dtype=float32), array([-0.56482393], dtype=float32), array([ 0.81535798], dtype=float32), array([-0.0811238], dtype=float32)]\n56 16.9829 [array([ 0.5621351], dtype=float32), array([-0.56503379], dtype=float32), array([ 0.81501967], dtype=float32), array([-0.08123913], dtype=float32)]\n57 16.9457 [array([ 0.56168765], dtype=float32), array([-0.56524336], dtype=float32), array([ 0.81468177], dtype=float32), array([-0.08135432], dtype=float32)]\n58 16.9087 [array([ 0.56124073], dtype=float32), array([-0.56545264], dtype=float32), array([ 0.81434423], dtype=float32), array([-0.08146939], dtype=float32)]\n59 16.8718 [array([ 0.56079441], dtype=float32), array([-0.56566167], dtype=float32), array([ 0.8140071], dtype=float32), array([-0.08158432], dtype=float32)]\n60 16.8349 [array([ 0.56034863], dtype=float32), array([-0.5658704], dtype=float32), array([ 0.8136704], dtype=float32), array([-0.08169913], dtype=float32)]\n61 16.7982 [array([ 0.55990344], dtype=float32), array([-0.56607884], dtype=float32), array([ 0.81333405], dtype=float32), array([-0.0818138], dtype=float32)]\n62 16.7614 [array([ 0.55945879], dtype=float32), array([-0.56628698], dtype=float32), array([ 0.81299812], dtype=float32), array([-0.08192834], dtype=float32)]\n63 16.7249 [array([ 0.55901474], dtype=float32), array([-0.56649488], dtype=float32), array([ 0.81266254], dtype=float32), array([-0.08204276], dtype=float32)]\n64 16.6884 [array([ 0.55857122], dtype=float32), array([-0.56670249], dtype=float32), array([ 0.81232738], dtype=float32), array([-0.08215705], dtype=float32)]\n65 16.652 [array([ 0.5581283], dtype=float32), array([-0.56690979], dtype=float32), array([ 0.81199259], dtype=float32), array([-0.0822712], dtype=float32)]\n66 16.6157 [array([ 0.55768591], dtype=float32), array([-0.5671168], dtype=float32), array([ 0.8116582], dtype=float32), array([-0.08238523], dtype=float32)]\n67 16.5794 [array([ 0.55724412], dtype=float32), array([-0.56732357], dtype=float32), array([ 0.81132418], dtype=float32), array([-0.08249914], dtype=float32)]\n68 16.5433 [array([ 0.55680287], dtype=float32), array([-0.56753004], dtype=float32), array([ 0.81099057], dtype=float32), array([-0.08261291], dtype=float32)]\n69 16.5072 [array([ 0.55636221], dtype=float32), array([-0.56773621], dtype=float32), array([ 0.81065732], dtype=float32), array([-0.08272655], dtype=float32)]\n70 16.4713 [array([ 0.55592209], dtype=float32), array([-0.56794208], dtype=float32), array([ 0.81032449], dtype=float32), array([-0.08284007], dtype=float32)]\n71 16.4353 [array([ 0.55548251], dtype=float32), array([-0.56814772], dtype=float32), array([ 0.80999202], dtype=float32), array([-0.08295346], dtype=float32)]\n72 16.3997 [array([ 0.55504352], dtype=float32), array([-0.56835306], dtype=float32), array([ 0.80965996], dtype=float32), array([-0.08306672], dtype=float32)]\n73 16.364 [array([ 0.55460507], dtype=float32), array([-0.5685581], dtype=float32), array([ 0.80932826], dtype=float32), array([-0.08317986], dtype=float32)]\n74 16.3283 [array([ 0.55416721], dtype=float32), array([-0.5687629], dtype=float32), array([ 0.80899698], dtype=float32), array([-0.08329286], dtype=float32)]\n75 16.2928 [array([ 0.55372989], dtype=float32), array([-0.5689674], dtype=float32), array([ 0.80866605], dtype=float32), array([-0.08340574], dtype=float32)]\n76 16.2574 [array([ 0.55329311], dtype=float32), array([-0.56917161], dtype=float32), array([ 0.80833554], dtype=float32), array([-0.08351849], dtype=float32)]\n77 16.2222 [array([ 0.55285692], dtype=float32), array([-0.56937557], dtype=float32), array([ 0.80800539], dtype=float32), array([-0.08363111], dtype=float32)]\n78 16.1868 [array([ 0.55242127], dtype=float32), array([-0.56957924], dtype=float32), array([ 0.80767566], dtype=float32), array([-0.08374361], dtype=float32)]\n79 16.1517 [array([ 0.55198616], dtype=float32), array([-0.56978261], dtype=float32), array([ 0.80734628], dtype=float32), array([-0.08385598], dtype=float32)]\n80 16.1167 [array([ 0.55155164], dtype=float32), array([-0.56998575], dtype=float32), array([ 0.80701727], dtype=float32), array([-0.08396822], dtype=float32)]\n81 16.0816 [array([ 0.55111766], dtype=float32), array([-0.57018858], dtype=float32), array([ 0.80668867], dtype=float32), array([-0.08408034], dtype=float32)]\n82 16.0468 [array([ 0.55068421], dtype=float32), array([-0.57039112], dtype=float32), array([ 0.80636042], dtype=float32), array([-0.08419233], dtype=float32)]\n83 16.012 [array([ 0.55025136], dtype=float32), array([-0.57059342], dtype=float32), array([ 0.8060326], dtype=float32), array([-0.08430419], dtype=float32)]\n84 15.9772 [array([ 0.54981905], dtype=float32), array([-0.57079542], dtype=float32), array([ 0.80570513], dtype=float32), array([-0.08441593], dtype=float32)]\n85 15.9426 [array([ 0.54938728], dtype=float32), array([-0.57099712], dtype=float32), array([ 0.80537802], dtype=float32), array([-0.08452755], dtype=float32)]\n86 15.908 [array([ 0.54895604], dtype=float32), array([-0.57119858], dtype=float32), array([ 0.80505133], dtype=float32), array([-0.08463904], dtype=float32)]\n87 15.8735 [array([ 0.54852539], dtype=float32), array([-0.57139975], dtype=float32), array([ 0.80472499], dtype=float32), array([-0.08475041], dtype=float32)]\n88 15.8392 [array([ 0.54809529], dtype=float32), array([-0.57160068], dtype=float32), array([ 0.80439901], dtype=float32), array([-0.08486164], dtype=float32)]\n89 15.8048 [array([ 0.54766572], dtype=float32), array([-0.5718013], dtype=float32), array([ 0.80407345], dtype=float32), array([-0.08497275], dtype=float32)]\n90 15.7708 [array([ 0.54723668], dtype=float32), array([-0.57200164], dtype=float32), array([ 0.80374825], dtype=float32), array([-0.08508375], dtype=float32)]\n91 15.7366 [array([ 0.54680818], dtype=float32), array([-0.57220173], dtype=float32), array([ 0.8034234], dtype=float32), array([-0.08519461], dtype=float32)]\n92 15.7026 [array([ 0.54638022], dtype=float32), array([-0.57240152], dtype=float32), array([ 0.80309898], dtype=float32), array([-0.08530535], dtype=float32)]\n93 15.6686 [array([ 0.54595286], dtype=float32), array([-0.57260108], dtype=float32), array([ 0.80277491], dtype=float32), array([-0.08541596], dtype=float32)]\n94 15.6347 [array([ 0.54552603], dtype=float32), array([-0.57280034], dtype=float32), array([ 0.80245119], dtype=float32), array([-0.08552645], dtype=float32)]\n95 15.6009 [array([ 0.54509974], dtype=float32), array([-0.57299936], dtype=float32), array([ 0.8021279], dtype=float32), array([-0.08563682], dtype=float32)]\n96 15.5672 [array([ 0.54467398], dtype=float32), array([-0.57319808], dtype=float32), array([ 0.80180496], dtype=float32), array([-0.08574706], dtype=float32)]\n97 15.5336 [array([ 0.54424876], dtype=float32), array([-0.5733965], dtype=float32), array([ 0.80148238], dtype=float32), array([-0.08585718], dtype=float32)]\n98 15.5001 [array([ 0.54382408], dtype=float32), array([-0.57359469], dtype=float32), array([ 0.80116016], dtype=float32), array([-0.08596717], dtype=float32)]\n99 15.4666 [array([ 0.54339993], dtype=float32), array([-0.57379258], dtype=float32), array([ 0.80083835], dtype=float32), array([-0.08607704], dtype=float32)]\n[[ 0.54297632]\n [-0.57399023]\n [ 0.8005169 ]\n [-0.08618679]]\n"
                }
            ], 
            "source": "for step in range(100):\n#     print(step, sess.run(W)\n    print(step, sess.run(cost),sess.run([W[0],W[1],W[2],W[3]]))\n    sess.run(train)\nprint(sess.run(W))"
        }, 
        {
            "source": "* ***Prediction \uc744 \ud574\ubcf4\uace0 \uc2f6\uc740\ub370,,,, ^^***\n* ***IRIS \ud488\uc885\uc744 \ub9de\ucdb0\uc57c \ud558\ubbc0\ub85c,, \ub4a4\uc5d0 classification \uc744 \ubc30\uc6cc\uc57c \uac00\ub2a5\ud560 \ub4ef ***", 
            "cell_type": "markdown", 
            "metadata": {}
        }, 
        {
            "execution_count": 44, 
            "cell_type": "code", 
            "metadata": {}, 
            "outputs": [
                {
                    "output_type": "stream", 
                    "name": "stdout", 
                    "text": "[[1.2008336]\n [2.2288067]\n [4.980359 ]\n [1.6012868]\n [4.14963  ]\n [1.1118228]\n [4.323124 ]\n [2.531175 ]\n [2.408823 ]\n [2.5190468]\n [1.1984651]\n [2.509323 ]\n [2.0196161]\n [2.31347  ]\n [2.0183902]\n [3.9553459]\n [2.0698745]\n [1.7066395]\n [3.8584244]\n [4.7862544]\n [1.3034424]\n [1.8247921]\n [3.7031703]\n [3.541068 ]\n [1.8686763]\n [4.327667 ]\n [4.0679736]\n [2.4163399]\n [2.0675526]\n [4.024907 ]\n [1.6369485]\n [1.6779549]\n [4.345058 ]\n [1.8175353]\n [1.3166337]\n [1.8596864]\n [4.6832047]\n [1.4983492]] [2. 1. 0. 2. 0. 2. 0. 1. 1. 1. 2. 1. 1. 1. 1. 0. 1. 1. 0. 0. 2. 1. 0. 0.\n 2. 0. 0. 1. 1. 0. 2. 1. 0. 2. 2. 1. 0. 1.]\n"
                }
            ], 
            "source": "prediction = tf.matmul(X_test,W)\nprint(sess.run(prediction), sess.run(y_test))\n# print(y_test)"
        }
    ], 
    "metadata": {
        "kernelspec": {
            "display_name": "Python 3.5", 
            "name": "python3", 
            "language": "python"
        }, 
        "language_info": {
            "mimetype": "text/x-python", 
            "nbconvert_exporter": "python", 
            "version": "3.5.4", 
            "name": "python", 
            "file_extension": ".py", 
            "pygments_lexer": "ipython3", 
            "codemirror_mode": {
                "version": 3, 
                "name": "ipython"
            }
        }
    }, 
    "nbformat": 4
}