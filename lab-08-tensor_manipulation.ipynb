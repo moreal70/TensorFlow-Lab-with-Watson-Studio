{
    "nbformat_minor": 1, 
    "cells": [
        {
            "source": "---\n* *** \uc6d0\ubcf8 \uc18c\uc2a4\ub294 \ud64d\ucf69\uacfc\uae30\ub300 \uae40\uc131\ud6c8 \uad50\uc218\ub2d8\uc758  [Github link](https://github.com/hunkim/DeepLearningZeroToAll)\ub97c \ucc38\uc870\ud558\uc138\uc694 ***     \n* *** Watson studio notebook \uc5d0\uc11c \uc791\uc5c5 \uac00\ub2a5\ud558\ub3c4\ub85d \uc218\uc815\ud558\uc600\uc73c\uba70***\n* *** \ud55c\uae00\ub85c \uc124\uba85\ub41c \ubd80\ubd84\uc740 \uc81c\uac00 \uc2a4\ud130\ub514 \ud558\uba74\uc11c \uc774\ud574\ud55c \ub0b4\uc6a9\uc744 \ucd94\uac00\ud55c \uac83\uc785\ub2c8\ub2e4. ***\n---", 
            "cell_type": "markdown", 
            "metadata": {}
        }, 
        {
            "source": "# Lab 8 Tensor Manipulation\n* ***tensor \uc870\uc791\uc5d0 \ud544\uc694\ud55c \uc5ec\ub7ec\uac00\uc9c0 \ud568\uc218\ub4e4\uc744 \uc2e4\uc2b5\ud569\ub2c8\ub2e4***", 
            "cell_type": "markdown", 
            "metadata": {}
        }, 
        {
            "execution_count": 1, 
            "cell_type": "code", 
            "metadata": {}, 
            "outputs": [], 
            "source": "# https://www.tensorflow.org/api_guides/python/array_ops\nimport tensorflow as tf\nimport numpy as np\nimport pprint\ntf.set_random_seed(777)  # for reproducibility\n\npp = pprint.PrettyPrinter(indent=10,width=20)\nsess = tf.InteractiveSession()"
        }, 
        {
            "source": "## Simple Array\n* ***numpy \ub85c \uc120\uc5b8\ud55c arrary \ub97c slicing\ud558\uae30 \uc704\ud558 index \uc0ac\uc6a9\ubc95\uc744 \uc2e4\uc2b5\ud569\ub2c8\ub2e4.***", 
            "cell_type": "markdown", 
            "metadata": {}
        }, 
        {
            "execution_count": 2, 
            "cell_type": "code", 
            "metadata": {}, 
            "outputs": [
                {
                    "output_type": "stream", 
                    "name": "stdout", 
                    "text": "array([ 0.,  1.,  2.,  3.,  4.,  5.,  6.])\n1\n(7,)\n0.0 1.0 6.0\n[ 2.  3.  4.] [ 4.  5.]\n[ 0.  1.] [ 3.  4.  5.  6.]\n"
                }
            ], 
            "source": "t = np.array([0., 1., 2., 3., 4., 5., 6.])\npp.pprint(t)\nprint(t.ndim) # rank\nprint(t.shape) # shape\nprint(t[0], t[1], t[-1])\nprint(t[2:5], t[4:-1])\nprint(t[:2], t[3:])\n"
        }, 
        {
            "source": "# 2D Array\n* ***\uba87 \ucc28\uc6d0 Array \uc778\uc9c0 ?***", 
            "cell_type": "markdown", 
            "metadata": {}
        }, 
        {
            "execution_count": 3, 
            "cell_type": "code", 
            "metadata": {}, 
            "outputs": [
                {
                    "output_type": "stream", 
                    "name": "stdout", 
                    "text": "array([[  1.,   2.,   3.],\n       [  4.,   5.,   6.],\n       [  7.,   8.,   9.],\n       [ 10.,  11.,  12.]])\n2\n(4, 3)\n"
                }
            ], 
            "source": "t = np.array([[1., 2., 3.], [4., 5., 6.], [7., 8., 9.], [10., 11., 12.]])\npp.pprint(t)\nprint(t.ndim) # rank\nprint(t.shape) # shape"
        }, 
        {
            "source": "## Shape, Rank, Axis\n* ***\uc5ec\uae30\uc11c \ubd80\ud130\ub294 numpy array \uac00 \uc544\ub2c8\ub77c tensor array \uac00\uc9c0\uace0 \ud569\ub2c8\ub2e4***", 
            "cell_type": "markdown", 
            "metadata": {}
        }, 
        {
            "execution_count": 4, 
            "cell_type": "code", 
            "metadata": {}, 
            "outputs": [
                {
                    "execution_count": 4, 
                    "metadata": {}, 
                    "data": {
                        "text/plain": "array([4], dtype=int32)"
                    }, 
                    "output_type": "execute_result"
                }
            ], 
            "source": "t = tf.constant([1,2,3,4])\ntf.shape(t).eval()"
        }, 
        {
            "execution_count": 5, 
            "cell_type": "code", 
            "metadata": {}, 
            "outputs": [
                {
                    "execution_count": 5, 
                    "metadata": {}, 
                    "data": {
                        "text/plain": "<tf.Tensor 'Shape_1:0' shape=(1,) dtype=int32>"
                    }, 
                    "output_type": "execute_result"
                }
            ], 
            "source": "tf.shape(t)"
        }, 
        {
            "execution_count": 6, 
            "cell_type": "code", 
            "metadata": {}, 
            "outputs": [
                {
                    "execution_count": 6, 
                    "metadata": {}, 
                    "data": {
                        "text/plain": "array([2, 2], dtype=int32)"
                    }, 
                    "output_type": "execute_result"
                }
            ], 
            "source": "t = tf.constant([[1,2],\n                 [3,4]])\ntf.shape(t).eval()"
        }, 
        {
            "execution_count": 8, 
            "cell_type": "code", 
            "metadata": {}, 
            "outputs": [
                {
                    "execution_count": 8, 
                    "metadata": {}, 
                    "data": {
                        "text/plain": "array([2, 2, 3, 4], dtype=int32)"
                    }, 
                    "output_type": "execute_result"
                }
            ], 
            "source": "t = tf.constant([[[[1, 2, 3, 4], [5, 6, 7, 8], [9, 10, 11, 12]],[[13, 14, 15, 16], [17, 18, 19, 20], [21, 22, 23, 24]]],\n                [[[1, 2, 3, 4], [5, 6, 7, 8], [9, 10, 11, 12]],[[13, 14, 15, 16], [17, 18, 19, 20], [21, 22, 23, 24]]]])\ntf.shape(t).eval()"
        }, 
        {
            "execution_count": 9, 
            "cell_type": "code", 
            "metadata": {}, 
            "outputs": [
                {
                    "execution_count": 9, 
                    "metadata": {}, 
                    "data": {
                        "text/plain": "[[[[1, 2, 3, 4], [5, 6, 7, 8], [9, 10, 11, 12]],\n  [[13, 14, 15, 16], [17, 18, 19, 20], [21, 22, 23, 24]]]]"
                    }, 
                    "output_type": "execute_result"
                }
            ], 
            "source": "[\n    [\n        [\n            [1,2,3,4], \n            [5,6,7,8],\n            [9,10,11,12]\n        ],\n        [\n            [13,14,15,16],\n            [17,18,19,20], \n            [21,22,23,24]\n        ]\n    ]\n]"
        }, 
        {
            "source": "## Matmul VS multiply\n* ***matrix \uacf1\uacfc \ud568\uc218\uacf1\uc740 \ub2e4\ub978 \uacb0\uacfc\uac00 \ub098\uc635\ub2c8\ub2e4.***", 
            "cell_type": "markdown", 
            "metadata": {}
        }, 
        {
            "execution_count": 23, 
            "cell_type": "code", 
            "metadata": {}, 
            "outputs": [
                {
                    "execution_count": 23, 
                    "metadata": {}, 
                    "data": {
                        "text/plain": "array([2, 1], dtype=int32)"
                    }, 
                    "output_type": "execute_result"
                }
            ], 
            "source": "matrix1 = tf.constant([[3., 5]])\nmatrix2 = tf.constant([[2.],[2.]])\ntf.shape(matrix2).eval() "
        }, 
        {
            "execution_count": 24, 
            "cell_type": "code", 
            "metadata": {}, 
            "outputs": [
                {
                    "execution_count": 24, 
                    "metadata": {}, 
                    "data": {
                        "text/plain": "array([[ 16.]], dtype=float32)"
                    }, 
                    "output_type": "execute_result"
                }
            ], 
            "source": "tf.matmul(matrix1, matrix2).eval()\n# \ub450\uac1c\uac00 shape \uc774 \ub9de\uc544\uc57c \ud568"
        }, 
        {
            "execution_count": 25, 
            "cell_type": "code", 
            "metadata": {}, 
            "outputs": [
                {
                    "execution_count": 25, 
                    "metadata": {}, 
                    "data": {
                        "text/plain": "array([[  6.,  10.],\n       [  6.,  10.]], dtype=float32)"
                    }, 
                    "output_type": "execute_result"
                }
            ], 
            "source": "(matrix1*matrix2).eval()"
        }, 
        {
            "source": "## Watch out broadcasting\n* ***shape \uc774 \uc548 \ub9de\uc544\ub3c4 \uc5f0\uc0b0\uc744 \ucc98\ub9ac\ud574\uc8fc\uc9c0\ub9cc, \uc8fc\uc758\ud574\uc11c \uc0ac\uc6a9\ud574\uc57c\ud568***", 
            "cell_type": "markdown", 
            "metadata": {}
        }, 
        {
            "execution_count": 26, 
            "cell_type": "code", 
            "metadata": {}, 
            "outputs": [
                {
                    "execution_count": 26, 
                    "metadata": {}, 
                    "data": {
                        "text/plain": "array([[ 5.,  5.],\n       [ 5.,  5.]], dtype=float32)"
                    }, 
                    "output_type": "execute_result"
                }
            ], 
            "source": "matrix1 = tf.constant([[3., 3.]])\nmatrix2 = tf.constant([[2.],[2.]])\n(matrix1+matrix2).eval()"
        }, 
        {
            "execution_count": 27, 
            "cell_type": "code", 
            "metadata": {}, 
            "outputs": [
                {
                    "execution_count": 27, 
                    "metadata": {}, 
                    "data": {
                        "text/plain": "array([[ 5.,  5.]], dtype=float32)"
                    }, 
                    "output_type": "execute_result"
                }
            ], 
            "source": "matrix1 = tf.constant([[3., 3.]])\nmatrix2 = tf.constant([[2., 2.]])\n(matrix1+matrix2).eval()"
        }, 
        {
            "source": "## Random values for variable initializations ", 
            "cell_type": "markdown", 
            "metadata": {}
        }, 
        {
            "execution_count": 39, 
            "cell_type": "code", 
            "metadata": {
                "scrolled": true
            }, 
            "outputs": [
                {
                    "execution_count": 39, 
                    "metadata": {}, 
                    "data": {
                        "text/plain": "array([[ 6.38700342,  4.98519516],\n       [ 6.81639671,  4.99318647],\n       [ 5.24507952,  5.60657072]], dtype=float32)"
                    }, 
                    "output_type": "execute_result"
                }
            ], 
            "source": "tf.random_normal([3,2],5).eval()"
        }, 
        {
            "execution_count": 77, 
            "cell_type": "code", 
            "metadata": {}, 
            "outputs": [
                {
                    "execution_count": 77, 
                    "metadata": {}, 
                    "data": {
                        "text/plain": "array([[ 1.53458095,  0.34756953],\n       [ 0.93899107, -0.07680118]], dtype=float32)"
                    }, 
                    "output_type": "execute_result"
                }
            ], 
            "source": "tf.random_normal([2,2],dtype=tf.float32,mean=1).eval()"
        }, 
        {
            "execution_count": 38, 
            "cell_type": "code", 
            "metadata": {}, 
            "outputs": [
                {
                    "execution_count": 38, 
                    "metadata": {}, 
                    "data": {
                        "text/plain": "array([ 9.39475441,  6.48807001], dtype=float32)"
                    }, 
                    "output_type": "execute_result"
                }
            ], 
            "source": "tf.random_uniform([2],10).eval()"
        }, 
        {
            "execution_count": 30, 
            "cell_type": "code", 
            "metadata": {}, 
            "outputs": [
                {
                    "execution_count": 30, 
                    "metadata": {}, 
                    "data": {
                        "text/plain": "array([[ 0.16794515,  0.8436861 ,  0.97800398],\n       [ 0.67550015,  0.80318463,  0.41576755]], dtype=float32)"
                    }, 
                    "output_type": "execute_result"
                }
            ], 
            "source": "tf.random_uniform([2, 3]).eval()"
        }, 
        {
            "source": "## Reduce Mean/Sum\n* ***axis = 0  \uc0c8\ub85c\ucd95, axis=1 \uac00\ub85c\ucd95***", 
            "cell_type": "markdown", 
            "metadata": {}
        }, 
        {
            "execution_count": 48, 
            "cell_type": "code", 
            "metadata": {}, 
            "outputs": [
                {
                    "execution_count": 48, 
                    "metadata": {}, 
                    "data": {
                        "text/plain": "1"
                    }, 
                    "output_type": "execute_result"
                }
            ], 
            "source": "tf.reduce_mean([1, 2], axis=0).eval()"
        }, 
        {
            "execution_count": 51, 
            "cell_type": "code", 
            "metadata": {}, 
            "outputs": [
                {
                    "execution_count": 51, 
                    "metadata": {}, 
                    "data": {
                        "text/plain": "2.5"
                    }, 
                    "output_type": "execute_result"
                }
            ], 
            "source": "x = [[1., 2.],\n     [3., 4.]]\n\n\ntf.reduce_mean(x).eval()\n# \ucd95\uc744 \uc548\uc8fc\uba74 \uc804\uccb4\uc5d0 \ub300\ud55c \ud3c9\uade0\uc744 \ub0c5\ub2c8\ub2e4."
        }, 
        {
            "execution_count": 52, 
            "cell_type": "code", 
            "metadata": {}, 
            "outputs": [
                {
                    "execution_count": 52, 
                    "metadata": {}, 
                    "data": {
                        "text/plain": "array([ 2.,  3.], dtype=float32)"
                    }, 
                    "output_type": "execute_result"
                }
            ], 
            "source": "tf.reduce_mean(x, axis=0).eval()"
        }, 
        {
            "execution_count": 53, 
            "cell_type": "code", 
            "metadata": {}, 
            "outputs": [
                {
                    "execution_count": 53, 
                    "metadata": {}, 
                    "data": {
                        "text/plain": "array([ 1.5,  3.5], dtype=float32)"
                    }, 
                    "output_type": "execute_result"
                }
            ], 
            "source": "tf.reduce_mean(x, axis=1).eval()"
        }, 
        {
            "execution_count": 54, 
            "cell_type": "code", 
            "metadata": {}, 
            "outputs": [
                {
                    "execution_count": 54, 
                    "metadata": {}, 
                    "data": {
                        "text/plain": "array([ 1.5,  3.5], dtype=float32)"
                    }, 
                    "output_type": "execute_result"
                }
            ], 
            "source": "tf.reduce_mean(x, axis=-1).eval()"
        }, 
        {
            "execution_count": 55, 
            "cell_type": "code", 
            "metadata": {}, 
            "outputs": [
                {
                    "execution_count": 55, 
                    "metadata": {}, 
                    "data": {
                        "text/plain": "10.0"
                    }, 
                    "output_type": "execute_result"
                }
            ], 
            "source": "tf.reduce_sum(x).eval()"
        }, 
        {
            "execution_count": 56, 
            "cell_type": "code", 
            "metadata": {}, 
            "outputs": [
                {
                    "execution_count": 56, 
                    "metadata": {}, 
                    "data": {
                        "text/plain": "array([ 4.,  6.], dtype=float32)"
                    }, 
                    "output_type": "execute_result"
                }
            ], 
            "source": "tf.reduce_sum(x, axis=0).eval()"
        }, 
        {
            "execution_count": 57, 
            "cell_type": "code", 
            "metadata": {}, 
            "outputs": [
                {
                    "execution_count": 57, 
                    "metadata": {}, 
                    "data": {
                        "text/plain": "array([ 3.,  7.], dtype=float32)"
                    }, 
                    "output_type": "execute_result"
                }
            ], 
            "source": "tf.reduce_sum(x, axis=-1).eval()"
        }, 
        {
            "execution_count": 58, 
            "cell_type": "code", 
            "metadata": {}, 
            "outputs": [
                {
                    "execution_count": 58, 
                    "metadata": {}, 
                    "data": {
                        "text/plain": "5.0"
                    }, 
                    "output_type": "execute_result"
                }
            ], 
            "source": "tf.reduce_mean(tf.reduce_sum(x, axis=-1)).eval()"
        }, 
        {
            "source": "## Argmax with axis\n* ***max \uac12\uc744 \uac00\uc9c0\uace0 \uc788\ub294 index \uac12\uc744 return \ud574\uc90c***", 
            "cell_type": "markdown", 
            "metadata": {}
        }, 
        {
            "execution_count": 59, 
            "cell_type": "code", 
            "metadata": {}, 
            "outputs": [
                {
                    "execution_count": 59, 
                    "metadata": {}, 
                    "data": {
                        "text/plain": "array([1, 0, 0])"
                    }, 
                    "output_type": "execute_result"
                }
            ], 
            "source": "x = [[0, 1, 2],\n     [2, 1, 0]]\ntf.argmax(x, axis=0).eval()"
        }, 
        {
            "execution_count": 60, 
            "cell_type": "code", 
            "metadata": {}, 
            "outputs": [
                {
                    "execution_count": 60, 
                    "metadata": {}, 
                    "data": {
                        "text/plain": "array([2, 0])"
                    }, 
                    "output_type": "execute_result"
                }
            ], 
            "source": "tf.argmax(x, axis=1).eval()"
        }, 
        {
            "execution_count": 62, 
            "cell_type": "code", 
            "metadata": {}, 
            "outputs": [
                {
                    "execution_count": 62, 
                    "metadata": {}, 
                    "data": {
                        "text/plain": "array([2, 0])"
                    }, 
                    "output_type": "execute_result"
                }
            ], 
            "source": "tf.argmax(x, axis=-1).eval()"
        }, 
        {
            "execution_count": 63, 
            "cell_type": "code", 
            "metadata": {}, 
            "outputs": [
                {
                    "execution_count": 63, 
                    "metadata": {}, 
                    "data": {
                        "text/plain": "array([0, 2])"
                    }, 
                    "output_type": "execute_result"
                }
            ], 
            "source": "tf.argmin(x, axis=-1).eval()"
        }, 
        {
            "source": "## Reshape, squeeze, expand_dims", 
            "cell_type": "markdown", 
            "metadata": {}
        }, 
        {
            "execution_count": 64, 
            "cell_type": "code", 
            "metadata": {}, 
            "outputs": [
                {
                    "execution_count": 64, 
                    "metadata": {}, 
                    "data": {
                        "text/plain": "(2, 2, 3)"
                    }, 
                    "output_type": "execute_result"
                }
            ], 
            "source": "t = np.array([[[0, 1, 2], \n               [3, 4, 5]],\n              \n              [[6, 7, 8], \n               [9, 10, 11]]])\nt.shape"
        }, 
        {
            "execution_count": 65, 
            "cell_type": "code", 
            "metadata": {}, 
            "outputs": [
                {
                    "execution_count": 65, 
                    "metadata": {}, 
                    "data": {
                        "text/plain": "array([[ 0,  1,  2],\n       [ 3,  4,  5],\n       [ 6,  7,  8],\n       [ 9, 10, 11]])"
                    }, 
                    "output_type": "execute_result"
                }
            ], 
            "source": "tf.reshape(t, shape=[-1, 3]).eval()"
        }, 
        {
            "execution_count": 66, 
            "cell_type": "code", 
            "metadata": {}, 
            "outputs": [
                {
                    "execution_count": 66, 
                    "metadata": {}, 
                    "data": {
                        "text/plain": "array([[[ 0,  1,  2]],\n\n       [[ 3,  4,  5]],\n\n       [[ 6,  7,  8]],\n\n       [[ 9, 10, 11]]])"
                    }, 
                    "output_type": "execute_result"
                }
            ], 
            "source": "tf.reshape(t, shape=[-1, 1, 3]).eval()"
        }, 
        {
            "execution_count": 67, 
            "cell_type": "code", 
            "metadata": {}, 
            "outputs": [
                {
                    "execution_count": 67, 
                    "metadata": {}, 
                    "data": {
                        "text/plain": "array([0, 1, 2], dtype=int32)"
                    }, 
                    "output_type": "execute_result"
                }
            ], 
            "source": "tf.squeeze([[0], [1], [2]]).eval()"
        }, 
        {
            "execution_count": 68, 
            "cell_type": "code", 
            "metadata": {}, 
            "outputs": [
                {
                    "execution_count": 68, 
                    "metadata": {}, 
                    "data": {
                        "text/plain": "array([[0],\n       [1],\n       [2]], dtype=int32)"
                    }, 
                    "output_type": "execute_result"
                }
            ], 
            "source": "tf.expand_dims([0, 1, 2], 1).eval()"
        }, 
        {
            "source": "## One hot", 
            "cell_type": "markdown", 
            "metadata": {}
        }, 
        {
            "execution_count": 70, 
            "cell_type": "code", 
            "metadata": {}, 
            "outputs": [
                {
                    "execution_count": 70, 
                    "metadata": {}, 
                    "data": {
                        "text/plain": "array([[[ 1.,  0.,  0.]],\n\n       [[ 0.,  1.,  0.]],\n\n       [[ 0.,  0.,  1.]],\n\n       [[ 1.,  0.,  0.]]], dtype=float32)"
                    }, 
                    "output_type": "execute_result"
                }
            ], 
            "source": "tf.one_hot([[0], [1], [2], [0]], depth=3).eval()"
        }, 
        {
            "execution_count": 72, 
            "cell_type": "code", 
            "metadata": {}, 
            "outputs": [
                {
                    "execution_count": 72, 
                    "metadata": {}, 
                    "data": {
                        "text/plain": "array([[[ 1.,  0.,  0.,  0.,  0.]],\n\n       [[ 0.,  1.,  0.,  0.,  0.]],\n\n       [[ 0.,  0.,  1.,  0.,  0.]],\n\n       [[ 1.,  0.,  0.,  0.,  0.]]], dtype=float32)"
                    }, 
                    "output_type": "execute_result"
                }
            ], 
            "source": "tf.one_hot([[0], [1], [2], [0]], depth=5).eval()"
        }, 
        {
            "execution_count": 73, 
            "cell_type": "code", 
            "metadata": {}, 
            "outputs": [
                {
                    "execution_count": 73, 
                    "metadata": {}, 
                    "data": {
                        "text/plain": "array([[ 1.,  0.,  0.],\n       [ 0.,  1.,  0.],\n       [ 0.,  0.,  1.],\n       [ 1.,  0.,  0.]], dtype=float32)"
                    }, 
                    "output_type": "execute_result"
                }
            ], 
            "source": "t = tf.one_hot([[0], [1], [2], [0]], depth=3)\ntf.reshape(t, shape=[-1, 3]).eval()"
        }, 
        {
            "source": "## casting", 
            "cell_type": "markdown", 
            "metadata": {}
        }, 
        {
            "execution_count": 74, 
            "cell_type": "code", 
            "metadata": {}, 
            "outputs": [
                {
                    "execution_count": 74, 
                    "metadata": {}, 
                    "data": {
                        "text/plain": "array([1, 2, 3, 4], dtype=int32)"
                    }, 
                    "output_type": "execute_result"
                }
            ], 
            "source": "tf.cast([1.8, 2.2, 3.3, 4.9], tf.int32).eval()"
        }, 
        {
            "execution_count": 79, 
            "cell_type": "code", 
            "metadata": {}, 
            "outputs": [
                {
                    "execution_count": 79, 
                    "metadata": {}, 
                    "data": {
                        "text/plain": "array([1, 0, 1, 0], dtype=int32)"
                    }, 
                    "output_type": "execute_result"
                }
            ], 
            "source": "tf.cast([True, False, 1 == 1, 0 == 1], tf.int32).eval()"
        }, 
        {
            "source": "## Stack", 
            "cell_type": "markdown", 
            "metadata": {}
        }, 
        {
            "execution_count": 80, 
            "cell_type": "code", 
            "metadata": {}, 
            "outputs": [
                {
                    "execution_count": 80, 
                    "metadata": {}, 
                    "data": {
                        "text/plain": "array([[1, 4],\n       [2, 5],\n       [3, 6]], dtype=int32)"
                    }, 
                    "output_type": "execute_result"
                }
            ], 
            "source": "x = [1, 4]\ny = [2, 5]\nz = [3, 6]\n\n# Pack along first dim.\ntf.stack([x, y, z]).eval()"
        }, 
        {
            "execution_count": 81, 
            "cell_type": "code", 
            "metadata": {}, 
            "outputs": [
                {
                    "execution_count": 81, 
                    "metadata": {}, 
                    "data": {
                        "text/plain": "array([[1, 2, 3],\n       [4, 5, 6]], dtype=int32)"
                    }, 
                    "output_type": "execute_result"
                }
            ], 
            "source": "tf.stack([x, y, z], axis=1).eval()"
        }, 
        {
            "source": "## Ones like and Zeros like", 
            "cell_type": "markdown", 
            "metadata": {}
        }, 
        {
            "execution_count": 82, 
            "cell_type": "code", 
            "metadata": {}, 
            "outputs": [
                {
                    "execution_count": 82, 
                    "metadata": {}, 
                    "data": {
                        "text/plain": "array([[1, 1, 1],\n       [1, 1, 1]], dtype=int32)"
                    }, 
                    "output_type": "execute_result"
                }
            ], 
            "source": "x = [[0, 1, 2],\n     [2, 1, 0]]\n\ntf.ones_like(x).eval()"
        }, 
        {
            "execution_count": 83, 
            "cell_type": "code", 
            "metadata": {}, 
            "outputs": [
                {
                    "execution_count": 83, 
                    "metadata": {}, 
                    "data": {
                        "text/plain": "array([[0, 0, 0],\n       [0, 0, 0]], dtype=int32)"
                    }, 
                    "output_type": "execute_result"
                }
            ], 
            "source": "tf.zeros_like(x).eval()"
        }, 
        {
            "source": "## Zip\n", 
            "cell_type": "markdown", 
            "metadata": {}
        }, 
        {
            "execution_count": 84, 
            "cell_type": "code", 
            "metadata": {}, 
            "outputs": [
                {
                    "output_type": "stream", 
                    "name": "stdout", 
                    "text": "1 4\n2 5\n3 6\n"
                }
            ], 
            "source": "for x, y in zip([1, 2, 3], [4, 5, 6]):\n    print(x, y)"
        }, 
        {
            "execution_count": 85, 
            "cell_type": "code", 
            "metadata": {}, 
            "outputs": [
                {
                    "output_type": "stream", 
                    "name": "stdout", 
                    "text": "1 4 7\n2 5 8\n3 6 9\n"
                }
            ], 
            "source": "for x, y, z in zip([1, 2, 3], [4, 5, 6], [7, 8, 9]):\n    print(x, y, z)"
        }, 
        {
            "source": "## Transpose", 
            "cell_type": "markdown", 
            "metadata": {}
        }, 
        {
            "execution_count": 86, 
            "cell_type": "code", 
            "metadata": {}, 
            "outputs": [
                {
                    "output_type": "stream", 
                    "name": "stdout", 
                    "text": "(2, 2, 3)\narray([[[ 0,  1,  2],\n        [ 3,  4,  5]],\n\n       [[ 6,  7,  8],\n        [ 9, 10, 11]]])\n"
                }
            ], 
            "source": "t = np.array([[[0, 1, 2], [3, 4, 5]], [[6, 7, 8], [9, 10, 11]]])\npp.pprint(t.shape)\npp.pprint(t)"
        }, 
        {
            "execution_count": 87, 
            "cell_type": "code", 
            "metadata": {}, 
            "outputs": [
                {
                    "output_type": "stream", 
                    "name": "stdout", 
                    "text": "(2, 2, 3)\narray([[[ 0,  1,  2],\n        [ 6,  7,  8]],\n\n       [[ 3,  4,  5],\n        [ 9, 10, 11]]])\n"
                }
            ], 
            "source": "t1 = tf.transpose(t, [1, 0, 2])\npp.pprint(sess.run(t1).shape)\npp.pprint(sess.run(t1))"
        }, 
        {
            "execution_count": 88, 
            "cell_type": "code", 
            "metadata": {}, 
            "outputs": [
                {
                    "output_type": "stream", 
                    "name": "stdout", 
                    "text": "(2, 2, 3)\narray([[[ 0,  1,  2],\n        [ 3,  4,  5]],\n\n       [[ 6,  7,  8],\n        [ 9, 10, 11]]])\n"
                }
            ], 
            "source": "t = tf.transpose(t1, [1, 0, 2])\npp.pprint(sess.run(t).shape)\npp.pprint(sess.run(t))"
        }, 
        {
            "execution_count": 89, 
            "cell_type": "code", 
            "metadata": {}, 
            "outputs": [
                {
                    "output_type": "stream", 
                    "name": "stdout", 
                    "text": "(2, 3, 2)\narray([[[ 0,  6],\n        [ 1,  7],\n        [ 2,  8]],\n\n       [[ 3,  9],\n        [ 4, 10],\n        [ 5, 11]]])\n"
                }
            ], 
            "source": "t2 = tf.transpose(t, [1, 2, 0])\npp.pprint(sess.run(t2).shape)\npp.pprint(sess.run(t2))"
        }, 
        {
            "execution_count": 90, 
            "cell_type": "code", 
            "metadata": {}, 
            "outputs": [
                {
                    "output_type": "stream", 
                    "name": "stdout", 
                    "text": "(2, 2, 3)\narray([[[ 0,  1,  2],\n        [ 3,  4,  5]],\n\n       [[ 6,  7,  8],\n        [ 9, 10, 11]]])\n"
                }
            ], 
            "source": "t = tf.transpose(t2, [2, 0, 1])\npp.pprint(sess.run(t).shape)\npp.pprint(sess.run(t))"
        }
    ], 
    "metadata": {
        "kernelspec": {
            "display_name": "Python 3.5", 
            "name": "python3", 
            "language": "python"
        }, 
        "language_info": {
            "mimetype": "text/x-python", 
            "nbconvert_exporter": "python", 
            "version": "3.5.4", 
            "name": "python", 
            "file_extension": ".py", 
            "pygments_lexer": "ipython3", 
            "codemirror_mode": {
                "version": 3, 
                "name": "ipython"
            }
        }
    }, 
    "nbformat": 4
}