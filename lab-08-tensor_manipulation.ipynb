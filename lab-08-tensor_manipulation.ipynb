{
    "nbformat_minor": 1, 
    "cells": [
        {
            "source": "---\n* *** \uc6d0\ubcf8 \uc18c\uc2a4\ub294 \ud64d\ucf69\uacfc\uae30\ub300 \uae40\uc131\ud6c8 \uad50\uc218\ub2d8\uc758  [Github link](https://github.com/hunkim/DeepLearningZeroToAll)\ub97c \ucc38\uc870\ud558\uc138\uc694 ***     \n* *** Watson studio notebook \uc5d0\uc11c \uc791\uc5c5 \uac00\ub2a5\ud558\ub3c4\ub85d \uc218\uc815\ud558\uc600\uc73c\uba70***\n* *** \ud55c\uae00\ub85c \uc124\uba85\ub41c \ubd80\ubd84\uc740 \uc81c\uac00 \uc2a4\ud130\ub514 \ud558\uba74\uc11c \uc774\ud574\ud55c \ub0b4\uc6a9\uc744 \ucd94\uac00\ud55c \uac83\uc785\ub2c8\ub2e4. ***\n---", 
            "cell_type": "markdown", 
            "metadata": {}
        }, 
        {
            "source": "# Lab 8 Tensor Manipulation\n* ***tensor \uc870\uc791\uc5d0 \ud544\uc694\ud55c \uc5ec\ub7ec\uac00\uc9c0 \ud568\uc218\ub4e4\uc744 \uc2e4\uc2b5\ud569\ub2c8\ub2e4***", 
            "cell_type": "markdown", 
            "metadata": {}
        }, 
        {
            "execution_count": 1, 
            "cell_type": "code", 
            "metadata": {}, 
            "outputs": [], 
            "source": "# https://www.tensorflow.org/api_guides/python/array_ops\nimport tensorflow as tf\nimport numpy as np\nimport pprint\ntf.set_random_seed(777)  # for reproducibility\n\npp = pprint.PrettyPrinter(indent=4)\nsess = tf.InteractiveSession()"
        }, 
        {
            "source": "## Simple Array", 
            "cell_type": "markdown", 
            "metadata": {}
        }, 
        {
            "execution_count": 2, 
            "cell_type": "code", 
            "metadata": {}, 
            "outputs": [
                {
                    "output_type": "stream", 
                    "name": "stdout", 
                    "text": "array([ 0.,  1.,  2.,  3.,  4.,  5.,  6.])\n1\n(7,)\n0.0 1.0 6.0\n[ 2.  3.  4.] [ 4.  5.]\n[ 0.  1.] [ 3.  4.  5.  6.]\n"
                }
            ], 
            "source": "t = np.array([0., 1., 2., 3., 4., 5., 6.])\npp.pprint(t)\nprint(t.ndim) # rank\nprint(t.shape) # shape\nprint(t[0], t[1], t[-1])\nprint(t[2:5], t[4:-1])\nprint(t[:2], t[3:])"
        }, 
        {
            "source": "# 2D Array", 
            "cell_type": "markdown", 
            "metadata": {}
        }, 
        {
            "execution_count": 58, 
            "cell_type": "code", 
            "metadata": {}, 
            "outputs": [
                {
                    "output_type": "stream", 
                    "name": "stdout", 
                    "text": "array([[  1.,   2.,   3.],\n       [  4.,   5.,   6.],\n       [  7.,   8.,   9.],\n       [ 10.,  11.,  12.]])\n2\n(4, 3)\n"
                }
            ], 
            "source": "t = np.array([[1., 2., 3.], [4., 5., 6.], [7., 8., 9.], [10., 11., 12.]])\npp.pprint(t)\nprint(t.ndim) # rank\nprint(t.shape) # shape"
        }, 
        {
            "source": "## Shape, Rank, Axis", 
            "cell_type": "markdown", 
            "metadata": {}
        }, 
        {
            "execution_count": 5, 
            "cell_type": "code", 
            "metadata": {}, 
            "outputs": [
                {
                    "execution_count": 5, 
                    "metadata": {}, 
                    "data": {
                        "text/plain": "array([4], dtype=int32)"
                    }, 
                    "output_type": "execute_result"
                }
            ], 
            "source": "t = tf.constant([1,2,3,4])\ntf.shape(t).eval()"
        }, 
        {
            "execution_count": 6, 
            "cell_type": "code", 
            "metadata": {}, 
            "outputs": [
                {
                    "execution_count": 6, 
                    "metadata": {}, 
                    "data": {
                        "text/plain": "array([2, 2], dtype=int32)"
                    }, 
                    "output_type": "execute_result"
                }
            ], 
            "source": "t = tf.constant([[1,2],\n                 [3,4]])\ntf.shape(t).eval()"
        }, 
        {
            "execution_count": 60, 
            "cell_type": "code", 
            "metadata": {}, 
            "outputs": [
                {
                    "execution_count": 60, 
                    "metadata": {}, 
                    "data": {
                        "text/plain": "array([1, 2, 3, 4], dtype=int32)"
                    }, 
                    "output_type": "execute_result"
                }
            ], 
            "source": "t = tf.constant([[[[1, 2, 3, 4], [5, 6, 7, 8], [9, 10, 11, 12]],[[13, 14, 15, 16], [17, 18, 19, 20], [21, 22, 23, 24]]]])\ntf.shape(t).eval()"
        }, 
        {
            "execution_count": 8, 
            "cell_type": "code", 
            "metadata": {}, 
            "outputs": [
                {
                    "execution_count": 8, 
                    "metadata": {}, 
                    "data": {
                        "text/plain": "[[[[1, 2, 3, 4], [5, 6, 7, 8], [9, 10, 11, 12]],\n  [[13, 14, 15, 16], [17, 18, 19, 20], [21, 22, 23, 24]]]]"
                    }, 
                    "output_type": "execute_result"
                }
            ], 
            "source": "[\n    [\n        [\n            [1,2,3,4], \n            [5,6,7,8],\n            [9,10,11,12]\n        ],\n        [\n            [13,14,15,16],\n            [17,18,19,20], \n            [21,22,23,24]\n        ]\n    ]\n]"
        }, 
        {
            "source": "## Matmul VS multiply", 
            "cell_type": "markdown", 
            "metadata": {}
        }, 
        {
            "execution_count": 9, 
            "cell_type": "code", 
            "metadata": {}, 
            "outputs": [
                {
                    "execution_count": 9, 
                    "metadata": {}, 
                    "data": {
                        "text/plain": "array([[ 12.]], dtype=float32)"
                    }, 
                    "output_type": "execute_result"
                }
            ], 
            "source": "matrix1 = tf.constant([[3., 3.]])\nmatrix2 = tf.constant([[2.],[2.]])\ntf.matmul(matrix1, matrix2).eval()"
        }, 
        {
            "execution_count": 10, 
            "cell_type": "code", 
            "metadata": {}, 
            "outputs": [
                {
                    "execution_count": 10, 
                    "metadata": {}, 
                    "data": {
                        "text/plain": "array([[ 6.,  6.],\n       [ 6.,  6.]], dtype=float32)"
                    }, 
                    "output_type": "execute_result"
                }
            ], 
            "source": "(matrix1*matrix2).eval()"
        }, 
        {
            "source": "## Watch out broadcasting", 
            "cell_type": "markdown", 
            "metadata": {}
        }, 
        {
            "execution_count": 11, 
            "cell_type": "code", 
            "metadata": {}, 
            "outputs": [
                {
                    "execution_count": 11, 
                    "metadata": {}, 
                    "data": {
                        "text/plain": "array([[ 5.,  5.],\n       [ 5.,  5.]], dtype=float32)"
                    }, 
                    "output_type": "execute_result"
                }
            ], 
            "source": "matrix1 = tf.constant([[3., 3.]])\nmatrix2 = tf.constant([[2.],[2.]])\n(matrix1+matrix2).eval()"
        }, 
        {
            "execution_count": 12, 
            "cell_type": "code", 
            "metadata": {}, 
            "outputs": [
                {
                    "execution_count": 12, 
                    "metadata": {}, 
                    "data": {
                        "text/plain": "array([[ 5.,  5.]], dtype=float32)"
                    }, 
                    "output_type": "execute_result"
                }
            ], 
            "source": "matrix1 = tf.constant([[3., 3.]])\nmatrix2 = tf.constant([[2., 2.]])\n(matrix1+matrix2).eval()"
        }, 
        {
            "source": "## Random values for variable initializations ", 
            "cell_type": "markdown", 
            "metadata": {}
        }, 
        {
            "execution_count": 2, 
            "cell_type": "code", 
            "metadata": {
                "scrolled": true
            }, 
            "outputs": [
                {
                    "execution_count": 2, 
                    "metadata": {}, 
                    "data": {
                        "text/plain": "array([ 2.20866942, -0.73225045,  0.33533147], dtype=float32)"
                    }, 
                    "output_type": "execute_result"
                }
            ], 
            "source": "tf.random_normal([3]).eval()"
        }, 
        {
            "execution_count": 3, 
            "cell_type": "code", 
            "metadata": {}, 
            "outputs": [
                {
                    "execution_count": 3, 
                    "metadata": {}, 
                    "data": {
                        "text/plain": "array([ 0.08186948,  0.42999184], dtype=float32)"
                    }, 
                    "output_type": "execute_result"
                }
            ], 
            "source": "tf.random_uniform([2]).eval()"
        }, 
        {
            "execution_count": 4, 
            "cell_type": "code", 
            "metadata": {}, 
            "outputs": [
                {
                    "execution_count": 4, 
                    "metadata": {}, 
                    "data": {
                        "text/plain": "array([[ 0.43535876,  0.76933432,  0.65130949],\n       [ 0.90863407,  0.06278825,  0.85073185]], dtype=float32)"
                    }, 
                    "output_type": "execute_result"
                }
            ], 
            "source": "tf.random_uniform([2, 3]).eval()"
        }, 
        {
            "source": "## Reduce Mean/Sum", 
            "cell_type": "markdown", 
            "metadata": {}
        }, 
        {
            "execution_count": 13, 
            "cell_type": "code", 
            "metadata": {}, 
            "outputs": [
                {
                    "execution_count": 13, 
                    "metadata": {}, 
                    "data": {
                        "text/plain": "1"
                    }, 
                    "output_type": "execute_result"
                }
            ], 
            "source": "tf.reduce_mean([1, 2], axis=0).eval()"
        }, 
        {
            "execution_count": 14, 
            "cell_type": "code", 
            "metadata": {}, 
            "outputs": [
                {
                    "execution_count": 14, 
                    "metadata": {}, 
                    "data": {
                        "text/plain": "2.5"
                    }, 
                    "output_type": "execute_result"
                }
            ], 
            "source": "x = [[1., 2.],\n     [3., 4.]]\n\n\ntf.reduce_mean(x).eval()"
        }, 
        {
            "execution_count": 15, 
            "cell_type": "code", 
            "metadata": {}, 
            "outputs": [
                {
                    "execution_count": 15, 
                    "metadata": {}, 
                    "data": {
                        "text/plain": "array([ 2.,  3.], dtype=float32)"
                    }, 
                    "output_type": "execute_result"
                }
            ], 
            "source": "tf.reduce_mean(x, axis=0).eval()"
        }, 
        {
            "execution_count": 16, 
            "cell_type": "code", 
            "metadata": {}, 
            "outputs": [
                {
                    "execution_count": 16, 
                    "metadata": {}, 
                    "data": {
                        "text/plain": "array([ 1.5,  3.5], dtype=float32)"
                    }, 
                    "output_type": "execute_result"
                }
            ], 
            "source": "tf.reduce_mean(x, axis=1).eval()"
        }, 
        {
            "execution_count": 17, 
            "cell_type": "code", 
            "metadata": {}, 
            "outputs": [
                {
                    "execution_count": 17, 
                    "metadata": {}, 
                    "data": {
                        "text/plain": "array([ 1.5,  3.5], dtype=float32)"
                    }, 
                    "output_type": "execute_result"
                }
            ], 
            "source": "tf.reduce_mean(x, axis=-1).eval()"
        }, 
        {
            "execution_count": 18, 
            "cell_type": "code", 
            "metadata": {}, 
            "outputs": [
                {
                    "execution_count": 18, 
                    "metadata": {}, 
                    "data": {
                        "text/plain": "10.0"
                    }, 
                    "output_type": "execute_result"
                }
            ], 
            "source": "tf.reduce_sum(x).eval()"
        }, 
        {
            "execution_count": 19, 
            "cell_type": "code", 
            "metadata": {}, 
            "outputs": [
                {
                    "execution_count": 19, 
                    "metadata": {}, 
                    "data": {
                        "text/plain": "array([ 4.,  6.], dtype=float32)"
                    }, 
                    "output_type": "execute_result"
                }
            ], 
            "source": "tf.reduce_sum(x, axis=0).eval()"
        }, 
        {
            "execution_count": 20, 
            "cell_type": "code", 
            "metadata": {}, 
            "outputs": [
                {
                    "execution_count": 20, 
                    "metadata": {}, 
                    "data": {
                        "text/plain": "array([ 3.,  7.], dtype=float32)"
                    }, 
                    "output_type": "execute_result"
                }
            ], 
            "source": "tf.reduce_sum(x, axis=-1).eval()"
        }, 
        {
            "execution_count": 21, 
            "cell_type": "code", 
            "metadata": {}, 
            "outputs": [
                {
                    "execution_count": 21, 
                    "metadata": {}, 
                    "data": {
                        "text/plain": "5.0"
                    }, 
                    "output_type": "execute_result"
                }
            ], 
            "source": "tf.reduce_mean(tf.reduce_sum(x, axis=-1)).eval()"
        }, 
        {
            "source": "## Argmax with axis", 
            "cell_type": "markdown", 
            "metadata": {}
        }, 
        {
            "execution_count": 22, 
            "cell_type": "code", 
            "metadata": {}, 
            "outputs": [
                {
                    "execution_count": 22, 
                    "metadata": {}, 
                    "data": {
                        "text/plain": "array([1, 0, 0])"
                    }, 
                    "output_type": "execute_result"
                }
            ], 
            "source": "x = [[0, 1, 2],\n     [2, 1, 0]]\ntf.argmax(x, axis=0).eval()"
        }, 
        {
            "execution_count": 23, 
            "cell_type": "code", 
            "metadata": {}, 
            "outputs": [
                {
                    "execution_count": 23, 
                    "metadata": {}, 
                    "data": {
                        "text/plain": "array([2, 0])"
                    }, 
                    "output_type": "execute_result"
                }
            ], 
            "source": "tf.argmax(x, axis=1).eval()"
        }, 
        {
            "execution_count": 24, 
            "cell_type": "code", 
            "metadata": {}, 
            "outputs": [
                {
                    "execution_count": 24, 
                    "metadata": {}, 
                    "data": {
                        "text/plain": "array([2, 0])"
                    }, 
                    "output_type": "execute_result"
                }
            ], 
            "source": "tf.argmax(x, axis=-1).eval()"
        }, 
        {
            "source": "## Reshape, squeeze, expand_dims", 
            "cell_type": "markdown", 
            "metadata": {}
        }, 
        {
            "execution_count": 25, 
            "cell_type": "code", 
            "metadata": {}, 
            "outputs": [
                {
                    "execution_count": 25, 
                    "metadata": {}, 
                    "data": {
                        "text/plain": "(2, 2, 3)"
                    }, 
                    "output_type": "execute_result"
                }
            ], 
            "source": "t = np.array([[[0, 1, 2], \n               [3, 4, 5]],\n              \n              [[6, 7, 8], \n               [9, 10, 11]]])\nt.shape"
        }, 
        {
            "execution_count": 26, 
            "cell_type": "code", 
            "metadata": {}, 
            "outputs": [
                {
                    "execution_count": 26, 
                    "metadata": {}, 
                    "data": {
                        "text/plain": "array([[ 0,  1,  2],\n       [ 3,  4,  5],\n       [ 6,  7,  8],\n       [ 9, 10, 11]])"
                    }, 
                    "output_type": "execute_result"
                }
            ], 
            "source": "tf.reshape(t, shape=[-1, 3]).eval()"
        }, 
        {
            "execution_count": 27, 
            "cell_type": "code", 
            "metadata": {}, 
            "outputs": [
                {
                    "execution_count": 27, 
                    "metadata": {}, 
                    "data": {
                        "text/plain": "array([[[ 0,  1,  2]],\n\n       [[ 3,  4,  5]],\n\n       [[ 6,  7,  8]],\n\n       [[ 9, 10, 11]]])"
                    }, 
                    "output_type": "execute_result"
                }
            ], 
            "source": "tf.reshape(t, shape=[-1, 1, 3]).eval()"
        }, 
        {
            "execution_count": 28, 
            "cell_type": "code", 
            "metadata": {}, 
            "outputs": [
                {
                    "execution_count": 28, 
                    "metadata": {}, 
                    "data": {
                        "text/plain": "array([0, 1, 2], dtype=int32)"
                    }, 
                    "output_type": "execute_result"
                }
            ], 
            "source": "tf.squeeze([[0], [1], [2]]).eval()"
        }, 
        {
            "execution_count": 29, 
            "cell_type": "code", 
            "metadata": {}, 
            "outputs": [
                {
                    "execution_count": 29, 
                    "metadata": {}, 
                    "data": {
                        "text/plain": "array([[0],\n       [1],\n       [2]], dtype=int32)"
                    }, 
                    "output_type": "execute_result"
                }
            ], 
            "source": "tf.expand_dims([0, 1, 2], 1).eval()"
        }, 
        {
            "source": "## One hot", 
            "cell_type": "markdown", 
            "metadata": {}
        }, 
        {
            "execution_count": 30, 
            "cell_type": "code", 
            "metadata": {}, 
            "outputs": [
                {
                    "execution_count": 30, 
                    "metadata": {}, 
                    "data": {
                        "text/plain": "array([[[ 1.,  0.,  0.]],\n\n       [[ 0.,  1.,  0.]],\n\n       [[ 0.,  0.,  1.]],\n\n       [[ 1.,  0.,  0.]]], dtype=float32)"
                    }, 
                    "output_type": "execute_result"
                }
            ], 
            "source": "tf.one_hot([[0], [1], [2], [0]], depth=3).eval()"
        }, 
        {
            "execution_count": 31, 
            "cell_type": "code", 
            "metadata": {}, 
            "outputs": [
                {
                    "execution_count": 31, 
                    "metadata": {}, 
                    "data": {
                        "text/plain": "array([[ 1.,  0.,  0.],\n       [ 0.,  1.,  0.],\n       [ 0.,  0.,  1.],\n       [ 1.,  0.,  0.]], dtype=float32)"
                    }, 
                    "output_type": "execute_result"
                }
            ], 
            "source": "t = tf.one_hot([[0], [1], [2], [0]], depth=3)\ntf.reshape(t, shape=[-1, 3]).eval()"
        }, 
        {
            "source": "## casting", 
            "cell_type": "markdown", 
            "metadata": {}
        }, 
        {
            "execution_count": 32, 
            "cell_type": "code", 
            "metadata": {}, 
            "outputs": [
                {
                    "execution_count": 32, 
                    "metadata": {}, 
                    "data": {
                        "text/plain": "array([1, 2, 3, 4], dtype=int32)"
                    }, 
                    "output_type": "execute_result"
                }
            ], 
            "source": "tf.cast([1.8, 2.2, 3.3, 4.9], tf.int32).eval()"
        }, 
        {
            "execution_count": 33, 
            "cell_type": "code", 
            "metadata": {}, 
            "outputs": [
                {
                    "execution_count": 33, 
                    "metadata": {}, 
                    "data": {
                        "text/plain": "array([1, 0, 1, 0], dtype=int32)"
                    }, 
                    "output_type": "execute_result"
                }
            ], 
            "source": "tf.cast([True, False, 1 == 1, 0 == 1], tf.int32).eval()"
        }, 
        {
            "source": "## Stack", 
            "cell_type": "markdown", 
            "metadata": {}
        }, 
        {
            "execution_count": 34, 
            "cell_type": "code", 
            "metadata": {}, 
            "outputs": [
                {
                    "execution_count": 34, 
                    "metadata": {}, 
                    "data": {
                        "text/plain": "array([[1, 4],\n       [2, 5],\n       [3, 6]], dtype=int32)"
                    }, 
                    "output_type": "execute_result"
                }
            ], 
            "source": "x = [1, 4]\ny = [2, 5]\nz = [3, 6]\n\n# Pack along first dim.\ntf.stack([x, y, z]).eval()"
        }, 
        {
            "execution_count": 35, 
            "cell_type": "code", 
            "metadata": {}, 
            "outputs": [
                {
                    "execution_count": 35, 
                    "metadata": {}, 
                    "data": {
                        "text/plain": "array([[1, 2, 3],\n       [4, 5, 6]], dtype=int32)"
                    }, 
                    "output_type": "execute_result"
                }
            ], 
            "source": "tf.stack([x, y, z], axis=1).eval()"
        }, 
        {
            "source": "## Ones like and Zeros like", 
            "cell_type": "markdown", 
            "metadata": {}
        }, 
        {
            "execution_count": 36, 
            "cell_type": "code", 
            "metadata": {}, 
            "outputs": [
                {
                    "execution_count": 36, 
                    "metadata": {}, 
                    "data": {
                        "text/plain": "array([[1, 1, 1],\n       [1, 1, 1]], dtype=int32)"
                    }, 
                    "output_type": "execute_result"
                }
            ], 
            "source": "x = [[0, 1, 2],\n     [2, 1, 0]]\n\ntf.ones_like(x).eval()"
        }, 
        {
            "execution_count": 37, 
            "cell_type": "code", 
            "metadata": {}, 
            "outputs": [
                {
                    "execution_count": 37, 
                    "metadata": {}, 
                    "data": {
                        "text/plain": "array([[0, 0, 0],\n       [0, 0, 0]], dtype=int32)"
                    }, 
                    "output_type": "execute_result"
                }
            ], 
            "source": "tf.zeros_like(x).eval()"
        }, 
        {
            "source": "## Zip\n", 
            "cell_type": "markdown", 
            "metadata": {}
        }, 
        {
            "execution_count": 38, 
            "cell_type": "code", 
            "metadata": {}, 
            "outputs": [
                {
                    "output_type": "stream", 
                    "name": "stdout", 
                    "text": "1 4\n2 5\n3 6\n"
                }
            ], 
            "source": "for x, y in zip([1, 2, 3], [4, 5, 6]):\n    print(x, y)"
        }, 
        {
            "execution_count": 39, 
            "cell_type": "code", 
            "metadata": {}, 
            "outputs": [
                {
                    "output_type": "stream", 
                    "name": "stdout", 
                    "text": "1 4 7\n2 5 8\n3 6 9\n"
                }
            ], 
            "source": "for x, y, z in zip([1, 2, 3], [4, 5, 6], [7, 8, 9]):\n    print(x, y, z)"
        }, 
        {
            "source": "## Transpose", 
            "cell_type": "markdown", 
            "metadata": {}
        }, 
        {
            "execution_count": 40, 
            "cell_type": "code", 
            "metadata": {}, 
            "outputs": [
                {
                    "output_type": "stream", 
                    "name": "stdout", 
                    "text": "(2, 2, 3)\narray([[[ 0,  1,  2],\n        [ 3,  4,  5]],\n\n       [[ 6,  7,  8],\n        [ 9, 10, 11]]])\n"
                }
            ], 
            "source": "t = np.array([[[0, 1, 2], [3, 4, 5]], [[6, 7, 8], [9, 10, 11]]])\npp.pprint(t.shape)\npp.pprint(t)"
        }, 
        {
            "execution_count": 41, 
            "cell_type": "code", 
            "metadata": {}, 
            "outputs": [
                {
                    "output_type": "stream", 
                    "name": "stdout", 
                    "text": "(2, 2, 3)\narray([[[ 0,  1,  2],\n        [ 6,  7,  8]],\n\n       [[ 3,  4,  5],\n        [ 9, 10, 11]]])\n"
                }
            ], 
            "source": "t1 = tf.transpose(t, [1, 0, 2])\npp.pprint(sess.run(t1).shape)\npp.pprint(sess.run(t1))"
        }, 
        {
            "execution_count": 42, 
            "cell_type": "code", 
            "metadata": {}, 
            "outputs": [
                {
                    "output_type": "stream", 
                    "name": "stdout", 
                    "text": "(2, 2, 3)\narray([[[ 0,  1,  2],\n        [ 3,  4,  5]],\n\n       [[ 6,  7,  8],\n        [ 9, 10, 11]]])\n"
                }
            ], 
            "source": "t = tf.transpose(t1, [1, 0, 2])\npp.pprint(sess.run(t).shape)\npp.pprint(sess.run(t))"
        }, 
        {
            "execution_count": 43, 
            "cell_type": "code", 
            "metadata": {}, 
            "outputs": [
                {
                    "output_type": "stream", 
                    "name": "stdout", 
                    "text": "(2, 3, 2)\narray([[[ 0,  6],\n        [ 1,  7],\n        [ 2,  8]],\n\n       [[ 3,  9],\n        [ 4, 10],\n        [ 5, 11]]])\n"
                }
            ], 
            "source": "t2 = tf.transpose(t, [1, 2, 0])\npp.pprint(sess.run(t2).shape)\npp.pprint(sess.run(t2))"
        }, 
        {
            "execution_count": 44, 
            "cell_type": "code", 
            "metadata": {}, 
            "outputs": [
                {
                    "output_type": "stream", 
                    "name": "stdout", 
                    "text": "(2, 2, 3)\narray([[[ 0,  1,  2],\n        [ 3,  4,  5]],\n\n       [[ 6,  7,  8],\n        [ 9, 10, 11]]])\n"
                }
            ], 
            "source": "t = tf.transpose(t2, [2, 0, 1])\npp.pprint(sess.run(t).shape)\npp.pprint(sess.run(t))"
        }
    ], 
    "metadata": {
        "kernelspec": {
            "display_name": "Python 3.5", 
            "name": "python3", 
            "language": "python"
        }, 
        "language_info": {
            "mimetype": "text/x-python", 
            "nbconvert_exporter": "python", 
            "version": "3.5.4", 
            "name": "python", 
            "file_extension": ".py", 
            "pygments_lexer": "ipython3", 
            "codemirror_mode": {
                "version": 3, 
                "name": "ipython"
            }
        }
    }, 
    "nbformat": 4
}