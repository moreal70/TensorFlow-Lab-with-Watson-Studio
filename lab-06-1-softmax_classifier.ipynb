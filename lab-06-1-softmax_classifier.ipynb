{
    "nbformat_minor": 2, 
    "cells": [
        {
            "source": "---\n* *** \uc6d0\ubcf8 \uc18c\uc2a4\ub294 \ud64d\ucf69\uacfc\uae30\ub300 \uae40\uc131\ud6c8 \uad50\uc218\ub2d8\uc758  [Github link](https://github.com/hunkim/DeepLearningZeroToAll)\ub97c \ucc38\uc870\ud558\uc138\uc694 ***     \n* *** Watson studio notebook \uc5d0\uc11c \uc791\uc5c5 \uac00\ub2a5\ud558\ub3c4\ub85d \uc218\uc815\ud558\uc600\uc73c\uba70***\n* *** \ud55c\uae00\ub85c \uc124\uba85\ub41c \ubd80\ubd84\uc740 \uc81c\uac00 \uc2a4\ud130\ub514 \ud558\uba74\uc11c \uc774\ud574\ud55c \ub0b4\uc6a9\uc744 \ucd94\uac00\ud55c \uac83\uc785\ub2c8\ub2e4. ***\n---", 
            "cell_type": "markdown", 
            "metadata": {}
        }, 
        {
            "source": "# Lab 6 Softmax Classifier\n* ***tf.nn.softmax \ud568\uc218\ub97c \uc0ac\uc6a9\ud569\ub2c8\ub2e4. ***\n* ***one hot encoding \uac1c\ub150\uc744 \uc0ac\uc6a9\ud574\uc11c \uacb0\uacfc \uac12\uc744 \uc608\uce21\ud569\ub2c8\ub2e4.***", 
            "cell_type": "markdown", 
            "metadata": {}
        }, 
        {
            "execution_count": 1, 
            "cell_type": "code", 
            "metadata": {}, 
            "outputs": [], 
            "source": "import tensorflow as tf\ntf.set_random_seed(777)  # for reproducibility\n\nx_data = [[1, 2, 1, 1],\n          [2, 1, 3, 2],\n          [3, 1, 3, 4],\n          [4, 1, 5, 5],\n          [1, 7, 5, 5],\n          [1, 2, 5, 6],\n          [1, 6, 6, 6],\n          [1, 7, 7, 7]]\ny_data = [[0, 0, 1],\n          [0, 0, 1],\n          [0, 0, 1],\n          [0, 1, 0],\n          [0, 1, 0],\n          [0, 1, 0],\n          [1, 0, 0],\n          [1, 0, 0]]\n\nX = tf.placeholder(\"float\", [None, 4])\nY = tf.placeholder(\"float\", [None, 3])\nnb_classes = 3\n\nW = tf.Variable(tf.random_normal([4, nb_classes]), name='weight')\nb = tf.Variable(tf.random_normal([nb_classes]), name='bias')"
        }, 
        {
            "source": "* ***softmax \ud568\uc218\ub97c \ub123\uc5b4\uc11c 1 \ubcf4\ub2e4 \uc791\uac8c hypothesis\ub97c \ub9cc\ub4ed\ub2c8\ub2e4.***", 
            "cell_type": "markdown", 
            "metadata": {}
        }, 
        {
            "execution_count": 2, 
            "cell_type": "code", 
            "metadata": {}, 
            "outputs": [], 
            "source": "# tf.nn.softmax computes softmax activations\n# softmax = exp(logits) / reduce_sum(exp(logits), dim)\nhypothesis = tf.nn.softmax(tf.matmul(X, W) + b)\n\n# Cross entropy cost/loss\ncost = tf.reduce_mean(-tf.reduce_sum(Y * tf.log(hypothesis), axis=1))\n\noptimizer = tf.train.GradientDescentOptimizer(learning_rate=0.1).minimize(cost)"
        }, 
        {
            "source": "* ***Learning***", 
            "cell_type": "markdown", 
            "metadata": {}
        }, 
        {
            "execution_count": 3, 
            "cell_type": "code", 
            "metadata": {}, 
            "outputs": [
                {
                    "output_type": "stream", 
                    "name": "stdout", 
                    "text": "0 5.04862\n200 0.548425\n400 0.432149\n600 0.352467\n800 0.276829\n1000 0.232683\n1200 0.210553\n1400 0.192215\n1600 0.176752\n1800 0.163534\n2000 0.152108\n"
                }
            ], 
            "source": "# Launch graph\nsess =  tf.Session()\nsess.run(tf.global_variables_initializer())\n\nfor step in range(2001):\n    sess.run(optimizer, feed_dict={X: x_data, Y: y_data})\n    if step % 200 == 0:\n        print(step, sess.run(cost, feed_dict={X: x_data, Y: y_data}))"
        }, 
        {
            "source": "* ***Learning \ub41c \uacb0\uacfc\ub97c \uac00\uc9c0\uace0 test prediction \uc744 \ud574\ubd05\ub2c8\ub2e4.***\n* ***hypothesis \uac12\uc774 3\uac1c\uac00 \ub098\uc624\uc9c0\uc694, Y \uac12\uc774\ub2c8\uae4c\uc694***\n* ***\uc774\uc911\uc5d0\uc11c \uac00\uc7a5 \ub192\uc740 \uac12\uc5d0 \ud574\ub2f9\ud558\ub294 \uc704\uce58 index\ub97c return \ud558\ub294  argmax \ub97c  \uc774\uc6a9\ud569\ub2c8\ub2e4.***", 
            "cell_type": "markdown", 
            "metadata": {}
        }, 
        {
            "execution_count": 4, 
            "cell_type": "code", 
            "metadata": {}, 
            "outputs": [
                {
                    "output_type": "stream", 
                    "name": "stdout", 
                    "text": "--------------\n[[  1.38904958e-03   9.98601854e-01   9.06129117e-06]] [1]\n"
                }
            ], 
            "source": "print('--------------')\n\n# Testing & One-hot encoding\na = sess.run(hypothesis, feed_dict={X: [[1, 11, 7, 9]]})\nprint(a, sess.run(tf.argmax(a, 1)))"
        }, 
        {
            "execution_count": 5, 
            "cell_type": "code", 
            "metadata": {}, 
            "outputs": [
                {
                    "output_type": "stream", 
                    "name": "stdout", 
                    "text": "--------------\n[[ 0.93119204  0.06290206  0.0059059 ]] [0]\n"
                }
            ], 
            "source": "print('--------------')\n\nb = sess.run(hypothesis, feed_dict={X: [[1, 3, 4, 3]]})\nprint(b, sess.run(tf.argmax(b, 1)))"
        }, 
        {
            "execution_count": 6, 
            "cell_type": "code", 
            "metadata": {}, 
            "outputs": [
                {
                    "output_type": "stream", 
                    "name": "stdout", 
                    "text": "--------------\n[[  1.27327668e-08   3.34112905e-04   9.99665856e-01]] [2]\n"
                }
            ], 
            "source": "print('--------------')\n\nc = sess.run(hypothesis, feed_dict={X: [[1, 1, 0, 1]]})\nprint(c, sess.run(tf.argmax(c, 1)))"
        }, 
        {
            "execution_count": 7, 
            "cell_type": "code", 
            "metadata": {}, 
            "outputs": [
                {
                    "output_type": "stream", 
                    "name": "stdout", 
                    "text": "--------------\n[[  1.38904958e-03   9.98601854e-01   9.06129117e-06]\n [  9.31192040e-01   6.29020557e-02   5.90589503e-03]\n [  1.27327668e-08   3.34112905e-04   9.99665856e-01]] [1 0 2]\n"
                }
            ], 
            "source": "print('--------------')\n\nall = sess.run(hypothesis, feed_dict={\n                   X: [[1, 11, 7, 9], [1, 3, 4, 3], [1, 1, 0, 1]]})\nprint(all, sess.run(tf.argmax(all, 1)))"
        }, 
        {
            "execution_count": null, 
            "cell_type": "code", 
            "metadata": {}, 
            "outputs": [], 
            "source": "    '''\n--------------\n[[  1.38904958e-03   9.98601854e-01   9.06129117e-06]] [1]\n--------------\n[[ 0.93119204  0.06290206  0.0059059 ]] [0]\n--------------\n[[  1.27327668e-08   3.34112905e-04   9.99665856e-01]] [2]\n--------------\n[[  1.38904958e-03   9.98601854e-01   9.06129117e-06]\n [  9.31192040e-01   6.29020557e-02   5.90589503e-03]\n [  1.27327668e-08   3.34112905e-04   9.99665856e-01]] [1 0 2]\n'''"
        }
    ], 
    "metadata": {
        "kernelspec": {
            "display_name": "Python 3.5", 
            "name": "python3", 
            "language": "python"
        }, 
        "language_info": {
            "mimetype": "text/x-python", 
            "nbconvert_exporter": "python", 
            "version": "3.5.4", 
            "name": "python", 
            "file_extension": ".py", 
            "pygments_lexer": "ipython3", 
            "codemirror_mode": {
                "version": 3, 
                "name": "ipython"
            }
        }
    }, 
    "nbformat": 4
}