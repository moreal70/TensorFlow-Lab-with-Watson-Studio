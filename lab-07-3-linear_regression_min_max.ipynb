{
    "nbformat_minor": 2, 
    "cells": [
        {
            "source": "---\n* *** \uc6d0\ubcf8 \uc18c\uc2a4\ub294 \ud64d\ucf69\uacfc\uae30\ub300 \uae40\uc131\ud6c8 \uad50\uc218\ub2d8\uc758  [Github link](https://github.com/hunkim/DeepLearningZeroToAll)\ub97c \ucc38\uc870\ud558\uc138\uc694 ***     \n* *** Watson studio notebook \uc5d0\uc11c \uc791\uc5c5 \uac00\ub2a5\ud558\ub3c4\ub85d \uc218\uc815\ud558\uc600\uc73c\uba70***\n* *** \ud55c\uae00\ub85c \uc124\uba85\ub41c \ubd80\ubd84\uc740 \uc81c\uac00 \uc2a4\ud130\ub514 \ud558\uba74\uc11c \uc774\ud574\ud55c \ub0b4\uc6a9\uc744 \ucd94\uac00\ud55c \uac83\uc785\ub2c8\ub2e4. ***\n---", 
            "cell_type": "markdown", 
            "metadata": {}
        }, 
        {
            "source": "# Lab 7-3 Linear regression with min-max\n* ***\uc55e\uc5d0 Lab 7-2\uc640 \ub3d9\uc77c\ud55c  input \ub370\uc774\ud130\uc9c0\ub9cc,  \ud3b8\ucc28\uac00 \ud070 \ub370\uc774\ud2b8\ub97c \ud45c\uc900\ud654 \uc791\uc5c5\uc73c\ub85c pre-processing \ud569\ub2c8\ub2e4. ***\n* ***MinMaxScaler \ud568\uc218\ub97c \ub530\ub85c \uc815\uc758\ud587\uc73c\uba70,  \uc5ec\ub7ec\uac00\uc9c0 \ubc29\ubc95\uc774 \uc788\uc2b5\ub2c8\ub2e4.***", 
            "cell_type": "markdown", 
            "metadata": {}
        }, 
        {
            "execution_count": 2, 
            "cell_type": "code", 
            "metadata": {}, 
            "outputs": [
                {
                    "output_type": "stream", 
                    "name": "stderr", 
                    "text": "C:\\Users\\HyeonSuPARK\\Anaconda3\\lib\\site-packages\\h5py\\__init__.py:36: FutureWarning: Conversion of the second argument of issubdtype from `float` to `np.floating` is deprecated. In future, it will be treated as `np.float64 == np.dtype(float).type`.\n  from ._conv import register_converters as _register_converters\n"
                }
            ], 
            "source": "import tensorflow as tf\nimport numpy as np\ntf.set_random_seed(777)  # for reproducibility\n\n\ndef MinMaxScaler(data):\n    numerator = data - np.min(data, 0)\n    denominator = np.max(data, 0) - np.min(data, 0)\n    # noise term prevents the zero division\n    return numerator / (denominator + 1e-7)"
        }, 
        {
            "execution_count": 3, 
            "cell_type": "code", 
            "metadata": {}, 
            "outputs": [
                {
                    "output_type": "stream", 
                    "name": "stdout", 
                    "text": "[[0.99999999 0.99999999 0.         1.         1.        ]\n [0.70548491 0.70439552 1.         0.71881782 0.83755791]\n [0.54412549 0.50274824 0.57608696 0.606468   0.6606331 ]\n [0.33890353 0.31368023 0.10869565 0.45989134 0.43800918]\n [0.51436    0.42582389 0.30434783 0.58504805 0.42624401]\n [0.49556179 0.42582389 0.31521739 0.48131134 0.49276137]\n [0.11436064 0.         0.20652174 0.22007776 0.18597238]\n [0.         0.07747099 0.5326087  0.         0.        ]]\n"
                }
            ], 
            "source": "xy = np.array([[828.659973, 833.450012, 908100, 828.349976, 831.659973],\n               [823.02002, 828.070007, 1828100, 821.655029, 828.070007],\n               [819.929993, 824.400024, 1438100, 818.97998, 824.159973],\n               [816, 820.958984, 1008100, 815.48999, 819.23999],\n               [819.359985, 823, 1188100, 818.469971, 818.97998],\n               [819, 823, 1198100, 816, 820.450012],\n               [811.700012, 815.25, 1098100, 809.780029, 813.669983],\n               [809.51001, 816.659973, 1398100, 804.539978, 809.559998]])\n\n# very important. It does not work without it.\nxy = MinMaxScaler(xy)\nprint(xy)"
        }, 
        {
            "source": "* ***\uc804\ucc98\ub9ac\ub41c  input data\ub97c \ubcf4\uba74 \uac12\uc758 \ud06c\uae30\uac00 \uc77c\uc815\ud558\uac8c \uc870\uc815\ub418\uc5c8\uc2b5\ub2c8\ub2e4.***\n* ***\uc544\ub798 \ub85c\uc9c1\uc740 \ub3d9\uc77c\ud569\ub2c8\ub2e4.***", 
            "cell_type": "markdown", 
            "metadata": {}
        }, 
        {
            "execution_count": 9, 
            "cell_type": "code", 
            "metadata": {}, 
            "outputs": [], 
            "source": "x_data = xy[:, 0:-1]\ny_data = xy[:, [-1]]\n\n# placeholders for a tensor that will be always fed.\nX = tf.placeholder(tf.float32, shape=[None, 4])\nY = tf.placeholder(tf.float32, shape=[None, 1])\n\nW = tf.Variable(tf.random_normal([4, 1]), name='weight')\nb = tf.Variable(tf.random_normal([1]), name='bias')\n\n# Hypothesis\nhypothesis = tf.matmul(X, W) + b\n\n# Simplified cost/loss function\ncost = tf.reduce_mean(tf.square(hypothesis - Y))\n\n# Minimize\noptimizer = tf.train.GradientDescentOptimizer(learning_rate=1e-5)\ntrain = optimizer.minimize(cost)"
        }, 
        {
            "execution_count": 10, 
            "cell_type": "code", 
            "metadata": {}, 
            "outputs": [
                {
                    "output_type": "stream", 
                    "name": "stdout", 
                    "text": "0 Cost:  0.1417903\n10 Cost:  0.07661012\n20 Cost:  0.048804\n30 Cost:  0.032564748\n40 Cost:  0.022742402\n50 Cost:  0.016580729\n60 Cost:  0.01257634\n70 Cost:  0.009889303\n80 Cost:  0.008036459\n90 Cost:  0.0067303977\n100 Cost:  0.0057938937\nPrediction --   [[0.9876527 ]\n [0.72260636]\n [0.6109967 ]\n [0.45901826]\n [0.5921175 ]\n [0.4922859 ]\n [0.2360172 ]\n [0.00780798]]\n"
                }
            ], 
            "source": "# Launch the graph in a session.\nsess = tf.Session()\n# Initializes global variables in the graph.\nsess.run(tf.global_variables_initializer())\n\nfor step in range(101):\n    cost_val, hy_val, _ = sess.run(\n        [cost, hypothesis, train], feed_dict={X: x_data, Y: y_data})\n    if step % 10 ==0:\n        print(step, \"Cost: \", cost_val,)   \nprint(\"Prediction --  \", hy_val)"
        }, 
        {
            "source": "* ***learning rate \ub97c \uc870\uc815\ud574\ubcf4\uba74 \ub354 \uc88b\uc740 \uacb0\uacfc\ub97c \uc5bb\uc744 \uc218 \uc788\uc2b5\ub2c8\ub2e4.***", 
            "cell_type": "markdown", 
            "metadata": {}
        }, 
        {
            "execution_count": null, 
            "cell_type": "code", 
            "metadata": {}, 
            "outputs": [], 
            "source": "'''\n100 Cost:  0.152254\nPrediction:\n [[ 1.63450289]\n [ 0.06628087]\n [ 0.35014752]\n [ 0.67070574]\n [ 0.61131608]\n [ 0.61466062]\n [ 0.23175186]\n [-0.13716528]]\n\n'''"
        }
    ], 
    "metadata": {
        "kernelspec": {
            "display_name": "Python 3.5", 
            "name": "python3", 
            "language": "python"
        }, 
        "language_info": {
            "mimetype": "text/x-python", 
            "nbconvert_exporter": "python", 
            "version": "3.5.4", 
            "name": "python", 
            "file_extension": ".py", 
            "pygments_lexer": "ipython3", 
            "codemirror_mode": {
                "version": 3, 
                "name": "ipython"
            }
        }
    }, 
    "nbformat": 4
}