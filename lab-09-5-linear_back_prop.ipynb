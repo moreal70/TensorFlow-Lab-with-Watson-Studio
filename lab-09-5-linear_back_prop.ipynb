{
    "nbformat_minor": 2, 
    "cells": [
        {
            "source": "---\n* *** \uc6d0\ubcf8 \uc18c\uc2a4\ub294 \ud64d\ucf69\uacfc\uae30\ub300 \uae40\uc131\ud6c8 \uad50\uc218\ub2d8\uc758  [Github link](https://github.com/hunkim/DeepLearningZeroToAll)\ub97c \ucc38\uc870\ud558\uc138\uc694 ***     \n* *** Watson studio notebook \uc5d0\uc11c \uc791\uc5c5 \uac00\ub2a5\ud558\ub3c4\ub85d \uc218\uc815\ud558\uc600\uc73c\uba70***\n* *** \ud55c\uae00\ub85c \uc124\uba85\ub41c \ubd80\ubd84\uc740 \uc81c\uac00 \uc2a4\ud130\ub514 \ud558\uba74\uc11c \uc774\ud574\ud55c \ub0b4\uc6a9\uc744 \ucd94\uac00\ud55c \uac83\uc785\ub2c8\ub2e4. ***\n---", 
            "cell_type": "markdown", 
            "metadata": {}
        }, 
        {
            "source": "# Lab 9-5 linear back propagation", 
            "cell_type": "markdown", 
            "metadata": {}
        }, 
        {
            "execution_count": 1, 
            "cell_type": "code", 
            "metadata": {}, 
            "outputs": [], 
            "source": "# http://blog.aloni.org/posts/backprop-with-tensorflow/\n# https://medium.com/@karpathy/yes-you-should-understand-backprop-e2f06eab496b#.b3rvzhx89\n# WIP\nimport tensorflow as tf\n\ntf.set_random_seed(777)  # reproducibility\n\n# tf Graph Input\nx_data = [[1.],\n          [2.],\n          [3.]]\ny_data = [[1.],\n          [2.],\n          [3.]]\n\n\n# placeholders for a tensor that will be always fed.\nX = tf.placeholder(tf.float32, shape=[None, 1])\nY = tf.placeholder(tf.float32, shape=[None, 1])\n\n# Set wrong model weights\nW = tf.Variable(tf.truncated_normal([1, 1]))\nb = tf.Variable(5.)\n\n# Forward prop\nhypothesis = tf.matmul(X, W) + b"
        }, 
        {
            "execution_count": 2, 
            "cell_type": "code", 
            "metadata": {}, 
            "outputs": [
                {
                    "output_type": "stream", 
                    "name": "stdout", 
                    "text": "Tensor(\"Placeholder:0\", shape=(?, 1), dtype=float32) <tf.Variable 'Variable:0' shape=(1, 1) dtype=float32_ref> Tensor(\"sub:0\", shape=(?, 1), dtype=float32) Tensor(\"MatMul_1:0\", shape=(1, 1), dtype=float32)\n"
                }
            ], 
            "source": "# diff\nassert hypothesis.shape.as_list() == Y.shape.as_list()\ndiff = (hypothesis - Y)\n\n# Back prop (chain rule)\nd_l1 = diff\nd_b = d_l1\nd_w = tf.matmul(tf.transpose(X), d_l1)\n\nprint(X, W, d_l1, d_w)"
        }, 
        {
            "execution_count": 3, 
            "cell_type": "code", 
            "metadata": {}, 
            "outputs": [], 
            "source": "# Updating network using gradients\nlearning_rate = 0.1\nstep = [\n    tf.assign(W, W - learning_rate * d_w),\n    tf.assign(b, b - learning_rate * tf.reduce_mean(d_b)),\n]"
        }, 
        {
            "execution_count": 4, 
            "cell_type": "code", 
            "metadata": {}, 
            "outputs": [], 
            "source": "# 7. Running and testing the training process\nRMSE = tf.reduce_mean(tf.square((Y - hypothesis)))\n\nsess = tf.InteractiveSession()\ninit = tf.global_variables_initializer()\nsess.run(init)"
        }, 
        {
            "execution_count": 12, 
            "cell_type": "code", 
            "metadata": {}, 
            "outputs": [
                {
                    "output_type": "stream", 
                    "name": "stdout", 
                    "text": "0 4.26326e-14\n10 4.26326e-14\n20 4.26326e-14\n30 4.26326e-14\n40 4.26326e-14\n50 4.26326e-14\n60 4.26326e-14\n70 4.26326e-14\n80 4.26326e-14\n90 4.26326e-14\n[[ 4.]\n [ 5.]\n [ 6.]]\n"
                }
            ], 
            "source": "for i in range(100):\n    s,r = sess.run([step, RMSE], feed_dict={X: x_data, Y: y_data})\n    if i % 10 ==0:\n        print(i, r) \nprint(sess.run(hypothesis, feed_dict={X: [[4],[5],[6]]}))"
        }
    ], 
    "metadata": {
        "kernelspec": {
            "display_name": "Python 3.5", 
            "name": "python3", 
            "language": "python"
        }, 
        "language_info": {
            "mimetype": "text/x-python", 
            "nbconvert_exporter": "python", 
            "version": "3.5.4", 
            "name": "python", 
            "file_extension": ".py", 
            "pygments_lexer": "ipython3", 
            "codemirror_mode": {
                "version": 3, 
                "name": "ipython"
            }
        }
    }, 
    "nbformat": 4
}