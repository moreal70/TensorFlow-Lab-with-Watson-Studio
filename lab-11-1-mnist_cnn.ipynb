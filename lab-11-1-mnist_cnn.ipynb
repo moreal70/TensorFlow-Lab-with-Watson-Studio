{
    "nbformat_minor": 2, 
    "cells": [
        {
            "source": "---\n* *** \uc6d0\ubcf8 \uc18c\uc2a4\ub294 \ud64d\ucf69\uacfc\uae30\ub300 \uae40\uc131\ud6c8 \uad50\uc218\ub2d8\uc758  [Github link](https://github.com/hunkim/DeepLearningZeroToAll)\ub97c \ucc38\uc870\ud558\uc138\uc694 ***     \n* *** Watson studio notebook \uc5d0\uc11c \uc791\uc5c5 \uac00\ub2a5\ud558\ub3c4\ub85d \uc218\uc815\ud558\uc600\uc73c\uba70***\n* *** \ud55c\uae00\ub85c \uc124\uba85\ub41c \ubd80\ubd84\uc740 \uc81c\uac00 \uc2a4\ud130\ub514 \ud558\uba74\uc11c \uc774\ud574\ud55c \ub0b4\uc6a9\uc744 \ucd94\uac00\ud55c \uac83\uc785\ub2c8\ub2e4. ***\n---", 
            "cell_type": "markdown", 
            "metadata": {}
        }, 
        {
            "source": "## MNIST data\ub97c \uac00\uc9c0\uace0 2\uac1c\uc758 CNN\uacfc 1\uac1c\uc758 FC\ub85c \ucc98\ub9ac\ud574\ubcf4\uae30 ", 
            "cell_type": "markdown", 
            "metadata": {}
        }, 
        {
            "execution_count": 1, 
            "cell_type": "code", 
            "metadata": {}, 
            "outputs": [
                {
                    "output_type": "stream", 
                    "name": "stdout", 
                    "text": "Successfully downloaded train-images-idx3-ubyte.gz 9912422 bytes.\nExtracting MNIST_data/train-images-idx3-ubyte.gz\nSuccessfully downloaded train-labels-idx1-ubyte.gz 28881 bytes.\nExtracting MNIST_data/train-labels-idx1-ubyte.gz\nSuccessfully downloaded t10k-images-idx3-ubyte.gz 1648877 bytes.\nExtracting MNIST_data/t10k-images-idx3-ubyte.gz\nSuccessfully downloaded t10k-labels-idx1-ubyte.gz 4542 bytes.\nExtracting MNIST_data/t10k-labels-idx1-ubyte.gz\n"
                }
            ], 
            "source": "# Lab 11 MNIST and Convolutional Neural Network\nimport tensorflow as tf\nimport random\nimport matplotlib.pyplot as plt\n\nfrom tensorflow.examples.tutorials.mnist import input_data\n\ntf.set_random_seed(777)  # reproducibility\n\nmnist = input_data.read_data_sets(\"MNIST_data/\", one_hot=True)\n# Check out https://www.tensorflow.org/get_started/mnist/beginners for\n# more information about the mnist dataset"
        }, 
        {
            "execution_count": 2, 
            "cell_type": "code", 
            "metadata": {}, 
            "outputs": [
                {
                    "output_type": "stream", 
                    "name": "stdout", 
                    "text": "t10k-images-idx3-ubyte.gz  train-images-idx3-ubyte.gz\r\nt10k-labels-idx1-ubyte.gz  train-labels-idx1-ubyte.gz\r\n"
                }
            ], 
            "source": "!dir MNIST_data"
        }, 
        {
            "source": "* ***  cnn --> relu --> max_pool \ucc98\ub9ac Layer\ub97c 2\ubc88 \uc218\ud589 ***", 
            "cell_type": "markdown", 
            "metadata": {}
        }, 
        {
            "execution_count": 3, 
            "cell_type": "code", 
            "metadata": {}, 
            "outputs": [
                {
                    "output_type": "stream", 
                    "name": "stdout", 
                    "text": "Tensor(\"Conv2D:0\", shape=(?, 28, 28, 32), dtype=float32)\nTensor(\"Relu:0\", shape=(?, 28, 28, 32), dtype=float32)\nTensor(\"MaxPool:0\", shape=(?, 14, 14, 32), dtype=float32)\n"
                }, 
                {
                    "execution_count": 3, 
                    "metadata": {}, 
                    "data": {
                        "text/plain": "'\\nTensor(\"Conv2D:0\", shape=(?, 28, 28, 32), dtype=float32)\\nTensor(\"Relu:0\", shape=(?, 28, 28, 32), dtype=float32)\\nTensor(\"MaxPool:0\", shape=(?, 14, 14, 32), dtype=float32)\\n'"
                    }, 
                    "output_type": "execute_result"
                }
            ], 
            "source": "# input place holders\nX = tf.placeholder(tf.float32, [None, 784])   # \uc804\uccb4 image \ucc98\ub9ac \uac2f\uc218\nX_img = tf.reshape(X, [-1, 28, 28, 1])   # img 28x28x1 (black/white)\nY = tf.placeholder(tf.float32, [None, 10])     # lable \uac2f\uc218\n\n# L1 ImgIn shape=(?, 28, 28, 1)\nW1 = tf.Variable(tf.random_normal([3, 3, 1, 32], stddev=0.01))    # 32\uac1c filter \uc0ac\uc6a9\n#    Conv     -> (?, 28, 28, 32)\n#    Pool     -> (?, 14, 14, 32)\nL1 = tf.nn.conv2d(X_img, W1, strides=[1, 1, 1, 1], padding='SAME')\nprint(L1)\nL1 = tf.nn.relu(L1)\nprint(L1)\nL1 = tf.nn.max_pool(L1, ksize=[1, 2, 2, 1], strides=[1, 2, 2, 1], padding='SAME')\nprint(L1)\n'''\nTensor(\"Conv2D:0\", shape=(?, 28, 28, 32), dtype=float32)\nTensor(\"Relu:0\", shape=(?, 28, 28, 32), dtype=float32)\nTensor(\"MaxPool:0\", shape=(?, 14, 14, 32), dtype=float32)\n'''"
        }, 
        {
            "execution_count": 4, 
            "cell_type": "code", 
            "metadata": {}, 
            "outputs": [
                {
                    "output_type": "stream", 
                    "name": "stdout", 
                    "text": "Tensor(\"Conv2D_1:0\", shape=(?, 14, 14, 64), dtype=float32)\nTensor(\"Relu_1:0\", shape=(?, 14, 14, 64), dtype=float32)\nTensor(\"MaxPool_1:0\", shape=(?, 7, 7, 64), dtype=float32)\n"
                }, 
                {
                    "execution_count": 4, 
                    "metadata": {}, 
                    "data": {
                        "text/plain": "'\\nTensor(\"Conv2D_1:0\", shape=(?, 14, 14, 64), dtype=float32)\\nTensor(\"Relu_1:0\", shape=(?, 14, 14, 64), dtype=float32)\\nTensor(\"MaxPool_1:0\", shape=(?, 7, 7, 64), dtype=float32)\\nTensor(\"Reshape_1:0\", shape=(?, 3136), dtype=float32)\\n'"
                    }, 
                    "output_type": "execute_result"
                }
            ], 
            "source": "# L2 ImgIn shape=(?, 14, 14, 32)\nW2 = tf.Variable(tf.random_normal([3, 3, 32, 64], stddev=0.01))   # 64\uac1c filter \uc0ac\uc6a9\n#    Conv      ->(?, 14, 14, 64)\n#    Pool      ->(?, 7, 7, 64)\nL2 = tf.nn.conv2d(L1, W2, strides=[1, 1, 1, 1], padding='SAME')\nprint(L2)\nL2 = tf.nn.relu(L2)\nprint(L2)\nL2 = tf.nn.max_pool(L2, ksize=[1, 2, 2, 1], strides=[1, 2, 2, 1], padding='SAME')\nprint(L2)\nL2_flat = tf.reshape(L2, [-1, 7 * 7 * 64])   # full connected \ub85c \ub123\uae30 \uc704\ud574\uc11c 1\ucc28\uc6d0\uc73c\ub85c \ub9cc\ub4e4\uc5b4\uc90c\n\n'''\nTensor(\"Conv2D_1:0\", shape=(?, 14, 14, 64), dtype=float32)\nTensor(\"Relu_1:0\", shape=(?, 14, 14, 64), dtype=float32)\nTensor(\"MaxPool_1:0\", shape=(?, 7, 7, 64), dtype=float32)\nTensor(\"Reshape_1:0\", shape=(?, 3136), dtype=float32)\n'''"
        }, 
        {
            "source": "* ***CNN \ucc98\ub9ac \uc774\ud6c4\uc5d0 learning \uc218\ud589***", 
            "cell_type": "markdown", 
            "metadata": {}
        }, 
        {
            "execution_count": 5, 
            "cell_type": "code", 
            "metadata": {}, 
            "outputs": [], 
            "source": "# Final FC 7x7x64 inputs -> 10 outputs\n\n# hyper parameters\nlearning_rate = 0.001\ntraining_epochs = 15\nbatch_size = 100\n\nW3 = tf.get_variable(\"W3\", shape=[7 * 7 * 64, 10],\n                     initializer=tf.contrib.layers.xavier_initializer())\nb = tf.Variable(tf.random_normal([10]))\nlogits = tf.matmul(L2_flat, W3) + b\n\n# define cost/loss & optimizer\ncost = tf.reduce_mean(tf.nn.softmax_cross_entropy_with_logits(\n    logits=logits, labels=Y))\noptimizer = tf.train.AdamOptimizer(learning_rate=learning_rate).minimize(cost)"
        }, 
        {
            "execution_count": 6, 
            "cell_type": "code", 
            "metadata": {}, 
            "outputs": [
                {
                    "output_type": "stream", 
                    "name": "stdout", 
                    "text": "Learning started. It takes sometime.\nEpoch: 0001 cost = 0.345597459\nEpoch: 0002 cost = 0.091797432\nEpoch: 0003 cost = 0.068372396\nEpoch: 0004 cost = 0.056379004\nEpoch: 0005 cost = 0.046920019\nEpoch: 0006 cost = 0.041171568\nEpoch: 0007 cost = 0.036644606\nEpoch: 0008 cost = 0.032853815\nEpoch: 0009 cost = 0.028126524\nEpoch: 0010 cost = 0.024791351\nEpoch: 0011 cost = 0.022118081\nEpoch: 0012 cost = 0.020218051\nEpoch: 0013 cost = 0.017048809\nEpoch: 0015 cost = 0.013110995\nLearning Finished!\n"
                }
            ], 
            "source": "# initialize\nsess = tf.Session()\nsess.run(tf.global_variables_initializer())\n\n# train my model\nprint('Learning started. It takes sometime.')\nfor epoch in range(training_epochs):\n    avg_cost = 0\n    total_batch = int(mnist.train.num_examples / batch_size)\n\n    for i in range(total_batch):\n        batch_xs, batch_ys = mnist.train.next_batch(batch_size)\n        feed_dict = {X: batch_xs, Y: batch_ys}\n        c, _ = sess.run([cost, optimizer], feed_dict=feed_dict)\n        avg_cost += c / total_batch\n\n    print('Epoch:', '%04d' % (epoch + 1), 'cost =', '{:.9f}'.format(avg_cost))\n\nprint('Learning Finished!')"
        }, 
        {
            "execution_count": 7, 
            "cell_type": "code", 
            "metadata": {}, 
            "outputs": [
                {
                    "output_type": "stream", 
                    "name": "stdout", 
                    "text": "Accuracy: 0.9879\n"
                }
            ], 
            "source": "# Test model and check accuracy\ncorrect_prediction = tf.equal(tf.argmax(logits, 1), tf.argmax(Y, 1))\naccuracy = tf.reduce_mean(tf.cast(correct_prediction, tf.float32))\nprint('Accuracy:', sess.run(accuracy, feed_dict={\n      X: mnist.test.images, Y: mnist.test.labels}))"
        }, 
        {
            "execution_count": 8, 
            "cell_type": "code", 
            "metadata": {}, 
            "outputs": [
                {
                    "output_type": "stream", 
                    "name": "stdout", 
                    "text": "Label:  [4]\nPrediction:  [4]\n"
                }, 
                {
                    "output_type": "display_data", 
                    "data": {
                        "image/png": "[encoded data removed]", 
                        "text/plain": "<matplotlib.figure.Figure at 0x2b0cac70c2e8>"
                    }, 
                    "metadata": {}
                }
            ], 
            "source": "# Get one and predict\nr = random.randint(0, mnist.test.num_examples - 1)\nprint(\"Label: \", sess.run(tf.argmax(mnist.test.labels[r:r + 1], 1)))\nprint(\"Prediction: \", sess.run(\n    tf.argmax(logits, 1), feed_dict={X: mnist.test.images[r:r + 1]}))\n\nplt.imshow(mnist.test.images[r:r + 1].\n           reshape(28, 28), cmap='Greys', interpolation='nearest')\nplt.show()"
        }, 
        {
            "execution_count": 9, 
            "cell_type": "code", 
            "metadata": {}, 
            "outputs": [
                {
                    "execution_count": 9, 
                    "metadata": {}, 
                    "data": {
                        "text/plain": "'\\nEpoch: 0001 cost = 0.340291267\\nEpoch: 0002 cost = 0.090731326\\nEpoch: 0003 cost = 0.064477619\\nEpoch: 0004 cost = 0.050683064\\nEpoch: 0005 cost = 0.041864835\\nEpoch: 0006 cost = 0.035760704\\nEpoch: 0007 cost = 0.030572132\\nEpoch: 0008 cost = 0.026207981\\nEpoch: 0009 cost = 0.022622454\\nEpoch: 0010 cost = 0.019055919\\nEpoch: 0011 cost = 0.017758641\\nEpoch: 0012 cost = 0.014156652\\nEpoch: 0013 cost = 0.012397016\\nEpoch: 0014 cost = 0.010693789\\nEpoch: 0015 cost = 0.009469977\\nLearning Finished!\\nAccuracy: 0.9885\\n'"
                    }, 
                    "output_type": "execute_result"
                }
            ], 
            "source": "'''\nEpoch: 0001 cost = 0.340291267\nEpoch: 0002 cost = 0.090731326\nEpoch: 0003 cost = 0.064477619\nEpoch: 0004 cost = 0.050683064\nEpoch: 0005 cost = 0.041864835\nEpoch: 0006 cost = 0.035760704\nEpoch: 0007 cost = 0.030572132\nEpoch: 0008 cost = 0.026207981\nEpoch: 0009 cost = 0.022622454\nEpoch: 0010 cost = 0.019055919\nEpoch: 0011 cost = 0.017758641\nEpoch: 0012 cost = 0.014156652\nEpoch: 0013 cost = 0.012397016\nEpoch: 0014 cost = 0.010693789\nEpoch: 0015 cost = 0.009469977\nLearning Finished!\nAccuracy: 0.9885\n'''"
        }
    ], 
    "metadata": {
        "kernelspec": {
            "display_name": "Python 3.5", 
            "name": "python3", 
            "language": "python"
        }, 
        "language_info": {
            "mimetype": "text/x-python", 
            "nbconvert_exporter": "python", 
            "version": "3.5.4", 
            "name": "python", 
            "file_extension": ".py", 
            "pygments_lexer": "ipython3", 
            "codemirror_mode": {
                "version": 3, 
                "name": "ipython"
            }
        }
    }, 
    "nbformat": 4
}