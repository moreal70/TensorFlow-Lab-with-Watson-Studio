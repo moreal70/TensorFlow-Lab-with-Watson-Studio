{
    "nbformat_minor": 2, 
    "cells": [
        {
            "source": "---\n* *** \uc6d0\ubcf8 \uc18c\uc2a4\ub294 \ud64d\ucf69\uacfc\uae30\ub300 \uae40\uc131\ud6c8 \uad50\uc218\ub2d8\uc758  [Github link](https://github.com/hunkim/DeepLearningZeroToAll)\ub97c \ucc38\uc870\ud558\uc138\uc694 ***     \n* *** Watson studio notebook \uc5d0\uc11c \uc791\uc5c5 \uac00\ub2a5\ud558\ub3c4\ub85d \uc218\uc815\ud558\uc600\uc73c\uba70***\n* *** \ud55c\uae00\ub85c \uc124\uba85\ub41c \ubd80\ubd84\uc740 \uc81c\uac00 \uc2a4\ud130\ub514 \ud558\uba74\uc11c \uc774\ud574\ud55c \ub0b4\uc6a9\uc744 \ucd94\uac00\ud55c \uac83\uc785\ub2c8\ub2e4. ***\n---", 
            "cell_type": "markdown", 
            "metadata": {}
        }, 
        {
            "source": "# Lab 9-4 XOR Tensorboard\n\n### - tensorboard\ub97c \ub744\uc6b0\uae30\uac00 \uc5b4\ub835\ub124\uc694 (\uace0\ubbfc\uc911^^ Watson studio\uc5d0\uc11c \ubd88\uac00\ub2a5\ud560 \uc218\ub3c4 \uc788\uc74c)\n* ***os file access\ud574\uc11c web browser\ub97c \uad6c\ub3d9\ud574\uc57c\ud568***", 
            "cell_type": "markdown", 
            "metadata": {}
        }, 
        {
            "execution_count": 1, 
            "cell_type": "code", 
            "metadata": {}, 
            "outputs": [], 
            "source": "import tensorflow as tf\nimport numpy as np\n\ntf.set_random_seed(777)  # for reproducibility\nlearning_rate = 0.01\n\nx_data = [[0, 0],\n          [0, 1],\n          [1, 0],\n          [1, 1]]\ny_data = [[0],\n          [1],\n          [1],\n          [0]]\nx_data = np.array(x_data, dtype=np.float32)\ny_data = np.array(y_data, dtype=np.float32)\n\nX = tf.placeholder(tf.float32, [None, 2], name='x-input')\nY = tf.placeholder(tf.float32, [None, 1], name='y-input')"
        }, 
        {
            "execution_count": 2, 
            "cell_type": "code", 
            "metadata": {}, 
            "outputs": [], 
            "source": "with tf.name_scope(\"layer1\") as scope:\n    W1 = tf.Variable(tf.random_normal([2, 2]), name='weight1')\n    b1 = tf.Variable(tf.random_normal([2]), name='bias1')\n    layer1 = tf.sigmoid(tf.matmul(X, W1) + b1)\n\n    w1_hist = tf.summary.histogram(\"weights1\", W1)\n    b1_hist = tf.summary.histogram(\"biases1\", b1)\n    layer1_hist = tf.summary.histogram(\"layer1\", layer1)\n\n\nwith tf.name_scope(\"layer2\") as scope:\n    W2 = tf.Variable(tf.random_normal([2, 1]), name='weight2')\n    b2 = tf.Variable(tf.random_normal([1]), name='bias2')\n    hypothesis = tf.sigmoid(tf.matmul(layer1, W2) + b2)\n\n    w2_hist = tf.summary.histogram(\"weights2\", W2)\n    b2_hist = tf.summary.histogram(\"biases2\", b2)\n    hypothesis_hist = tf.summary.histogram(\"hypothesis\", hypothesis)"
        }, 
        {
            "execution_count": 3, 
            "cell_type": "code", 
            "metadata": {}, 
            "outputs": [], 
            "source": "# cost/loss function\nwith tf.name_scope(\"cost\") as scope:\n    cost = -tf.reduce_mean(Y * tf.log(hypothesis) + (1 - Y) *\n                           tf.log(1 - hypothesis))\n    cost_summ = tf.summary.scalar(\"cost\", cost)\n\nwith tf.name_scope(\"train\") as scope:\n    train = tf.train.AdamOptimizer(learning_rate=learning_rate).minimize(cost)\n\n# Accuracy computation\n# True if hypothesis>0.5 else False\npredicted = tf.cast(hypothesis > 0.5, dtype=tf.float32)\naccuracy = tf.reduce_mean(tf.cast(tf.equal(predicted, Y), dtype=tf.float32))\naccuracy_summ = tf.summary.scalar(\"accuracy\", accuracy)"
        }, 
        {
            "execution_count": 19, 
            "cell_type": "code", 
            "metadata": {}, 
            "outputs": [], 
            "source": "# Launch graph\nsess = tf.Session()\n# tensorboard --logdir=./logs/xor_logs\nmerged_summary = tf.summary.merge_all()\nwriter = tf.summary.FileWriter(\"./logs\")\nwriter.add_graph(sess.graph)  # Show the graph\n\n# Initialize TensorFlow variables\nsess.run(tf.global_variables_initializer())"
        }, 
        {
            "execution_count": 20, 
            "cell_type": "code", 
            "metadata": {}, 
            "outputs": [
                {
                    "output_type": "stream", 
                    "name": "stdout", 
                    "text": "0 0.715638\n1000 0.022334\n2000 0.00630939\n3000 0.00277098\n4000 0.00142472\n5000 0.000789405\n6000 0.000455096\n7000 0.000268332\n8000 0.00016026\n9000 9.64897e-05\n10000 5.83398e-05\nw1--- [[ 9.02439308 -9.65184593]\n [-9.48265171  9.95403957]]\nw2--- [[ 20.17106056]\n [ 19.82086754]]\n"
                }
            ], 
            "source": "for step in range(10001):\n    summary, _ = sess.run([merged_summary, train], feed_dict={X: x_data, Y: y_data})\n    writer.add_summary(summary, global_step=step)\n\n    if step % 1000 == 0:\n        print(step, sess.run(cost, feed_dict={ X: x_data, Y: y_data}))\nprint('w1---',sess.run(W1))\nprint('w2---',sess.run(W2))"
        }, 
        {
            "execution_count": 6, 
            "cell_type": "code", 
            "metadata": {}, 
            "outputs": [
                {
                    "output_type": "stream", 
                    "name": "stdout", 
                    "text": "\nHypothesis:  [[  6.13103184e-05]\n [  9.99936938e-01]\n [  9.99950767e-01]\n [  5.97514772e-05]] \nCorrect:  [[ 0.]\n [ 1.]\n [ 1.]\n [ 0.]] \nAccuracy:  1.0\n"
                }
            ], 
            "source": "# Accuracy report\nh, c, a = sess.run([hypothesis, predicted, accuracy],\n                     feed_dict={X: x_data, Y: y_data})\nprint(\"\\nHypothesis: \", h, \"\\nCorrect: \", c, \"\\nAccuracy: \", a)"
        }, 
        {
            "execution_count": 29, 
            "cell_type": "code", 
            "metadata": {}, 
            "outputs": [
                {
                    "output_type": "stream", 
                    "name": "stdout", 
                    "text": "total 10504\r\ndrwxr-x--- 3 dsxuser dsxuser     4096 Apr 28 01:52 .\r\ndrwxr-x--- 3 dsxuser dsxuser     4096 Apr 28 01:30 ..\r\n-rw-r----- 1 dsxuser dsxuser 10740862 Apr 28 01:52 events.out.tfevents.1524880324.notebook-condafree1x4fecba7770043491cb58d74657965a774-35437h9fv\r\ndrwxr-x--- 2 dsxuser dsxuser     4096 Apr 28 01:30 xor_logs_r0_01\r\n"
                }
            ], 
            "source": "!ls -al /home/dsxuser/work/logs"
        }, 
        {
            "execution_count": 31, 
            "cell_type": "code", 
            "metadata": {}, 
            "outputs": [
                {
                    "output_type": "stream", 
                    "name": "stdout", 
                    "text": "2018-04-28 02:05:57.856119: W tensorflow/core/platform/cpu_feature_guard.cc:45] The TensorFlow library wasn't compiled to use SSE4.1 instructions, but these are available on your machine and could speed up CPU computations.\n2018-04-28 02:05:57.856193: W tensorflow/core/platform/cpu_feature_guard.cc:45] The TensorFlow library wasn't compiled to use SSE4.2 instructions, but these are available on your machine and could speed up CPU computations.\n2018-04-28 02:05:57.856215: W tensorflow/core/platform/cpu_feature_guard.cc:45] The TensorFlow library wasn't compiled to use AVX instructions, but these are available on your machine and could speed up CPU computations.\n2018-04-28 02:05:57.856243: W tensorflow/core/platform/cpu_feature_guard.cc:45] The TensorFlow library wasn't compiled to use AVX2 instructions, but these are available on your machine and could speed up CPU computations.\n2018-04-28 02:05:57.856262: W tensorflow/core/platform/cpu_feature_guard.cc:45] The TensorFlow library wasn't compiled to use FMA instructions, but these are available on your machine and could speed up CPU computations.\nTensorBoard 1.8.0 at http://notebook-condafree1x4fecba7770043491cb58d74657965a774-35437h9fv:6006 (Press CTRL+C to quit)\n^C\n"
                }
            ], 
            "source": "!tensorboard --logdir=/home/dsxuser/work/logs"
        }, 
        {
            "execution_count": null, 
            "cell_type": "code", 
            "metadata": {}, 
            "outputs": [], 
            "source": "'''\nHypothesis:  [[ 0.01338218]\n [ 0.98166394]\n [ 0.98809403]\n [ 0.01135799]]\nCorrect:  [[ 0.]\n [ 1.]\n [ 1.]\n [ 0.]]\nAccuracy:  1.0\n'''"
        }
    ], 
    "metadata": {
        "kernelspec": {
            "display_name": "Python 3.5", 
            "name": "python3", 
            "language": "python"
        }, 
        "language_info": {
            "mimetype": "text/x-python", 
            "nbconvert_exporter": "python", 
            "version": "3.5.4", 
            "name": "python", 
            "file_extension": ".py", 
            "pygments_lexer": "ipython3", 
            "codemirror_mode": {
                "version": 3, 
                "name": "ipython"
            }
        }
    }, 
    "nbformat": 4
}