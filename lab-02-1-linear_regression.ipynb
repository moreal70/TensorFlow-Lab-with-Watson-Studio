{
    "nbformat_minor": 2, 
    "cells": [
        {
            "source": "---\n* *** \uc6d0\ubcf8 \uc18c\uc2a4\ub294 \ud64d\ucf69\uacfc\uae30\ub300 \uae40\uc131\ud6c8 \uad50\uc218\ub2d8\uc758  [Github link](https://github.com/hunkim/DeepLearningZeroToAll)\ub97c \ucc38\uc870\ud558\uc138\uc694 ***     \n* *** Watson studio notebook \uc5d0\uc11c \uc791\uc5c5 \uac00\ub2a5\ud558\ub3c4\ub85d \uc218\uc815\ud558\uc600\uc73c\uba70***\n* *** \ud55c\uae00\ub85c \uc124\uba85\ub41c \ubd80\ubd84\uc740 \uc81c\uac00 \uc2a4\ud130\ub514 \ud558\uba74\uc11c \uc774\ud574\ud55c \ub0b4\uc6a9\uc744 \ucd94\uac00\ud55c \uac83\uc785\ub2c8\ub2e4. ***\n---", 
            "cell_type": "markdown", 
            "metadata": {}
        }, 
        {
            "source": "## Lab-02-1 linear regression", 
            "cell_type": "markdown", 
            "metadata": {}
        }, 
        {
            "execution_count": 1, 
            "cell_type": "code", 
            "metadata": {
                "collapsed": true
            }, 
            "outputs": [], 
            "source": "import tensorflow as tf\ntf.set_random_seed(777)  # for reprducibilty"
        }, 
        {
            "source": " * ***x \ub294 \ubd84\uc11d \ub300\uc0c1\uc774 \ub418\ub294 \uac12\uc73c\ub85c feature \ub77c\uace0 \ud558\uace0, y \ub294 \uacb0\uacfc \uc608\uce21 \uac12\uc785\ub2c8\ub2e4. \uc5ec\uae30\uc11c\ub294 \uc9c0\ub3c4 \ud559\uc2b5 (learning) \uc744 \uc704\ud55c \uc815\ub2f5\uc774\ub77c\uace0 \uc0dd\uac01\ud558\uba74 \ub429\ub2c8\ub2e4.***", 
            "cell_type": "markdown", 
            "metadata": {
                "collapsed": true
            }
        }, 
        {
            "execution_count": 2, 
            "cell_type": "code", 
            "metadata": {
                "collapsed": true
            }, 
            "outputs": [], 
            "source": "x_train = [1, 2, 3]\ny_train = [1, 2, 3]"
        }, 
        {
            "source": "* ***W\ub294 1\ucc28\ud568\uc218\uc758 \uae30\uc6b8\uae30\uace0,b \ub294 y \uc808\ud3b8\uc785\ub2c8\ub2e4.***\n* ***\uc6b0\ub9ac\uc758 \ubaa9\ud45c\ub294 \uacb0\uad6d \ucd5c\uc801\uc758 W & b\ub97c \ucc3e\uc544\ub0b4\ub294 \uac83\uc785\ub2c8\ub2e4.***", 
            "cell_type": "markdown", 
            "metadata": {}
        }, 
        {
            "execution_count": 3, 
            "cell_type": "code", 
            "metadata": {
                "collapsed": true
            }, 
            "outputs": [], 
            "source": "# Try to find value for W and b to compute y_data = x_data * W + b  \n# We know that W should be 1 and b should be 0\n# But let's TensorFlow figure it out \nW = tf.Variable(tf.random_normal([1]), name='weight')\nb = tf.Variable(tf.random_normal([1]), name='bias')"
        }, 
        {
            "source": "* ***W & b \ub97c \uac00\uc9c0\uace0 1\ucc28 \ud568\uc218\ub97c \ub9cc\ub4e4\uc5c8\uc2b5\ub2c8\ub2e4. ***\n* ***hypothesis\ub294 \uc911\ud559\uad50\ub54c \ubc30\uc6b4 y \uac12\uc5d0 \ud574\ub2f9\ud558\ub294 \uc815\ub2f5\uc774\ub77c\uace0 \uc8fc\uc5b4\uc9c4 y_train \uac12\ud558\uace0\uc758 \ucc28\ub97c \uc81c\uacf1\ud574\uc11c \ud3c9\uade0\uc744 \ub0b8 \uac83\uc744, cost \ub610\ub294 loss \ub77c\uace0 \uc598\uae30\ud569\ub2c8\ub2e4.***", 
            "cell_type": "markdown", 
            "metadata": {}
        }, 
        {
            "execution_count": 4, 
            "cell_type": "code", 
            "metadata": {
                "collapsed": true
            }, 
            "outputs": [], 
            "source": "# Out hypothesis XW+b\nhypothesis = x_train * W + b\n\n# cost/loss function\ncost = tf.reduce_mean(tf.square(hypothesis - y_train))"
        }, 
        {
            "source": "* ***\uc911\uc694\ud55c \uac83\uc740 \uc5ec\uae30\uc11c \uc774 cost \uac12\uc744 \ucd5c\uc18c\ud654 (\uc989 0\uc5d0 \uac00\uae4c\uc6b4) \ud558\ub294 W,b \ub97c \ucc3e\uc544\ub0b4\ub294 \uac83\uc774 \ubaa9\ud45c \uc785\ub2c8\ub2e4.***\n* ***\uc774\ub97c \uc704\ud55c \uc0ac\uc6a9\ud558\ub294 GradientDescent \ubaa8\ub4c8\uc740 learning rate \ub9cc\ud07c \uc6c0\uc9c1\uc5ec \uac00\uba74\uc11c minimum(cost) \uc5d0 \ub3c4\ub2ec\ud560\ub54c\uae4c\uc9c0 \ubc18\ubcf5\uc801\uc73c\ub85c \ub3cc\ub9bd\ub2c8\ub2e4. ***", 
            "cell_type": "markdown", 
            "metadata": {}
        }, 
        {
            "execution_count": 5, 
            "cell_type": "code", 
            "metadata": {
                "collapsed": true
            }, 
            "outputs": [], 
            "source": "optimizer = tf.train.GradientDescentOptimizer(learning_rate=0.01)\ntrain = optimizer.minimize(cost)"
        }, 
        {
            "source": "* ***\uc0ac\uc2e4 \uc55e \ubd80\ubd84\uc740 \uc120\uc5b8\ub9cc \ud558\ub294 \uac83\uc774\uace0\uc694***\n* ***\uc774\uc81c\ubd80\ud130, \uc2e4\uc81c\ub85c \uc2e4\ud589\uc744 \ud569\ub2c8\ub2e4. \uc120\ud589 lab \uc5d0\uc11c \uc124\uba85\ud588\ub4ef\uc774  session \uc815\uc758\ud558\uace0 run \ud574\uc918\uc57c \ud569\ub2c8\ub2e4. (\uc694 \uc0ac\uc774\uc5d0,, init \ud55c\ubc88 \uc218\ud589)***", 
            "cell_type": "markdown", 
            "metadata": {}
        }, 
        {
            "execution_count": 6, 
            "cell_type": "code", 
            "metadata": {
                "collapsed": true
            }, 
            "outputs": [], 
            "source": "# Launch the graph in a session.\nsess = tf.Session()\n# Initializes global variables in the graph.\nsess.run(tf.global_variables_initializer())"
        }, 
        {
            "source": "* ***2000\ubc88\uc744 \ub3cc\ub9bd\ub2c8\ub2e4.  \uc911\uac04\uc5d0 snap shot \ub370\uc774\ud130\ub97c \ucc0d\uc5b4\ubcf4\uba74,, cost \uac12\uc774 \uc810\uc810 0 \uc73c\ub85c \uc218\ub834\ud55c\ub2e4\ub294 \uac83\uc744 \uc54c \uc218 \uc788\uc2b5\ub2c8\ub2e4. ***\n* ***\uc6b0\ub9ac\uc758 \ubaa9\ud45c\uc778 \ucd5c\uc801\uc758 W & b\ub97c \ucc3e\uc544\ub0b8 \uac83\uc785\ub2c8\ub2e4.***", 
            "cell_type": "markdown", 
            "metadata": {}
        }, 
        {
            "execution_count": 7, 
            "cell_type": "code", 
            "metadata": {}, 
            "outputs": [
                {
                    "output_type": "stream", 
                    "name": "stdout", 
                    "text": "0 2.82329 [ 2.12867713] [-0.85235667]\n200 0.0699668 [ 1.30721486] [-0.69837117]\n400 0.0267167 [ 1.18983996] [-0.4315508]\n600 0.0102017 [ 1.11730957] [-0.26667204]\n800 0.00389553 [ 1.07249022] [-0.16478711]\n1000 0.0014875 [ 1.04479456] [-0.10182849]\n1200 0.000567998 [ 1.02768016] [-0.06292368]\n1400 0.000216891 [ 1.01710474] [-0.03888312]\n1600 8.28196e-05 [ 1.01056981] [-0.02402747]\n1800 3.16242e-05 [ 1.00653136] [-0.01484741]\n2000 1.20761e-05 [ 1.00403607] [-0.00917497]\n"
                }
            ], 
            "source": "for step in range(2001):\n    sess.run(train)\n    if step % 200 == 0:\n        print(step, sess.run(cost), sess.run(W), sess.run(b))"
        }, 
        {
            "source": "* ***\uc0c1\uc2dd\uc801\uc73c\ub85c \uc544\ub798 \uc88c\ud45c\ub97c \uadf8\ub9bc\uc73c\ub85c \uadf8\ub824\ubcf8\ub2e4\uba74,,, \uae30\uc6b8\uae30 1\uc774\uace0 , y \uc808\ud3b8\uc774 0\uc778 1\ucc28\uc6d0 \uadf8\ub798\ud504\ub97c \uadf8\ub9b4\uc218 \uc788\uc2b5\ub2c8\ub2e4.***\n* ***\uc9c1\uad00\uc801\uc73c\ub85c \uc54c\uc544\ub0bc\uc218 \uc788\uaca0\uc73c\ub098, \uc8fc\uc5b4\uc9c4 \uac12\uc774 \ubcf5\uc7a1\ud574\uc9c0\uba74 \ubd88\uac00\ub2a5\ud560 \uac83\uc774\uace0,  \uc774\ub97c \ucc3e\uc544\ub0b4\uae30 \uc704\ud574\uc11c Linear regression \uc744 \uc218\ud589\ud55c\uac83\uc785\ub2c8\ub2e4. ***     \nx_train = [1, 2, 3]     \ny_train = [1, 2, 3]\n\n### \uc65c W,b \ub97c \ucc3e\uc740 \uac83\uc774\uc9c0\uc694 ?   \uadf8 \uac83\uc740  \uc608\uce21\uc785\ub2c8\ub2e4.  \uc0c8\ub85c\uc6b4 x \uac12\uc774 \ub098\uc624\uba74 y \uac12\uc744 \uc608\uce21\ud560 \uc218 \uc788\ub294 \uac83\uc774\uc9c0\uc694. ", 
            "cell_type": "markdown", 
            "metadata": {}
        }
    ], 
    "metadata": {
        "kernelspec": {
            "display_name": "Python 3.5", 
            "name": "python3", 
            "language": "python"
        }, 
        "language_info": {
            "mimetype": "text/x-python", 
            "nbconvert_exporter": "python", 
            "version": "3.5.4", 
            "name": "python", 
            "file_extension": ".py", 
            "pygments_lexer": "ipython3", 
            "codemirror_mode": {
                "version": 3, 
                "name": "ipython"
            }
        }
    }, 
    "nbformat": 4
}