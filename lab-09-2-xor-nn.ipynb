{
    "nbformat_minor": 2, 
    "cells": [
        {
            "source": "---\n* *** \uc6d0\ubcf8 \uc18c\uc2a4\ub294 \ud64d\ucf69\uacfc\uae30\ub300 \uae40\uc131\ud6c8 \uad50\uc218\ub2d8\uc758  [Github link](https://github.com/hunkim/DeepLearningZeroToAll)\ub97c \ucc38\uc870\ud558\uc138\uc694 ***     \n* *** Watson studio notebook \uc5d0\uc11c \uc791\uc5c5 \uac00\ub2a5\ud558\ub3c4\ub85d \uc218\uc815\ud558\uc600\uc73c\uba70***\n* *** \ud55c\uae00\ub85c \uc124\uba85\ub41c \ubd80\ubd84\uc740 \uc81c\uac00 \uc2a4\ud130\ub514 \ud558\uba74\uc11c \uc774\ud574\ud55c \ub0b4\uc6a9\uc744 \ucd94\uac00\ud55c \uac83\uc785\ub2c8\ub2e4. ***\n---", 
            "cell_type": "markdown", 
            "metadata": {}
        }, 
        {
            "source": "# Lab 9-2 XOR with Neural Network\n* ***\ubc14\ub85c \uc55e\uc5d0 Lab 9 \uacfc \ub2e4\ub978 \uac83\uc740 \ub2e8\uc9c0  layer\ub97c \ud558\ub098 \ub354 \ub9cc\ub4e4\uc5b4\uc11c neural network \uc744 \uad6c\uc131\ud558\ub294 \uac83\uc785\ub2c8\ub2e4.***\n* ***\uc774 \ubcc0\ud654\ub97c \uac00\uc9c0\uace0 xor \ubb38\uc81c\uc5d0 \ub2f5\uc744 \ub0c5\ub2c8\ub2e4.***", 
            "cell_type": "markdown", 
            "metadata": {}
        }, 
        {
            "execution_count": 1, 
            "cell_type": "code", 
            "metadata": {}, 
            "outputs": [], 
            "source": "import tensorflow as tf\nimport numpy as np\n\ntf.set_random_seed(777)  # for reproducibility\nlearning_rate = 0.1\n\nx_data = [[0, 0],\n          [0, 1],\n          [1, 0],\n          [1, 1]]\ny_data = [[0],\n          [1],\n          [1],\n          [0]]\nx_data = np.array(x_data, dtype=np.float32)\ny_data = np.array(y_data, dtype=np.float32)\n\nX = tf.placeholder(tf.float32, [None, 2])\nY = tf.placeholder(tf.float32, [None, 1])"
        }, 
        {
            "source": "* ***Layer\ub97c \ud558\ub098 \ub354 \ub450\ub294 \ubc29\uc2dd\uc73c\ub85c NN \uc744 \ub9cc\ub4e4\uc5b4 \uc90d\ub2c8\ub2e4.***", 
            "cell_type": "markdown", 
            "metadata": {}
        }, 
        {
            "execution_count": 4, 
            "cell_type": "code", 
            "metadata": {}, 
            "outputs": [], 
            "source": "W1 = tf.Variable(tf.random_normal([2, 2]), name='weight1')\nb1 = tf.Variable(tf.random_normal([2]), name='bias1')\nlayer1 = tf.sigmoid(tf.matmul(X, W1) + b1)\n\nW2 = tf.Variable(tf.random_normal([2, 1]), name='weight2')\nb2 = tf.Variable(tf.random_normal([1]), name='bias2')\nhypothesis = tf.sigmoid(tf.matmul(layer1, W2) + b2)"
        }, 
        {
            "source": "* ***\uc544\ub798 \ucf54\ub4dc\ub294 \uc55e\uc5d0 lab \uacfc \ub3d9\uc77c\ud569\ub2c8\ub2e4.***", 
            "cell_type": "markdown", 
            "metadata": {}
        }, 
        {
            "execution_count": 5, 
            "cell_type": "code", 
            "metadata": {}, 
            "outputs": [], 
            "source": "# cost/loss function\ncost = -tf.reduce_mean(Y * tf.log(hypothesis) + (1 - Y) * tf.log(1 - hypothesis))\n\ntrain = tf.train.GradientDescentOptimizer(learning_rate=learning_rate).minimize(cost)"
        }, 
        {
            "execution_count": 7, 
            "cell_type": "code", 
            "metadata": {}, 
            "outputs": [
                {
                    "output_type": "stream", 
                    "name": "stdout", 
                    "text": "0 ---- 0.695347\n1000 ---- 0.687699\n2000 ---- 0.565141\n3000 ---- 0.299302\n4000 ---- 0.104162\n5000 ---- 0.0549706\n6000 ---- 0.0363279\n7000 ---- 0.0268684\n8000 ---- 0.0212217\n9000 ---- 0.0174927\n10000 ---- 0.0148555\n------\n [array([[ 6.62006235,  4.58348751],\n       [ 6.61755419,  4.58303976]], dtype=float32), array([[  9.89650536],\n       [-10.76815605]], dtype=float32)]\n"
                }
            ], 
            "source": "# Accuracy computation\n# True if hypothesis>0.5 else False\npredicted = tf.cast(hypothesis > 0.5, dtype=tf.float32)\naccuracy = tf.reduce_mean(tf.cast(tf.equal(predicted, Y), dtype=tf.float32))\n\n# Launch graph\nsess = tf.Session()\n# Initialize TensorFlow variables\nsess.run(tf.global_variables_initializer())\n\nfor step in range(10001):\n     sess.run(train, feed_dict={X: x_data, Y: y_data})\n     if step % 1000 == 0:\n        print(step,'----', sess.run(cost, feed_dict={X: x_data, Y: y_data}))\nprint('------\\n',sess.run([W1, W2]))"
        }, 
        {
            "source": "* ***cost \uac12\uc774 0\uc73c\ub85c \uc218\ub834\ud558\ub294 \uac83\uc744 \ubcfc\uc218 \uc788\uc2b5\ub2c8\ub2e4.***\n* ***\uc774\ub294 \uc55e\uc5d0 lab \ud558\uace0 \ubd84\uba85\ud558\uac8c \ub2e4\ub985\ub2c8\ub2e4.***", 
            "cell_type": "markdown", 
            "metadata": {}
        }, 
        {
            "execution_count": 8, 
            "cell_type": "code", 
            "metadata": {}, 
            "outputs": [
                {
                    "output_type": "stream", 
                    "name": "stdout", 
                    "text": "\nHypothesis: --- [[ 0.01783011]\n [ 0.98663306]\n [ 0.98663634]\n [ 0.01441529]] \nCorrect: ---  [[ 0.]\n [ 1.]\n [ 1.]\n [ 0.]] \nAccuracy:--- 1.0\n"
                }
            ], 
            "source": "    # Accuracy report\nh, c, a = sess.run([hypothesis, predicted, accuracy],feed_dict={X: x_data, Y: y_data})\nprint(\"\\nHypothesis: ---\", h, \"\\nCorrect: --- \", c, \"\\nAccuracy:---\", a)"
        }, 
        {
            "execution_count": null, 
            "cell_type": "code", 
            "metadata": {}, 
            "outputs": [], 
            "source": "'''\nHypothesis:  [[ 0.01338218]\n [ 0.98166394]\n [ 0.98809403]\n [ 0.01135799]]\nCorrect:  [[ 0.]\n [ 1.]\n [ 1.]\n [ 0.]]\nAccuracy:  1.0\n'''"
        }
    ], 
    "metadata": {
        "kernelspec": {
            "display_name": "Python 3.5", 
            "name": "python3", 
            "language": "python"
        }, 
        "language_info": {
            "mimetype": "text/x-python", 
            "nbconvert_exporter": "python", 
            "version": "3.5.4", 
            "name": "python", 
            "file_extension": ".py", 
            "pygments_lexer": "ipython3", 
            "codemirror_mode": {
                "version": 3, 
                "name": "ipython"
            }
        }
    }, 
    "nbformat": 4
}