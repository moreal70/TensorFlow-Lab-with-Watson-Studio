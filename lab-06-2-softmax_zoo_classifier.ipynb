{
    "nbformat_minor": 2, 
    "cells": [
        {
            "source": "---\n* *** \uc6d0\ubcf8 \uc18c\uc2a4\ub294 \ud64d\ucf69\uacfc\uae30\ub300 \uae40\uc131\ud6c8 \uad50\uc218\ub2d8\uc758  [Github link](https://github.com/hunkim/DeepLearningZeroToAll)\ub97c \ucc38\uc870\ud558\uc138\uc694 ***     \n* *** Watson studio notebook \uc5d0\uc11c \uc791\uc5c5 \uac00\ub2a5\ud558\ub3c4\ub85d \uc218\uc815\ud558\uc600\uc73c\uba70***\n* *** \ud55c\uae00\ub85c \uc124\uba85\ub41c \ubd80\ubd84\uc740 \uc81c\uac00 \uc2a4\ud130\ub514 \ud558\uba74\uc11c \uc774\ud574\ud55c \ub0b4\uc6a9\uc744 \ucd94\uac00\ud55c \uac83\uc785\ub2c8\ub2e4. ***\n---", 
            "cell_type": "markdown", 
            "metadata": {}
        }, 
        {
            "source": "# Lab 6 Softmax Classifier\n* ***Lab 6-1\ud558\uace0 \ub3d9\uc77c\ud558\uc9c0\ub9cc, zoo data file\uc744 input\uc73c\ub85c \uc501\ub2c8\ub2e4.***\n* ***input file \uc55e\ubd80\ubd84\uc5d0 comment \ucc98\ub9ac\ub41c \ub370\uc774\ud130\uac00 \ub4e4\uc5b4 \uc788\uc5b4\uc11c, np.loadtxt \uc640  pd.read_csv \uac04\uc758 default \uac12\uc774 \ub2ec\ub77c\uc11c \ucc98\ub9ac\uac00 \ud544\uc694\ud569\ub2c8\ub2e4***\n* ***\uc55e\uc5d0\uc11c\ub294 one hot encoding \uac1c\ub150\uc744 \uc218\uc791\uc5c5\uc73c\ub85c \ucc98\ub9ac\ud588\ub2e4\uba74, \uc5ec\uae30\uc11c\ub294 \ud568\uc218(one_hot, reshape)\ub85c \ucc98\ub9ac\ud569\ub2c8\ub2e4.***", 
            "cell_type": "markdown", 
            "metadata": {}
        }, 
        {
            "execution_count": 7, 
            "cell_type": "code", 
            "metadata": {}, 
            "outputs": [], 
            "source": "import tensorflow as tf\nimport numpy as np\ntf.set_random_seed(777)  # for reproducibility"
        }, 
        {
            "source": "* ***insert to code \ub85c \ubd88\ub7ec\uc628 \ucf54\ub4dc***", 
            "cell_type": "markdown", 
            "metadata": {}
        }, 
        {
            "execution_count": 8, 
            "cell_type": "code", 
            "metadata": {}, 
            "outputs": [
                {
                    "execution_count": 8, 
                    "metadata": {}, 
                    "data": {
                        "text/html": "<div>\n<style scoped>\n    .dataframe tbody tr th:only-of-type {\n        vertical-align: middle;\n    }\n\n    .dataframe tbody tr th {\n        vertical-align: top;\n    }\n\n    .dataframe thead th {\n        text-align: right;\n    }\n</style>\n<table border=\"1\" class=\"dataframe\">\n  <thead>\n    <tr style=\"text-align: right;\">\n      <th></th>\n      <th>1</th>\n      <th>0</th>\n      <th>0.1</th>\n      <th>1.1</th>\n      <th>0.2</th>\n      <th>0.3</th>\n      <th>1.2</th>\n      <th>1.3</th>\n      <th>1.4</th>\n      <th>1.5</th>\n      <th>0.4</th>\n      <th>0.5</th>\n      <th>4</th>\n      <th>0.6</th>\n      <th>0.7</th>\n      <th>1.6</th>\n      <th>0.8</th>\n    </tr>\n  </thead>\n  <tbody>\n    <tr>\n      <th>0</th>\n      <td>1</td>\n      <td>0</td>\n      <td>0</td>\n      <td>1</td>\n      <td>0</td>\n      <td>0</td>\n      <td>0</td>\n      <td>1</td>\n      <td>1</td>\n      <td>1</td>\n      <td>0</td>\n      <td>0</td>\n      <td>4</td>\n      <td>1</td>\n      <td>0</td>\n      <td>1</td>\n      <td>0</td>\n    </tr>\n    <tr>\n      <th>1</th>\n      <td>0</td>\n      <td>0</td>\n      <td>1</td>\n      <td>0</td>\n      <td>0</td>\n      <td>1</td>\n      <td>1</td>\n      <td>1</td>\n      <td>1</td>\n      <td>0</td>\n      <td>0</td>\n      <td>1</td>\n      <td>0</td>\n      <td>1</td>\n      <td>0</td>\n      <td>0</td>\n      <td>3</td>\n    </tr>\n    <tr>\n      <th>2</th>\n      <td>1</td>\n      <td>0</td>\n      <td>0</td>\n      <td>1</td>\n      <td>0</td>\n      <td>0</td>\n      <td>1</td>\n      <td>1</td>\n      <td>1</td>\n      <td>1</td>\n      <td>0</td>\n      <td>0</td>\n      <td>4</td>\n      <td>0</td>\n      <td>0</td>\n      <td>1</td>\n      <td>0</td>\n    </tr>\n    <tr>\n      <th>3</th>\n      <td>1</td>\n      <td>0</td>\n      <td>0</td>\n      <td>1</td>\n      <td>0</td>\n      <td>0</td>\n      <td>1</td>\n      <td>1</td>\n      <td>1</td>\n      <td>1</td>\n      <td>0</td>\n      <td>0</td>\n      <td>4</td>\n      <td>1</td>\n      <td>0</td>\n      <td>1</td>\n      <td>0</td>\n    </tr>\n    <tr>\n      <th>4</th>\n      <td>1</td>\n      <td>0</td>\n      <td>0</td>\n      <td>1</td>\n      <td>0</td>\n      <td>0</td>\n      <td>0</td>\n      <td>1</td>\n      <td>1</td>\n      <td>1</td>\n      <td>0</td>\n      <td>0</td>\n      <td>4</td>\n      <td>1</td>\n      <td>0</td>\n      <td>1</td>\n      <td>0</td>\n    </tr>\n  </tbody>\n</table>\n</div>", 
                        "text/plain": "   1  0  0.1  1.1  0.2  0.3  1.2  1.3  1.4  1.5  0.4  0.5  4  0.6  0.7  1.6  \\\n0  1  0    0    1    0    0    0    1    1    1    0    0  4    1    0    1   \n1  0  0    1    0    0    1    1    1    1    0    0    1  0    1    0    0   \n2  1  0    0    1    0    0    1    1    1    1    0    0  4    0    0    1   \n3  1  0    0    1    0    0    1    1    1    1    0    0  4    1    0    1   \n4  1  0    0    1    0    0    0    1    1    1    0    0  4    1    0    1   \n\n   0.8  \n0    0  \n1    3  \n2    0  \n3    0  \n4    0  "
                    }, 
                    "output_type": "execute_result"
                }
            ], 
            "source": "import sys\nimport types\nimport pandas as pd\nfrom botocore.client import Config\nimport ibm_boto3\n\ndef __iter__(self): return 0\n\n# The following code accesses a file in your IBM Cloud Object Storage. It includes your credentials.\n# You might want to remove those credentials before you share your notebook.\nclient_ace6f71a1b9946cbb684ca0d9e6c34c0 = ibm_boto3.client(service_name='s3',\n    ibm_api_key_id='xBNCWwO4mooXZRHuqZ71nRmyIlQt8ca3ZWN8pOo56X69Dx',     ##masking, use your own\n    ibm_auth_endpoint=\"https://iam.ng.bluemix.net/oidc/token\",\n    config=Config(signature_version='oauth'),\n    endpoint_url='https://s3-api.us-geo.objectstorage.service.networklayer.com')\n\nbody = client_ace6f71a1b9946cbb684ca0d9e6c34c0.get_object(Bucket='tensorflowlabwithwatsonstudio-donotdelete-pr-neiwaip4a29fcg',Key='data-04-zoo.csv')['Body']\n# add missing __iter__ method, so pandas accepts body as file-like object\nif not hasattr(body, \"__iter__\"): body.__iter__ = types.MethodType( __iter__, body )\n\ndf_data_1 = pd.read_csv(body,comment='#')\nxy = df_data_1.values\ndf_data_1.head()"
        }, 
        {
            "source": "* ***pd.read_csv(body,comment='#')   --> default comment = none***\n* ***np.loadtxt(aa,comment='#') --> default comment = '#'***", 
            "cell_type": "markdown", 
            "metadata": {}
        }, 
        {
            "execution_count": 9, 
            "cell_type": "code", 
            "metadata": {}, 
            "outputs": [
                {
                    "output_type": "stream", 
                    "name": "stdout", 
                    "text": "(100, 16) (100, 1)\n"
                }
            ], 
            "source": "# Predicting animal type based on various features\n# xy = np.loadtxt('data-04-zoo.csv', delimiter=',', dtype=np.float32)\nx_data = xy[:, 0:-1]\ny_data = xy[:, [-1]]\n\nprint(x_data.shape, y_data.shape)\n\nnb_classes = 7  # 0 ~ 6\n\nX = tf.placeholder(tf.float32, [None, 16])\nY = tf.placeholder(tf.int32, [None, 1])  # 0 ~ 6"
        }, 
        {
            "execution_count": 10, 
            "cell_type": "code", 
            "metadata": {}, 
            "outputs": [
                {
                    "execution_count": 10, 
                    "metadata": {}, 
                    "data": {
                        "text/plain": "array([[0],\n       [3],\n       [0],\n       [0],\n       [0],\n       [0],\n       [3],\n       [3],\n       [0],\n       [0]])"
                    }, 
                    "output_type": "execute_result"
                }
            ], 
            "source": "y_data[0:10,:]"
        }, 
        {
            "execution_count": 11, 
            "cell_type": "code", 
            "metadata": {}, 
            "outputs": [
                {
                    "output_type": "stream", 
                    "name": "stdout", 
                    "text": "one_hot Tensor(\"one_hot:0\", shape=(?, 1, 7), dtype=float32)\nreshape Tensor(\"Reshape:0\", shape=(?, 7), dtype=float32)\n"
                }
            ], 
            "source": "Y_one_hot = tf.one_hot(Y, nb_classes)  # one hot\nprint(\"one_hot\", Y_one_hot)\nY_one_hot = tf.reshape(Y_one_hot, [-1, nb_classes])\nprint(\"reshape\", Y_one_hot)\n\nW = tf.Variable(tf.random_normal([16, nb_classes]), name='weight')\nb = tf.Variable(tf.random_normal([nb_classes]), name='bias')"
        }, 
        {
            "execution_count": 12, 
            "cell_type": "code", 
            "metadata": {}, 
            "outputs": [], 
            "source": "# tf.nn.softmax computes softmax activations\n# softmax = exp(logits) / reduce_sum(exp(logits), dim)\nlogits = tf.matmul(X, W) + b\nhypothesis = tf.nn.softmax(logits)"
        }, 
        {
            "execution_count": 16, 
            "cell_type": "code", 
            "metadata": {}, 
            "outputs": [], 
            "source": "# Cross entropy cost/loss\ncost_i = tf.nn.softmax_cross_entropy_with_logits(logits=logits, labels=Y_one_hot)\ncost = tf.reduce_mean(cost_i)\noptimizer = tf.train.GradientDescentOptimizer(learning_rate=0.1).minimize(cost)"
        }, 
        {
            "execution_count": 17, 
            "cell_type": "code", 
            "metadata": {}, 
            "outputs": [], 
            "source": "prediction = tf.argmax(hypothesis, 1)\ncorrect_prediction = tf.equal(prediction, tf.argmax(Y_one_hot, 1))\naccuracy = tf.reduce_mean(tf.cast(correct_prediction, tf.float32))"
        }, 
        {
            "execution_count": 18, 
            "cell_type": "code", 
            "metadata": {}, 
            "outputs": [
                {
                    "output_type": "stream", 
                    "name": "stdout", 
                    "text": "Step:     0\tLoss: 5.153\tAcc: 37.00%\nStep:   100\tLoss: 0.802\tAcc: 80.00%\nStep:   200\tLoss: 0.488\tAcc: 88.00%\nStep:   300\tLoss: 0.350\tAcc: 90.00%\nStep:   400\tLoss: 0.272\tAcc: 94.00%\nStep:   500\tLoss: 0.222\tAcc: 95.00%\nStep:   600\tLoss: 0.187\tAcc: 97.00%\nStep:   700\tLoss: 0.161\tAcc: 97.00%\nStep:   800\tLoss: 0.141\tAcc: 97.00%\nStep:   900\tLoss: 0.124\tAcc: 97.00%\nStep:  1000\tLoss: 0.111\tAcc: 97.00%\nStep:  1100\tLoss: 0.101\tAcc: 99.00%\nStep:  1200\tLoss: 0.092\tAcc: 100.00%\nStep:  1300\tLoss: 0.084\tAcc: 100.00%\nStep:  1400\tLoss: 0.078\tAcc: 100.00%\nStep:  1500\tLoss: 0.072\tAcc: 100.00%\nStep:  1600\tLoss: 0.068\tAcc: 100.00%\nStep:  1700\tLoss: 0.064\tAcc: 100.00%\nStep:  1800\tLoss: 0.060\tAcc: 100.00%\nStep:  1900\tLoss: 0.057\tAcc: 100.00%\n"
                }
            ], 
            "source": "# Launch graph\nsess = tf.Session()\nsess.run(tf.global_variables_initializer())\n\nfor step in range(2000):\n    sess.run(optimizer, feed_dict={X: x_data, Y: y_data})\n    if step % 100 == 0:\n        loss, acc = sess.run([cost, accuracy], feed_dict={\n                             X: x_data, Y: y_data})\n        print(\"Step: {:5}\\tLoss: {:.3f}\\tAcc: {:.2%}\".format(\n            step, loss, acc))"
        }, 
        {
            "execution_count": 19, 
            "cell_type": "code", 
            "metadata": {}, 
            "outputs": [
                {
                    "output_type": "stream", 
                    "name": "stdout", 
                    "text": "[True] Prediction: 0 True Y: 0\n[True] Prediction: 3 True Y: 3\n[True] Prediction: 0 True Y: 0\n[True] Prediction: 0 True Y: 0\n[True] Prediction: 0 True Y: 0\n[True] Prediction: 0 True Y: 0\n[True] Prediction: 3 True Y: 3\n[True] Prediction: 3 True Y: 3\n[True] Prediction: 0 True Y: 0\n[True] Prediction: 0 True Y: 0\n[True] Prediction: 1 True Y: 1\n[True] Prediction: 3 True Y: 3\n[True] Prediction: 6 True Y: 6\n[True] Prediction: 6 True Y: 6\n[True] Prediction: 6 True Y: 6\n[True] Prediction: 1 True Y: 1\n[True] Prediction: 0 True Y: 0\n[True] Prediction: 3 True Y: 3\n[True] Prediction: 0 True Y: 0\n[True] Prediction: 1 True Y: 1\n[True] Prediction: 1 True Y: 1\n[True] Prediction: 0 True Y: 0\n[True] Prediction: 1 True Y: 1\n[True] Prediction: 5 True Y: 5\n[True] Prediction: 4 True Y: 4\n[True] Prediction: 4 True Y: 4\n[True] Prediction: 0 True Y: 0\n[True] Prediction: 0 True Y: 0\n[True] Prediction: 0 True Y: 0\n[True] Prediction: 5 True Y: 5\n[True] Prediction: 0 True Y: 0\n[True] Prediction: 0 True Y: 0\n[True] Prediction: 1 True Y: 1\n[True] Prediction: 3 True Y: 3\n[True] Prediction: 0 True Y: 0\n[True] Prediction: 0 True Y: 0\n[True] Prediction: 1 True Y: 1\n[True] Prediction: 3 True Y: 3\n[True] Prediction: 5 True Y: 5\n[True] Prediction: 5 True Y: 5\n[True] Prediction: 1 True Y: 1\n[True] Prediction: 5 True Y: 5\n[True] Prediction: 1 True Y: 1\n[True] Prediction: 0 True Y: 0\n[True] Prediction: 0 True Y: 0\n[True] Prediction: 6 True Y: 6\n[True] Prediction: 0 True Y: 0\n[True] Prediction: 0 True Y: 0\n[True] Prediction: 0 True Y: 0\n[True] Prediction: 0 True Y: 0\n[True] Prediction: 5 True Y: 5\n[True] Prediction: 4 True Y: 4\n[True] Prediction: 6 True Y: 6\n[True] Prediction: 0 True Y: 0\n[True] Prediction: 0 True Y: 0\n[True] Prediction: 1 True Y: 1\n[True] Prediction: 1 True Y: 1\n[True] Prediction: 1 True Y: 1\n[True] Prediction: 1 True Y: 1\n[True] Prediction: 3 True Y: 3\n[True] Prediction: 3 True Y: 3\n[True] Prediction: 2 True Y: 2\n[True] Prediction: 0 True Y: 0\n[True] Prediction: 0 True Y: 0\n[True] Prediction: 0 True Y: 0\n[True] Prediction: 0 True Y: 0\n[True] Prediction: 0 True Y: 0\n[True] Prediction: 0 True Y: 0\n[True] Prediction: 0 True Y: 0\n[True] Prediction: 0 True Y: 0\n[True] Prediction: 1 True Y: 1\n[True] Prediction: 6 True Y: 6\n[True] Prediction: 3 True Y: 3\n[True] Prediction: 0 True Y: 0\n[True] Prediction: 0 True Y: 0\n[True] Prediction: 2 True Y: 2\n[True] Prediction: 6 True Y: 6\n[True] Prediction: 1 True Y: 1\n[True] Prediction: 1 True Y: 1\n[True] Prediction: 2 True Y: 2\n[True] Prediction: 6 True Y: 6\n[True] Prediction: 3 True Y: 3\n[True] Prediction: 1 True Y: 1\n[True] Prediction: 0 True Y: 0\n[True] Prediction: 6 True Y: 6\n[True] Prediction: 3 True Y: 3\n[True] Prediction: 1 True Y: 1\n[True] Prediction: 5 True Y: 5\n[True] Prediction: 4 True Y: 4\n[True] Prediction: 2 True Y: 2\n[True] Prediction: 2 True Y: 2\n[True] Prediction: 3 True Y: 3\n[True] Prediction: 0 True Y: 0\n[True] Prediction: 0 True Y: 0\n[True] Prediction: 1 True Y: 1\n[True] Prediction: 0 True Y: 0\n[True] Prediction: 5 True Y: 5\n[True] Prediction: 0 True Y: 0\n[True] Prediction: 6 True Y: 6\n[True] Prediction: 1 True Y: 1\n"
                }
            ], 
            "source": "# Let's see if we can predict\npred = sess.run(prediction, feed_dict={X: x_data})\n# y_data: (N,1) = flatten => (N, ) matches pred.shape\nfor p, y in zip(pred, y_data.flatten()):\n    print(\"[{}] Prediction: {} True Y: {}\".format(p == int(y), p, int(y)))"
        }, 
        {
            "execution_count": null, 
            "cell_type": "code", 
            "metadata": {}, 
            "outputs": [], 
            "source": "'''\nStep:     0 Loss: 5.106 Acc: 37.62%\nStep:   100 Loss: 0.800 Acc: 79.21%\nStep:   200 Loss: 0.486 Acc: 88.12%\nStep:   300 Loss: 0.349 Acc: 90.10%\nStep:   400 Loss: 0.272 Acc: 94.06%\nStep:   500 Loss: 0.222 Acc: 95.05%\nStep:   600 Loss: 0.187 Acc: 97.03%\nStep:   700 Loss: 0.161 Acc: 97.03%\nStep:   800 Loss: 0.140 Acc: 97.03%\nStep:   900 Loss: 0.124 Acc: 97.03%\nStep:  1000 Loss: 0.111 Acc: 97.03%\nStep:  1100 Loss: 0.101 Acc: 99.01%\nStep:  1200 Loss: 0.092 Acc: 100.00%\nStep:  1300 Loss: 0.084 Acc: 100.00%\n...\n[True] Prediction: 0 True Y: 0\n[True] Prediction: 0 True Y: 0\n[True] Prediction: 3 True Y: 3\n[True] Prediction: 0 True Y: 0\n[True] Prediction: 0 True Y: 0\n[True] Prediction: 0 True Y: 0\n[True] Prediction: 0 True Y: 0\n[True] Prediction: 3 True Y: 3\n[True] Prediction: 3 True Y: 3\n[True] Prediction: 0 True Y: 0\n'''"
        }
    ], 
    "metadata": {
        "kernelspec": {
            "display_name": "Python 3.5", 
            "name": "python3", 
            "language": "python"
        }, 
        "language_info": {
            "mimetype": "text/x-python", 
            "nbconvert_exporter": "python", 
            "version": "3.5.4", 
            "name": "python", 
            "file_extension": ".py", 
            "pygments_lexer": "ipython3", 
            "codemirror_mode": {
                "version": 3, 
                "name": "ipython"
            }
        }
    }, 
    "nbformat": 4
}