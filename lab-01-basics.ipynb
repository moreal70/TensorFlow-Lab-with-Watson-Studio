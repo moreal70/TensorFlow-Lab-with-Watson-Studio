{
    "nbformat_minor": 1, 
    "cells": [
        {
            "source": "# Getting Started With TensorFlow\nhttps://www.tensorflow.org/get_started/get_started", 
            "cell_type": "markdown", 
            "metadata": {
                "slideshow": {
                    "slide_type": "slide"
                }
            }
        }, 
        {
            "source": "## Check TF version", 
            "cell_type": "markdown", 
            "metadata": {}
        }, 
        {
            "execution_count": 1, 
            "cell_type": "code", 
            "metadata": {
                "slideshow": {
                    "slide_type": "slide"
                }
            }, 
            "outputs": [
                {
                    "execution_count": 1, 
                    "metadata": {}, 
                    "data": {
                        "text/plain": "'1.0.0'"
                    }, 
                    "output_type": "execute_result"
                }
            ], 
            "source": "import tensorflow as tf\ntf.__version__"
        }, 
        {
            "source": "## Hello TensorFlow!", 
            "cell_type": "markdown", 
            "metadata": {}
        }, 
        {
            "execution_count": 2, 
            "cell_type": "code", 
            "metadata": {}, 
            "outputs": [
                {
                    "output_type": "stream", 
                    "name": "stdout", 
                    "text": "b'Hello, TensorFlow!'\n"
                }
            ], 
            "source": "# Create a constant op\n# This op is added as a node to the default graph\nhello = tf.constant(\"Hello, TensorFlow!\")\n\n# start a TF session\nsess = tf.Session()\n\n# run the op and get result\nprint(sess.run(hello))"
        }, 
        {
            "source": "## Tensors", 
            "cell_type": "markdown", 
            "metadata": {
                "slideshow": {
                    "slide_type": "slide"
                }
            }
        }, 
        {
            "execution_count": 3, 
            "cell_type": "code", 
            "metadata": {
                "slideshow": {
                    "slide_type": "slide"
                }
            }, 
            "outputs": [
                {
                    "execution_count": 3, 
                    "metadata": {}, 
                    "data": {
                        "text/plain": "[[[1.0, 2.0, 3.0]], [[7.0, 8.0, 9.0]]]"
                    }, 
                    "output_type": "execute_result"
                }
            ], 
            "source": "3 # a rank 0 tensor; this is a scalar with shape []\n[1. ,2., 3.] # a rank 1 tensor; this is a vector with shape [3]\n[[1., 2., 3.], [4., 5., 6.]] # a rank 2 tensor; a matrix with shape [2, 3]\n[[[1., 2., 3.]], [[7., 8., 9.]]] # a rank 3 tensor with shape [2, 1, 3]"
        }, 
        {
            "source": "## Computational Graph", 
            "cell_type": "markdown", 
            "metadata": {}
        }, 
        {
            "execution_count": 4, 
            "cell_type": "code", 
            "metadata": {}, 
            "outputs": [], 
            "source": "node1 = tf.constant(3.0, tf.float32)\nnode2 = tf.constant(4.0) # also tf.float32 implicitly\nnode3 = tf.add(node1, node2)"
        }, 
        {
            "execution_count": 5, 
            "cell_type": "code", 
            "metadata": {
                "scrolled": true
            }, 
            "outputs": [
                {
                    "output_type": "stream", 
                    "name": "stdout", 
                    "text": "node1: Tensor(\"Const_1:0\", shape=(), dtype=float32) node2: Tensor(\"Const_2:0\", shape=(), dtype=float32)\nnode3:  Tensor(\"Add:0\", shape=(), dtype=float32)\n"
                }
            ], 
            "source": "print(\"node1:\", node1, \"node2:\", node2)\nprint(\"node3: \", node3)"
        }, 
        {
            "source": "![Graph](https://www.tensorflow.org/images/getting_started_adder.png)", 
            "cell_type": "markdown", 
            "metadata": {}
        }, 
        {
            "execution_count": 6, 
            "cell_type": "code", 
            "metadata": {
                "scrolled": true
            }, 
            "outputs": [
                {
                    "output_type": "stream", 
                    "name": "stdout", 
                    "text": "sess.run(node1, node2):  [3.0, 4.0]\nsess.run(node3):  7.0\n"
                }
            ], 
            "source": "sess = tf.Session()\nprint(\"sess.run(node1, node2): \", sess.run([node1, node2]))\nprint(\"sess.run(node3): \", sess.run(node3))"
        }, 
        {
            "execution_count": 7, 
            "cell_type": "code", 
            "metadata": {}, 
            "outputs": [
                {
                    "output_type": "stream", 
                    "name": "stdout", 
                    "text": "7.5\n[ 3.  7.]\n"
                }
            ], 
            "source": "a = tf.placeholder(tf.float32)\nb = tf.placeholder(tf.float32)\nadder_node = a + b  # + provides a shortcut for tf.add(a, b)\n\nprint(sess.run(adder_node, feed_dict={a: 3, b: 4.5}))\nprint(sess.run(adder_node, feed_dict={a: [1,3], b: [2, 4]}))"
        }, 
        {
            "execution_count": 8, 
            "cell_type": "code", 
            "metadata": {}, 
            "outputs": [
                {
                    "output_type": "stream", 
                    "name": "stdout", 
                    "text": "22.5\n"
                }
            ], 
            "source": "add_and_triple = adder_node * 3.\nprint(sess.run(add_and_triple, feed_dict={a: 3, b:4.5}))"
        }
    ], 
    "metadata": {
        "kernelspec": {
            "display_name": "Python 3.5", 
            "name": "python3", 
            "language": "python"
        }, 
        "language_info": {
            "mimetype": "text/x-python", 
            "nbconvert_exporter": "python", 
            "version": "3.5.4", 
            "name": "python", 
            "file_extension": ".py", 
            "pygments_lexer": "ipython3", 
            "codemirror_mode": {
                "version": 3, 
                "name": "ipython"
            }
        }
    }, 
    "nbformat": 4
}