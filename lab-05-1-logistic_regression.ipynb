{
    "nbformat_minor": 2, 
    "cells": [
        {
            "source": "---\n* *** \uc6d0\ubcf8 \uc18c\uc2a4\ub294 \ud64d\ucf69\uacfc\uae30\ub300 \uae40\uc131\ud6c8 \uad50\uc218\ub2d8\uc758  [Github link](https://github.com/hunkim/DeepLearningZeroToAll)\ub97c \ucc38\uc870\ud558\uc138\uc694 ***     \n* *** Watson studio notebook \uc5d0\uc11c \uc791\uc5c5 \uac00\ub2a5\ud558\ub3c4\ub85d \uc218\uc815\ud558\uc600\uc73c\uba70***\n* *** \ud55c\uae00\ub85c \uc124\uba85\ub41c \ubd80\ubd84\uc740 \uc81c\uac00 \uc2a4\ud130\ub514 \ud558\uba74\uc11c \uc774\ud574\ud55c \ub0b4\uc6a9\uc744 \ucd94\uac00\ud55c \uac83\uc785\ub2c8\ub2e4. ***\n---", 
            "cell_type": "markdown", 
            "metadata": {}
        }, 
        {
            "source": "# Lab 5 Logistic Regression Classifier\n\n* ***sigmoid \ud568\uc218\ub97c \uc368\uc11c \ucd5c\uc885 \uc608\uce21 \uacb0\uacfc\uac00 0 or 1 \uac12\uc774 \ub098\uc624\ub3c4\ub85d \ud569\ub2c8\ub2e4.***\n\n", 
            "cell_type": "markdown", 
            "metadata": {}
        }, 
        {
            "execution_count": 1, 
            "cell_type": "code", 
            "metadata": {}, 
            "outputs": [], 
            "source": "import tensorflow as tf\ntf.set_random_seed(777)  # for reproducibility\n\nx_data = [[1, 2],\n          [2, 3],\n          [3, 1],\n          [4, 3],\n          [5, 3],\n          [6, 2]]\ny_data = [[0],\n          [0],\n          [0],\n          [1],\n          [1],\n          [1]]\n\n# placeholders for a tensor that will be always fed.\nX = tf.placeholder(tf.float32, shape=[None, 2])\nY = tf.placeholder(tf.float32, shape=[None, 1])\n\nW = tf.Variable(tf.random_normal([2, 1]), name='weight')\nb = tf.Variable(tf.random_normal([1]), name='bias')"
        }, 
        {
            "source": "* ***\uc55e\uc11c \uc0ac\uc6a9\ud588\ub358 Hypothesis\ub97c sigmoid \ud568\uc218\uc5d0 \ud1b5\uacfc\uc2dc\ucf1c\uc11c, \uacb0\uacfc\uc801\uc73c\ub85c 0~1 \uc0ac\uc774\uc758 \uac12\uc774 \ub098\uc624\ub3c4\ub85d \ud55c\ub2e4.***\n<img src=\"https://github.com/moreal70/TensorFlow-Lab-with-Watson-Studio/raw/master/images/sigmoid.png\" width=\"200\">\n\n* ***sigmoid \ud568\uc218\uc5d0 \ub9de\ub294 cost \uacc4\uc0b0\uc2dd***\n<img src=\"https://github.com/moreal70/TensorFlow-Lab-with-Watson-Studio/raw/master/images/sigmoid_cost.png\" width=\"400\">\n", 
            "cell_type": "markdown", 
            "metadata": {}
        }, 
        {
            "execution_count": 2, 
            "cell_type": "code", 
            "metadata": {}, 
            "outputs": [], 
            "source": "# Hypothesis using sigmoid: tf.div(1., 1. + tf.exp(tf.matmul(X, W)))\nhypothesis = tf.sigmoid(tf.matmul(X, W) + b)\n\n# cost/loss function\ncost = -tf.reduce_mean(Y * tf.log(hypothesis) + (1 - Y) * tf.log(1 - hypothesis))\n\ntrain = tf.train.GradientDescentOptimizer(learning_rate=0.01).minimize(cost)"
        }, 
        {
            "execution_count": 3, 
            "cell_type": "code", 
            "metadata": {}, 
            "outputs": [
                {
                    "output_type": "stream", 
                    "name": "stdout", 
                    "text": "1.0\nTrue\n"
                }
            ], 
            "source": "# check : cast boolean \uc740 \ucc38\uc774\uba74 1 \uc744 return \ud568\nsess = tf.Session()\nsess.run(tf.global_variables_initializer())\nprint(sess.run(tf.cast(10 > 1,dtype=tf.float32)))\nprint(sess.run(tf.equal(1, 1)))"
        }, 
        {
            "source": "* ***predicted \ub294 0.5 \ubcf4\ub2e4 \ud06c\uba74 1\ub85c casting \ub429\ub2c8\ub2e4.***\n* ***\uc608\uce21 \uac12\uacfc Y \uac12\uc744 \ube44\uad50\ud574\uc11c 1\ub85c \uac19\uc73c\uba74  1 \uc774 return \ub418\ub294\ub370, \uc804\uccb4\uc5d0 \ud3c9\uade0\uc744 \ub0b4\uba74 \uc815\ud655\ub3c4\uac00 \ub429\ub2c8\ub2e4.***", 
            "cell_type": "markdown", 
            "metadata": {}
        }, 
        {
            "execution_count": 4, 
            "cell_type": "code", 
            "metadata": {}, 
            "outputs": [], 
            "source": "# Accuracy computation\n# True if hypothesis>0.5 else False\npredicted = tf.cast(hypothesis > 0.5, dtype=tf.float32)\naccuracy = tf.reduce_mean(tf.cast(tf.equal(predicted, Y), dtype=tf.float32))"
        }, 
        {
            "source": "* ***Learning \uc744 \ub9c8\uce58\uace0, accuracy \ub97c \uacc4\uc0b0\ud569\ub2c8\ub2e4.***", 
            "cell_type": "markdown", 
            "metadata": {}
        }, 
        {
            "execution_count": 5, 
            "cell_type": "code", 
            "metadata": {}, 
            "outputs": [
                {
                    "output_type": "stream", 
                    "name": "stdout", 
                    "text": "0 1.73078\n500 0.48754\n1000 0.428571\n1500 0.390923\n2000 0.359993\n2500 0.33313\n3000 0.309481\n3500 0.288563\n4000 0.27\n4500 0.253471\n5000 0.238703\n5500 0.225457\n6000 0.213532\n6500 0.202755\n7000 0.192979\n7500 0.184081\n8000 0.175952\n8500 0.168502\n9000 0.161653\n9500 0.155336\n10000 0.149496\n\nHypothesis: \n  [[ 0.03074029]\n [ 0.15884677]\n [ 0.30486736]\n [ 0.78138196]\n [ 0.93957496]\n [ 0.98016882]] \nCorrect (Y): \n  [[ 0.]\n [ 0.]\n [ 0.]\n [ 1.]\n [ 1.]\n [ 1.]] \nAccuracy: \n 1.0\n"
                }
            ], 
            "source": "# Launch graph\nwith tf.Session() as sess:\n    # Initialize TensorFlow variables\n    sess.run(tf.global_variables_initializer())\n\n    for step in range(10001):\n        cost_val, _ = sess.run([cost, train], feed_dict={X: x_data, Y: y_data})\n        if step % 500 == 0:\n            print(step, cost_val)\n    # Accuracy report\n    h, c, a = sess.run([hypothesis, predicted, accuracy], feed_dict={X: x_data, Y: y_data})\n    print(\"\\nHypothesis: \\n \", h, \"\\nCorrect (Y): \\n \", c, \"\\nAccuracy: \\n\", a)\n"
        }, 
        {
            "execution_count": 2, 
            "cell_type": "code", 
            "metadata": {}, 
            "outputs": [
                {
                    "execution_count": 2, 
                    "metadata": {}, 
                    "data": {
                        "text/plain": "'\\n0 1.73078\\n200 0.571512\\n400 0.507414\\n600 0.471824\\n800 0.447585\\n...\\n9200 0.159066\\n9400 0.15656\\n9600 0.154132\\n9800 0.151778\\n10000 0.149496\\n\\nHypothesis:  [[ 0.03074029]\\n [ 0.15884677]\\n [ 0.30486736]\\n [ 0.78138196]\\n [ 0.93957496]\\n [ 0.98016882]]\\nCorrect (Y):  [[ 0.]\\n [ 0.]\\n [ 0.]\\n [ 1.]\\n [ 1.]\\n [ 1.]]\\nAccuracy:  1.0\\n'"
                    }, 
                    "output_type": "execute_result"
                }
            ], 
            "source": "'''\n0 1.73078\n200 0.571512\n400 0.507414\n600 0.471824\n800 0.447585\n...\n9200 0.159066\n9400 0.15656\n9600 0.154132\n9800 0.151778\n10000 0.149496\n\nHypothesis:  [[ 0.03074029]\n [ 0.15884677]\n [ 0.30486736]\n [ 0.78138196]\n [ 0.93957496]\n [ 0.98016882]]\nCorrect (Y):  [[ 0.]\n [ 0.]\n [ 0.]\n [ 1.]\n [ 1.]\n [ 1.]]\nAccuracy:  1.0\n'''"
        }
    ], 
    "metadata": {
        "kernelspec": {
            "display_name": "Python 3.5", 
            "name": "python3", 
            "language": "python"
        }, 
        "language_info": {
            "mimetype": "text/x-python", 
            "nbconvert_exporter": "python", 
            "version": "3.5.4", 
            "name": "python", 
            "file_extension": ".py", 
            "pygments_lexer": "ipython3", 
            "codemirror_mode": {
                "version": 3, 
                "name": "ipython"
            }
        }
    }, 
    "nbformat": 4
}