{
    "nbformat_minor": 2, 
    "cells": [
        {
            "source": "---\n* *** \uc6d0\ubcf8 \uc18c\uc2a4\ub294 \ud64d\ucf69\uacfc\uae30\ub300 \uae40\uc131\ud6c8 \uad50\uc218\ub2d8\uc758  [Github link](https://github.com/hunkim/DeepLearningZeroToAll)\ub97c \ucc38\uc870\ud558\uc138\uc694 ***     \n* *** Watson studio notebook \uc5d0\uc11c \uc791\uc5c5 \uac00\ub2a5\ud558\ub3c4\ub85d \uc218\uc815\ud558\uc600\uc73c\uba70***\n* *** \ud55c\uae00\ub85c \uc124\uba85\ub41c \ubd80\ubd84\uc740 \uc81c\uac00 \uc2a4\ud130\ub514 \ud558\uba74\uc11c \uc774\ud574\ud55c \ub0b4\uc6a9\uc744 \ucd94\uac00\ud55c \uac83\uc785\ub2c8\ub2e4. ***\n---", 
            "cell_type": "markdown", 
            "metadata": {}
        }, 
        {
            "execution_count": null, 
            "cell_type": "code", 
            "metadata": {}, 
            "outputs": [], 
            "source": "# http://blog.aloni.org/posts/backprop-with-tensorflow/\n# https://medium.com/@karpathy/yes-you-should-understand-backprop-e2f06eab496b#.b3rvzhx89\nimport tensorflow as tf\n\ntf.set_random_seed(777)  # reproducibility\n\n# Check out https://www.tensorflow.org/get_started/mnist/beginners for\n# more information about the mnist dataset\nfrom tensorflow.examples.tutorials.mnist import input_data\nmnist = input_data.read_data_sets(\"MNIST_data/\", one_hot=True)\n\nX = tf.placeholder(tf.float32, [None, 784])\nY = tf.placeholder(tf.float32, [None, 10])\n\nw1 = tf.Variable(tf.truncated_normal([784, 30]))\nb1 = tf.Variable(tf.truncated_normal([1, 30]))\nw2 = tf.Variable(tf.truncated_normal([30, 10]))\nb2 = tf.Variable(tf.truncated_normal([1, 10]))"
        }, 
        {
            "execution_count": null, 
            "cell_type": "code", 
            "metadata": {}, 
            "outputs": [], 
            "source": "def sigma(x):\n    #  sigmoid function\n    return tf.div(tf.constant(1.0),\n                  tf.add(tf.constant(1.0), tf.exp(-x)))\n\n\ndef sigma_prime(x):\n    # derivative of the sigmoid function\n    return sigma(x) * (1 - sigma(x))"
        }, 
        {
            "execution_count": null, 
            "cell_type": "code", 
            "metadata": {}, 
            "outputs": [], 
            "source": "# Forward prop\nl1 = tf.add(tf.matmul(X, w1), b1)\na1 = sigma(l1)\nl2 = tf.add(tf.matmul(a1, w2), b2)\ny_pred = sigma(l2)\n\n# diff\nassert y_pred.shape.as_list() == Y.shape.as_list()\ndiff = (y_pred - Y)"
        }, 
        {
            "execution_count": null, 
            "cell_type": "code", 
            "metadata": {}, 
            "outputs": [], 
            "source": "# Back prop (chain rule)\nd_l2 = diff * sigma_prime(l2)\nd_b2 = d_l2\nd_w2 = tf.matmul(tf.transpose(a1), d_l2)\n\nd_a1 = tf.matmul(d_l2, tf.transpose(w2))\nd_l1 = d_a1 * sigma_prime(l1)\nd_b1 = d_l1\nd_w1 = tf.matmul(tf.transpose(X), d_l1)\n\n\n# Updating network using gradients\nlearning_rate = 0.5\nstep = [\n    tf.assign(w1, w1 - learning_rate * d_w1),\n    tf.assign(b1, b1 - learning_rate *\n              tf.reduce_mean(d_b1, reduction_indices=[0])),\n    tf.assign(w2, w2 - learning_rate * d_w2),\n    tf.assign(b2, b2 - learning_rate *\n              tf.reduce_mean(d_b2, reduction_indices=[0]))\n]"
        }, 
        {
            "execution_count": null, 
            "cell_type": "code", 
            "metadata": {}, 
            "outputs": [], 
            "source": "# 7. Running and testing the training process\nacct_mat = tf.equal(tf.argmax(y_pred, 1), tf.argmax(Y, 1))\nacct_res = tf.reduce_sum(tf.cast(acct_mat, tf.float32))\n\nsess = tf.InteractiveSession()\nsess.run(tf.global_variables_initializer())\n\nfor i in range(10000):\n    batch_xs, batch_ys = mnist.train.next_batch(10)\n    sess.run(step, feed_dict={X: batch_xs,\n                              Y: batch_ys})\n    if i % 1000 == 0:\n        res = sess.run(acct_res, feed_dict={X: mnist.test.images[:1000],\n                                            Y: mnist.test.labels[:1000]})\n        print(res)"
        }, 
        {
            "execution_count": null, 
            "cell_type": "code", 
            "metadata": {}, 
            "outputs": [], 
            "source": "# 8. Automatic differentiation in TensorFlow\ncost = diff * diff\nstep = tf.train.GradientDescentOptimizer(0.1).minimize(cost)"
        }
    ], 
    "metadata": {
        "kernelspec": {
            "display_name": "Python 3.5", 
            "name": "python3", 
            "language": "python"
        }, 
        "language_info": {
            "mimetype": "text/x-python", 
            "nbconvert_exporter": "python", 
            "version": "3.5.4", 
            "name": "python", 
            "file_extension": ".py", 
            "pygments_lexer": "ipython3", 
            "codemirror_mode": {
                "version": 3, 
                "name": "ipython"
            }
        }
    }, 
    "nbformat": 4
}
