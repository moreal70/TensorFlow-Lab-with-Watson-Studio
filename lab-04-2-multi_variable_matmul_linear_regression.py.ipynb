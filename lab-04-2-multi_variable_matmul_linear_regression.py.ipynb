{
    "nbformat_minor": 2, 
    "cells": [
        {
            "source": "---\n* *** \uc6d0\ubcf8 \uc18c\uc2a4\ub294 \ud64d\ucf69\uacfc\uae30\ub300 \uae40\uc131\ud6c8 \uad50\uc218\ub2d8\uc758  [Github link](https://github.com/hunkim/DeepLearningZeroToAll)\ub97c \ucc38\uc870\ud558\uc138\uc694 ***     \n* *** Watson studio notebook \uc5d0\uc11c \uc791\uc5c5 \uac00\ub2a5\ud558\ub3c4\ub85d \uc218\uc815\ud558\uc600\uc73c\uba70***\n* *** \ud55c\uae00\ub85c \uc124\uba85\ub41c \ubd80\ubd84\uc740 \uc81c\uac00 \uc2a4\ud130\ub514 \ud558\uba74\uc11c \uc774\ud574\ud55c \ub0b4\uc6a9\uc744 \ucd94\uac00\ud55c \uac83\uc785\ub2c8\ub2e4. ***\n---", 
            "cell_type": "markdown", 
            "metadata": {}
        }, 
        {
            "source": "# Lab 4 Multi-variable-matmul linear regression\n* ***\uc55e\uc5d0 Lab \ud558\uace0 \ub2e4\ub978 \uac83\uc740 input varialbe \uc744 matrix \ub85c \ucc98\ub9ac\ud588\ub2e4\ub294 \uac83\uc785\ub2c8\ub2e4. ***", 
            "cell_type": "markdown", 
            "metadata": {}
        }, 
        {
            "execution_count": 1, 
            "cell_type": "code", 
            "metadata": {}, 
            "outputs": [], 
            "source": "import tensorflow as tf\ntf.set_random_seed(777)  # for reproducibility\n\nx_data = [[73., 80., 75.],\n          [93., 88., 93.],\n          [89., 91., 90.],\n          [96., 98., 100.],\n          [73., 66., 70.]]\ny_data = [[152.],\n          [185.],\n          [180.],\n          [196.],\n          [142.]]"
        }, 
        {
            "source": "* ***matrix \ub97c \uc0ac\uc6a9\ud55c \ub355\ubd84\uc5d0 hypothesis \uacc4\uc0b0\uc2dd\uc774 \uc880\ub354 \uac04\uacb0\ud558\uac8c \ucc98\ub9ac\ub418\uc5c8\uc2b5\ub2c8\ub2e4.***", 
            "cell_type": "markdown", 
            "metadata": {}
        }, 
        {
            "execution_count": 2, 
            "cell_type": "code", 
            "metadata": {}, 
            "outputs": [], 
            "source": "# placeholders for a tensor that will be always fed.\nX = tf.placeholder(tf.float32, shape=[None, 3])\nY = tf.placeholder(tf.float32, shape=[None, 1])\n\nW = tf.Variable(tf.random_normal([3, 1]), name='weight')\nb = tf.Variable(tf.random_normal([1]), name='bias')\n\n# Hypothesis\nhypothesis = tf.matmul(X, W) + b\n\n# Simplified cost/loss function\ncost = tf.reduce_mean(tf.square(hypothesis - Y))\n\n# Minimize\noptimizer = tf.train.GradientDescentOptimizer(learning_rate=1e-5)\ntrain = optimizer.minimize(cost)\n\n#%%\n# Launch the graph in a session.\nsess = tf.Session()\n# Initializes global variables in the graph.\nsess.run(tf.global_variables_initializer())"
        }, 
        {
            "source": "* ***Learning ***", 
            "cell_type": "markdown", 
            "metadata": {}
        }, 
        {
            "execution_count": 3, 
            "cell_type": "code", 
            "metadata": {}, 
            "outputs": [
                {
                    "output_type": "stream", 
                    "name": "stdout", 
                    "text": "0 Cost -- 22656.0 -- Prediction -- [[ 22.04806328]\n [ 21.61978722]\n [ 24.09669304]\n [ 22.29300499]\n [ 18.6339016 ]]\n100 Cost -- 5.64717 -- Prediction -- [[ 155.50875854]\n [ 182.17552185]\n [ 182.21853638]\n [ 194.49935913]\n [ 141.12081909]]\n200 Cost -- 5.44923 -- Prediction -- [[ 155.43310547]\n [ 182.22671509]\n [ 182.19451904]\n [ 194.48852539]\n [ 141.18247986]]\n300 Cost -- 5.26125 -- Prediction -- [[ 155.35939026]\n [ 182.27655029]\n [ 182.17105103]\n [ 194.4781189 ]\n [ 141.24237061]]\n400 Cost -- 5.08273 -- Prediction -- [[ 155.28761292]\n [ 182.32514954]\n [ 182.14820862]\n [ 194.46817017]\n [ 141.3006134 ]]\n500 Cost -- 4.91324 -- Prediction -- [[ 155.21765137]\n [ 182.37245178]\n [ 182.1259613 ]\n [ 194.45858765]\n [ 141.35717773]]\n600 Cost -- 4.75221 -- Prediction -- [[ 155.1494751 ]\n [ 182.41851807]\n [ 182.10421753]\n [ 194.44935608]\n [ 141.41215515]]\n700 Cost -- 4.59925 -- Prediction -- [[ 155.08305359]\n [ 182.46339417]\n [ 182.08305359]\n [ 194.4405365 ]\n [ 141.46557617]]\n800 Cost -- 4.4539 -- Prediction -- [[ 155.01835632]\n [ 182.5071106 ]\n [ 182.06236267]\n [ 194.43208313]\n [ 141.51747131]]\n900 Cost -- 4.31582 -- Prediction -- [[ 154.95529175]\n [ 182.54966736]\n [ 182.04219055]\n [ 194.42393494]\n [ 141.56788635]]\n1000 Cost -- 4.18461 -- Prediction -- [[ 154.8938446 ]\n [ 182.59112549]\n [ 182.02253723]\n [ 194.41615295]\n [ 141.61683655]]\n1100 Cost -- 4.05985 -- Prediction -- [[ 154.83396912]\n [ 182.63153076]\n [ 182.00337219]\n [ 194.40873718]\n [ 141.66442871]]\n1200 Cost -- 3.94127 -- Prediction -- [[ 154.77561951]\n [ 182.67086792]\n [ 181.98466492]\n [ 194.40162659]\n [ 141.71064758]]\n1300 Cost -- 3.82856 -- Prediction -- [[ 154.71881104]\n [ 182.70921326]\n [ 181.96643066]\n [ 194.39483643]\n [ 141.75556946]]\n1400 Cost -- 3.72131 -- Prediction -- [[ 154.66337585]\n [ 182.74653625]\n [ 181.94859314]\n [ 194.38832092]\n [ 141.79914856]]\n1500 Cost -- 3.61934 -- Prediction -- [[ 154.60939026]\n [ 182.78291321]\n [ 181.93125916]\n [ 194.38215637]\n [ 141.84152222]]\n1600 Cost -- 3.52233 -- Prediction -- [[ 154.55677795]\n [ 182.81832886]\n [ 181.91429138]\n [ 194.37625122]\n [ 141.88265991]]\n1700 Cost -- 3.43001 -- Prediction -- [[ 154.50549316]\n [ 182.85284424]\n [ 181.89775085]\n [ 194.37063599]\n [ 141.92260742]]\n1800 Cost -- 3.34214 -- Prediction -- [[ 154.45550537]\n [ 182.88650513]\n [ 181.88163757]\n [ 194.36529541]\n [ 141.96141052]]\n1900 Cost -- 3.2585 -- Prediction -- [[ 154.40675354]\n [ 182.91923523]\n [ 181.86587524]\n [ 194.36019897]\n [ 141.99906921]]\n2000 Cost -- 3.17888 -- Prediction -- [[ 154.35929871]\n [ 182.95117188]\n [ 181.8505249 ]\n [ 194.35540771]\n [ 142.03565979]]\n"
                }
            ], 
            "source": "for step in range(2001):\n    cost_val, hy_val, _ = sess.run(\n        [cost, hypothesis, train], feed_dict={X: x_data, Y: y_data})\n    if step % 100 == 0:\n        print(step, \"Cost --\", cost_val, \"-- Prediction --\", hy_val)"
        }
    ], 
    "metadata": {
        "kernelspec": {
            "display_name": "Python 3.5", 
            "name": "python3", 
            "language": "python"
        }, 
        "language_info": {
            "mimetype": "text/x-python", 
            "nbconvert_exporter": "python", 
            "version": "3.5.4", 
            "name": "python", 
            "file_extension": ".py", 
            "pygments_lexer": "ipython3", 
            "codemirror_mode": {
                "version": 3, 
                "name": "ipython"
            }
        }
    }, 
    "nbformat": 4
}